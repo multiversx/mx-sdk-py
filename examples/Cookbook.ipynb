{
 "cells": [
  {
   "cell_type": "code",
   "execution_count": 1,
   "metadata": {},
   "outputs": [],
   "source": [
    "import sys\n",
    "sys.path.append(\"..\")  # Add the parent directory of 'examples' to the Python path\n"
   ]
  },
  {
   "cell_type": "markdown",
   "metadata": {},
   "source": [
    "## Addresses"
   ]
  },
  {
   "cell_type": "markdown",
   "metadata": {},
   "source": [
    "Create an `Address` object from a _bech32-encoded_ string:"
   ]
  },
  {
   "cell_type": "code",
   "execution_count": 2,
   "metadata": {},
   "outputs": [
    {
     "name": "stdout",
     "output_type": "stream",
     "text": [
      "Address (bech32-encoded) erd1qyu5wthldzr8wx5c9ucg8kjagg0jfs53s8nr3zpz3hypefsdd8ssycr6th\n",
      "Public key (hex-encoded): 0139472eff6886771a982f3083da5d421f24c29181e63888228dc81ca60d69e1\n",
      "Public key (hex-encoded): 0139472eff6886771a982f3083da5d421f24c29181e63888228dc81ca60d69e1\n"
     ]
    }
   ],
   "source": [
    "from multiversx_sdk.core import Address\n",
    "\n",
    "address = Address.new_from_bech32(\"erd1qyu5wthldzr8wx5c9ucg8kjagg0jfs53s8nr3zpz3hypefsdd8ssycr6th\")\n",
    "\n",
    "print(\"Address (bech32-encoded)\", address.to_bech32())\n",
    "print(\"Public key (hex-encoded):\", address.to_hex())\n",
    "print(\"Public key (hex-encoded):\", address.pubkey.hex())"
   ]
  },
  {
   "cell_type": "markdown",
   "metadata": {},
   "source": [
    "... or from a _hex-encoded_ string - note that you have to provide the address prefix, also known as the **HRP** (_human-readable part_ of the address):"
   ]
  },
  {
   "cell_type": "code",
   "execution_count": 3,
   "metadata": {},
   "outputs": [],
   "source": [
    "address = Address.new_from_hex(\"0139472eff6886771a982f3083da5d421f24c29181e63888228dc81ca60d69e1\", \"erd\")"
   ]
  },
  {
   "cell_type": "markdown",
   "metadata": {},
   "source": [
    "... or from a raw public key:"
   ]
  },
  {
   "cell_type": "code",
   "execution_count": 4,
   "metadata": {},
   "outputs": [],
   "source": [
    "pubkey = bytes.fromhex(\"0139472eff6886771a982f3083da5d421f24c29181e63888228dc81ca60d69e1\")\n",
    "address = Address(pubkey, \"erd\")"
   ]
  },
  {
   "cell_type": "markdown",
   "metadata": {},
   "source": [
    "Alternatively, you can use an `AddressFactory` (initialized with a specific **HRP**) to create addresses:"
   ]
  },
  {
   "cell_type": "code",
   "execution_count": 5,
   "metadata": {},
   "outputs": [],
   "source": [
    "from multiversx_sdk.core import AddressFactory\n",
    "\n",
    "factory = AddressFactory(\"erd\")\n",
    "\n",
    "address = factory.create_from_bech32(\"erd1qyu5wthldzr8wx5c9ucg8kjagg0jfs53s8nr3zpz3hypefsdd8ssycr6th\")\n",
    "address = factory.create_from_hex(\"0139472eff6886771a982f3083da5d421f24c29181e63888228dc81ca60d69e1\")\n",
    "address = factory.create_from_public_key(bytes.fromhex(\"0139472eff6886771a982f3083da5d421f24c29181e63888228dc81ca60d69e1\"))"
   ]
  },
  {
   "cell_type": "markdown",
   "metadata": {},
   "source": [
    "Addresses can be converted from one representation to another as follows:"
   ]
  },
  {
   "cell_type": "code",
   "execution_count": 6,
   "metadata": {},
   "outputs": [
    {
     "name": "stdout",
     "output_type": "stream",
     "text": [
      "erd1qyu5wthldzr8wx5c9ucg8kjagg0jfs53s8nr3zpz3hypefsdd8ssycr6th\n",
      "0139472eff6886771a982f3083da5d421f24c29181e63888228dc81ca60d69e1\n"
     ]
    }
   ],
   "source": [
    "print(address.to_bech32())\n",
    "print(address.to_hex())"
   ]
  },
  {
   "cell_type": "markdown",
   "metadata": {},
   "source": [
    "Getting the shard of an address:"
   ]
  },
  {
   "cell_type": "code",
   "execution_count": 7,
   "metadata": {},
   "outputs": [
    {
     "name": "stdout",
     "output_type": "stream",
     "text": [
      "Shard: 1\n"
     ]
    }
   ],
   "source": [
    "from multiversx_sdk.core import AddressComputer\n",
    "\n",
    "address_computer = AddressComputer(number_of_shards=3)\n",
    "print(\"Shard:\", address_computer.get_shard_of_address(address))"
   ]
  },
  {
   "cell_type": "markdown",
   "metadata": {},
   "source": [
    "Checking whether an address is a smart contract:"
   ]
  },
  {
   "cell_type": "code",
   "execution_count": 8,
   "metadata": {},
   "outputs": [
    {
     "name": "stdout",
     "output_type": "stream",
     "text": [
      "Is contract: True\n"
     ]
    }
   ],
   "source": [
    "address = Address.new_from_bech32(\"erd1qqqqqqqqqqqqqpgquzmh78klkqwt0p4rjys0qtp3la07gz4d396qn50nnm\")\n",
    "\n",
    "print(\"Is contract:\", address.is_smart_contract())"
   ]
  },
  {
   "cell_type": "markdown",
   "metadata": {},
   "source": [
    "## EGLD / ESDT transfers"
   ]
  },
  {
   "cell_type": "markdown",
   "metadata": {},
   "source": [
    "Create an EGLD transfer:"
   ]
  },
  {
   "cell_type": "code",
   "execution_count": 9,
   "metadata": {},
   "outputs": [
    {
     "name": "stdout",
     "output_type": "stream",
     "text": [
      "{'chain_id': 'D', 'sender': 'erd1qyu5wthldzr8wx5c9ucg8kjagg0jfs53s8nr3zpz3hypefsdd8ssycr6th', 'receiver': 'erd1spyavw0956vq68xj8y4tenjpq2wd5a9p2c6j8gsz7ztyrnpxrruqzu66jx', 'gas_limit': 50000, 'nonce': 77, 'value': 1000000000000000000, 'data': b'', 'signature': b'', 'sender_username': '', 'receiver_username': '', 'gas_price': 1000000000, 'version': 2, 'options': 0, 'guardian': '', 'guardian_signature': b''}\n"
     ]
    }
   ],
   "source": [
    "from multiversx_sdk.core import Transaction\n",
    "\n",
    "transaction = Transaction(\n",
    "    sender=\"erd1qyu5wthldzr8wx5c9ucg8kjagg0jfs53s8nr3zpz3hypefsdd8ssycr6th\",\n",
    "    receiver=\"erd1spyavw0956vq68xj8y4tenjpq2wd5a9p2c6j8gsz7ztyrnpxrruqzu66jx\",\n",
    "    gas_limit=50000,\n",
    "    chain_id=\"D\",\n",
    "    nonce=77,\n",
    "    value=1000000000000000000\n",
    ")\n",
    "\n",
    "print(transaction.__dict__)"
   ]
  },
  {
   "cell_type": "markdown",
   "metadata": {},
   "source": [
    "In case you are using a **guarded** account you should also populate the `guardian` and `guardian_signature` fields after creating the transaction."
   ]
  },
  {
   "cell_type": "markdown",
   "metadata": {},
   "source": [
    "We'll see later how to [sign](#signing-objects) and [broadcast](#broadcasting-transactions) a transaction."
   ]
  },
  {
   "cell_type": "markdown",
   "metadata": {},
   "source": [
    "Create an EGLD transfer, but this time with a payload (data):"
   ]
  },
  {
   "cell_type": "code",
   "execution_count": 10,
   "metadata": {},
   "outputs": [
    {
     "name": "stdout",
     "output_type": "stream",
     "text": [
      "{'chain_id': 'D', 'sender': 'erd1qyu5wthldzr8wx5c9ucg8kjagg0jfs53s8nr3zpz3hypefsdd8ssycr6th', 'receiver': 'erd1spyavw0956vq68xj8y4tenjpq2wd5a9p2c6j8gsz7ztyrnpxrruqzu66jx', 'gas_limit': 50000, 'nonce': 77, 'value': 1000000000000000000, 'data': b'for the book', 'signature': b'', 'sender_username': '', 'receiver_username': '', 'gas_price': 1000000000, 'version': 2, 'options': 0, 'guardian': '', 'guardian_signature': b''}\n"
     ]
    }
   ],
   "source": [
    "transaction = Transaction(\n",
    "    sender=\"erd1qyu5wthldzr8wx5c9ucg8kjagg0jfs53s8nr3zpz3hypefsdd8ssycr6th\",\n",
    "    receiver=\"erd1spyavw0956vq68xj8y4tenjpq2wd5a9p2c6j8gsz7ztyrnpxrruqzu66jx\",\n",
    "    gas_limit=50000,\n",
    "    chain_id=\"D\",\n",
    "    nonce=77,\n",
    "    value=1000000000000000000,\n",
    "    data=b\"for the book\"\n",
    ")\n",
    "\n",
    "print(transaction.__dict__)"
   ]
  },
  {
   "cell_type": "markdown",
   "metadata": {},
   "source": [
    "Alternatively, we can create an EGLD transfer using a **transaction factory** (as we will see below, transaction factories are more commonly used). But before that, we have to create a configuration object (for any factory that we might use):"
   ]
  },
  {
   "cell_type": "code",
   "execution_count": 11,
   "metadata": {},
   "outputs": [],
   "source": [
    "from multiversx_sdk.core.transaction_factories import TransactionsFactoryConfig\n",
    "\n",
    "config = TransactionsFactoryConfig(chain_id=\"D\")"
   ]
  },
  {
   "cell_type": "markdown",
   "metadata": {},
   "source": [
    "The **transaction factory** is parametrized at instantiation, and the transaction is obtained by invoking the `create_transaction...` method:"
   ]
  },
  {
   "cell_type": "code",
   "execution_count": 12,
   "metadata": {},
   "outputs": [
    {
     "name": "stdout",
     "output_type": "stream",
     "text": [
      "Transaction: {'chain_id': 'D', 'sender': 'erd1qyu5wthldzr8wx5c9ucg8kjagg0jfs53s8nr3zpz3hypefsdd8ssycr6th', 'receiver': 'erd1spyavw0956vq68xj8y4tenjpq2wd5a9p2c6j8gsz7ztyrnpxrruqzu66jx', 'gas_limit': 68000, 'nonce': 0, 'value': 1000000000000000000, 'data': b'for the book', 'signature': b'', 'sender_username': '', 'receiver_username': '', 'gas_price': 1000000000, 'version': 2, 'options': 0, 'guardian': '', 'guardian_signature': b''}\n",
      "Transaction data: b'for the book'\n"
     ]
    }
   ],
   "source": [
    "from multiversx_sdk.core import TokenComputer\n",
    "from multiversx_sdk.core.transaction_factories import \\\n",
    "    TransferTransactionsFactory\n",
    "\n",
    "transfer_factory = TransferTransactionsFactory(config, TokenComputer())\n",
    "alice = Address.from_bech32(\"erd1qyu5wthldzr8wx5c9ucg8kjagg0jfs53s8nr3zpz3hypefsdd8ssycr6th\")\n",
    "bob = Address.from_bech32(\"erd1spyavw0956vq68xj8y4tenjpq2wd5a9p2c6j8gsz7ztyrnpxrruqzu66jx\")\n",
    "\n",
    "# With \"data\" field\n",
    "transaction = transfer_factory.create_transaction_for_native_token_transfer(\n",
    "    sender=alice,\n",
    "    receiver=bob,\n",
    "    native_amount=1000000000000000000,\n",
    "    data=\"for the book\"\n",
    ")\n",
    "\n",
    "print(\"Transaction:\", transaction.__dict__)\n",
    "print(\"Transaction data:\", transaction.data)"
   ]
  },
  {
   "cell_type": "markdown",
   "metadata": {},
   "source": [
    "Create a single ESDT transfer:"
   ]
  },
  {
   "cell_type": "code",
   "execution_count": 13,
   "metadata": {},
   "outputs": [
    {
     "name": "stdout",
     "output_type": "stream",
     "text": [
      "Transaction: {'chain_id': 'D', 'sender': 'erd1qyu5wthldzr8wx5c9ucg8kjagg0jfs53s8nr3zpz3hypefsdd8ssycr6th', 'receiver': 'erd1spyavw0956vq68xj8y4tenjpq2wd5a9p2c6j8gsz7ztyrnpxrruqzu66jx', 'gas_limit': 410000, 'nonce': 0, 'value': 0, 'data': b'ESDTTransfer@544553542d386230323866@2710', 'signature': b'', 'sender_username': '', 'receiver_username': '', 'gas_price': 1000000000, 'version': 2, 'options': 0, 'guardian': '', 'guardian_signature': b''}\n",
      "Transaction data: b'ESDTTransfer@544553542d386230323866@2710'\n"
     ]
    }
   ],
   "source": [
    "from multiversx_sdk.core import Token, TokenTransfer\n",
    "\n",
    "token = Token(\"TEST-8b028f\")\n",
    "transfer = TokenTransfer(token, 10000)\n",
    "\n",
    "transaction = transfer_factory.create_transaction_for_esdt_token_transfer(\n",
    "    sender=alice,\n",
    "    receiver=bob,\n",
    "    token_transfers=[transfer]\n",
    ")\n",
    "\n",
    "print(\"Transaction:\", transaction.__dict__)\n",
    "print(\"Transaction data:\", transaction.data)"
   ]
  },
  {
   "cell_type": "markdown",
   "metadata": {},
   "source": [
    "Create a single NFT transfer:\n",
    "\n",
    "Keep in mind, since we are sending a NFT, we `should` set the amount to `1`."
   ]
  },
  {
   "cell_type": "code",
   "execution_count": 14,
   "metadata": {},
   "outputs": [
    {
     "name": "stdout",
     "output_type": "stream",
     "text": [
      "Transaction: {'chain_id': 'D', 'sender': 'erd1qyu5wthldzr8wx5c9ucg8kjagg0jfs53s8nr3zpz3hypefsdd8ssycr6th', 'receiver': 'erd1qyu5wthldzr8wx5c9ucg8kjagg0jfs53s8nr3zpz3hypefsdd8ssycr6th', 'gas_limit': 1213500, 'nonce': 0, 'value': 0, 'data': b'ESDTNFTTransfer@544553542d333866323439@01@01@8049d639e5a6980d1cd2392abcce41029cda74a1563523a202f09641cc2618f8', 'signature': b'', 'sender_username': '', 'receiver_username': '', 'gas_price': 1000000000, 'version': 2, 'options': 0, 'guardian': '', 'guardian_signature': b''}\n",
      "Transaction data: b'ESDTNFTTransfer@544553542d333866323439@01@01@8049d639e5a6980d1cd2392abcce41029cda74a1563523a202f09641cc2618f8'\n"
     ]
    }
   ],
   "source": [
    "token = Token(identifier=\"TEST-38f249\", nonce=1)\n",
    "transfer = TokenTransfer(token=token, amount=1)\n",
    "\n",
    "transaction = transfer_factory.create_transaction_for_esdt_token_transfer(\n",
    "    sender=alice,\n",
    "    receiver=bob,\n",
    "    token_transfers=[transfer]\n",
    ")\n",
    "\n",
    "print(\"Transaction:\", transaction.__dict__)\n",
    "print(\"Transaction data:\", transaction.data)"
   ]
  },
  {
   "cell_type": "markdown",
   "metadata": {},
   "source": [
    "Create a single SFT transfer (almost the same as above, the only difference being that for the transfer we set the desired amount, as an integer):"
   ]
  },
  {
   "cell_type": "code",
   "execution_count": 15,
   "metadata": {},
   "outputs": [
    {
     "name": "stdout",
     "output_type": "stream",
     "text": [
      "Transaction: {'chain_id': 'D', 'sender': 'erd1qyu5wthldzr8wx5c9ucg8kjagg0jfs53s8nr3zpz3hypefsdd8ssycr6th', 'receiver': 'erd1qyu5wthldzr8wx5c9ucg8kjagg0jfs53s8nr3zpz3hypefsdd8ssycr6th', 'gas_limit': 1213500, 'nonce': 0, 'value': 0, 'data': b'ESDTNFTTransfer@53454d492d396566643066@01@05@8049d639e5a6980d1cd2392abcce41029cda74a1563523a202f09641cc2618f8', 'signature': b'', 'sender_username': '', 'receiver_username': '', 'gas_price': 1000000000, 'version': 2, 'options': 0, 'guardian': '', 'guardian_signature': b''}\n",
      "Transaction data: b'ESDTNFTTransfer@53454d492d396566643066@01@05@8049d639e5a6980d1cd2392abcce41029cda74a1563523a202f09641cc2618f8'\n"
     ]
    }
   ],
   "source": [
    "token = Token(identifier=\"SEMI-9efd0f\", nonce=1)\n",
    "transfer = TokenTransfer(token=token, amount=5)\n",
    "\n",
    "transaction = transfer_factory.create_transaction_for_esdt_token_transfer(\n",
    "    sender=alice,\n",
    "    receiver=bob,\n",
    "    token_transfers=[transfer]\n",
    ")\n",
    "\n",
    "print(\"Transaction:\", transaction.__dict__)\n",
    "print(\"Transaction data:\", transaction.data)"
   ]
  },
  {
   "cell_type": "markdown",
   "metadata": {},
   "source": [
    "Create a multiple ESDT / NFT transfer:"
   ]
  },
  {
   "cell_type": "code",
   "execution_count": 16,
   "metadata": {},
   "outputs": [
    {
     "name": "stdout",
     "output_type": "stream",
     "text": [
      "Transaction: {'chain_id': 'D', 'sender': 'erd1qyu5wthldzr8wx5c9ucg8kjagg0jfs53s8nr3zpz3hypefsdd8ssycr6th', 'receiver': 'erd1qyu5wthldzr8wx5c9ucg8kjagg0jfs53s8nr3zpz3hypefsdd8ssycr6th', 'gas_limit': 1484000, 'nonce': 0, 'value': 0, 'data': b'MultiESDTNFTTransfer@8049d639e5a6980d1cd2392abcce41029cda74a1563523a202f09641cc2618f8@02@544553542d333866323439@01@01@4241522d633830643239@@8ac7230489e80000', 'signature': b'', 'sender_username': '', 'receiver_username': '', 'gas_price': 1000000000, 'version': 2, 'options': 0, 'guardian': '', 'guardian_signature': b''}\n",
      "Transaction data: b'MultiESDTNFTTransfer@8049d639e5a6980d1cd2392abcce41029cda74a1563523a202f09641cc2618f8@02@544553542d333866323439@01@01@4241522d633830643239@@8ac7230489e80000'\n"
     ]
    }
   ],
   "source": [
    "first_token = Token(identifier=\"TEST-38f249\", nonce=1)\n",
    "first_transfer = TokenTransfer(token=first_token, amount=1)\n",
    "\n",
    "second_token = Token(identifier=\"BAR-c80d29\")\n",
    "second_transfer = TokenTransfer(token=second_token, amount=10000000000000000000)\n",
    "\n",
    "transaction = transfer_factory.create_transaction_for_esdt_token_transfer(\n",
    "    sender=alice,\n",
    "    receiver=bob,\n",
    "    token_transfers=[first_transfer, second_transfer]\n",
    ")\n",
    "\n",
    "print(\"Transaction:\", transaction.__dict__)\n",
    "print(\"Transaction data:\", transaction.data)"
   ]
  },
  {
   "cell_type": "markdown",
   "metadata": {},
   "source": [
    "## Relayed Transactions"
   ]
  },
  {
   "cell_type": "markdown",
   "metadata": {},
   "source": [
    "First, we get the newtwork configuration using the network providers."
   ]
  },
  {
   "cell_type": "code",
   "execution_count": 17,
   "metadata": {},
   "outputs": [],
   "source": [
    "from multiversx_sdk.network_providers import ProxyNetworkProvider\n",
    "\n",
    "provider = ProxyNetworkProvider(\"https://devnet-gateway.multiversx.com\")\n",
    "network_config = provider.get_network_config()"
   ]
  },
  {
   "cell_type": "markdown",
   "metadata": {},
   "source": [
    "### Relayed V1"
   ]
  },
  {
   "cell_type": "code",
   "execution_count": 18,
   "metadata": {},
   "outputs": [
    {
     "name": "stdout",
     "output_type": "stream",
     "text": [
      "{'chain_id': 'D', 'sender': 'erd1qyu5wthldzr8wx5c9ucg8kjagg0jfs53s8nr3zpz3hypefsdd8ssycr6th', 'receiver': 'erd1spyavw0956vq68xj8y4tenjpq2wd5a9p2c6j8gsz7ztyrnpxrruqzu66jx', 'gas_limit': 61052000, 'nonce': 2627, 'value': 0, 'data': b'relayedTx@7b226e6f6e6365223a3139382c2273656e646572223a2267456e574f65576d6d413063306a6b71764d354241707a61644b46574e534f69417643575163776d4750673d222c227265636569766572223a22414141414141414141414146414159464e2b4d4e5569353867624233352b635667734c59397267656165453d222c2276616c7565223a302c226761735072696365223a313030303030303030302c226761734c696d6974223a36303030303030302c2264617461223a225957526b51444131222c227369676e6174757265223a22474c43344a59354c30756f4a4d7048753448505767474148476f476a7a476136352b754830302f774c515945515230645a4c635134546d7155394b6d515a3554716d4c6e5351345657466f354366793963642b6c43413d3d222c22636861696e4944223a2252413d3d222c2276657273696f6e223a327d', 'signature': b'', 'sender_username': '', 'receiver_username': '', 'gas_price': 1000000000, 'version': 2, 'options': 0, 'guardian': '', 'guardian_signature': b''}\n"
     ]
    }
   ],
   "source": [
    "from pathlib import Path\n",
    "\n",
    "from multiversx_sdk.core import Address, Transaction, TransactionComputer\n",
    "from multiversx_sdk.core.transaction_factories.relayed_transactions_factory import \\\n",
    "    RelayedTransactionsFactory\n",
    "from multiversx_sdk.core.transaction_factories.transactions_factory_config import \\\n",
    "    TransactionsFactoryConfig\n",
    "from multiversx_sdk.wallet.user_signer import UserSigner\n",
    "\n",
    "signer = UserSigner.from_pem_file(Path(\"../multiversx_sdk/testutils/testwallets/bob.pem\"))\n",
    "transaction_computer = TransactionComputer()\n",
    "\n",
    "inner_tx = Transaction(\n",
    "    chain_id=network_config.chain_id,\n",
    "    sender=\"erd1spyavw0956vq68xj8y4tenjpq2wd5a9p2c6j8gsz7ztyrnpxrruqzu66jx\",\n",
    "    receiver=\"erd1qqqqqqqqqqqqqpgqqczn0ccd2gh8eqdswln7w9vzctv0dwq7d8ssm4y34z\",\n",
    "    gas_limit=60000000,\n",
    "    nonce=198,\n",
    "    data=b\"add@05\"\n",
    ")\n",
    "inner_tx.signature = signer.sign(transaction_computer.compute_bytes_for_signing(inner_tx))\n",
    "\n",
    "config = TransactionsFactoryConfig(chain_id=\"D\")\n",
    "factory = RelayedTransactionsFactory(config=config)\n",
    "relayer = Address.from_bech32(\"erd1qyu5wthldzr8wx5c9ucg8kjagg0jfs53s8nr3zpz3hypefsdd8ssycr6th\")\n",
    "\n",
    "relayed_tx = factory.create_relayed_v1_transaction(\n",
    "    inner_transaction=inner_tx,\n",
    "    relayer_address=relayer\n",
    ")\n",
    "relayed_tx.nonce = 2627\n",
    "\n",
    "print(relayed_tx.__dict__)"
   ]
  },
  {
   "cell_type": "markdown",
   "metadata": {},
   "source": [
    "### Relayed V2"
   ]
  },
  {
   "cell_type": "code",
   "execution_count": 19,
   "metadata": {},
   "outputs": [
    {
     "name": "stderr",
     "output_type": "stream",
     "text": [
      "The `serialize()` method is deprecated and will soon be removed\n"
     ]
    },
    {
     "name": "stdout",
     "output_type": "stream",
     "text": [
      "{'chain_id': 'D', 'sender': 'erd1qyu5wthldzr8wx5c9ucg8kjagg0jfs53s8nr3zpz3hypefsdd8ssycr6th', 'receiver': 'erd1spyavw0956vq68xj8y4tenjpq2wd5a9p2c6j8gsz7ztyrnpxrruqzu66jx', 'gas_limit': 60381500, 'nonce': 37, 'value': 0, 'data': b'relayedTxV2@00000000000000000500060537e30d522e7c81b077e7e71582c2d8f6b81e69e1@0f@616464403035@65072a9118db14747a4f1cf857a6e4373e3e9ead6ea6036f5111bf68803c5cadfdc44d37a21b920449b5e83c783975425c3f476020173ac0fc71481646d4a900', 'signature': b'', 'sender_username': '', 'receiver_username': '', 'gas_price': 1000000000, 'version': 2, 'options': 0, 'guardian': '', 'guardian_signature': b''}\n"
     ]
    }
   ],
   "source": [
    "from pathlib import Path\n",
    "\n",
    "from multiversx_sdk.core import Address, Transaction, TransactionComputer\n",
    "from multiversx_sdk.core.transaction_factories.relayed_transactions_factory import \\\n",
    "    RelayedTransactionsFactory\n",
    "from multiversx_sdk.core.transaction_factories.transactions_factory_config import \\\n",
    "    TransactionsFactoryConfig\n",
    "from multiversx_sdk.wallet.user_signer import UserSigner\n",
    "\n",
    "signer = UserSigner.from_pem_file(Path(\"../multiversx_sdk/testutils/testwallets/bob.pem\"))\n",
    "transaction_computer = TransactionComputer()\n",
    "\n",
    "# for the relayedV2 transactions, the gasLimit for the inner transaction should be 0\n",
    "inner_tx = Transaction(\n",
    "            chain_id=network_config.chain_id,\n",
    "            sender=\"erd1spyavw0956vq68xj8y4tenjpq2wd5a9p2c6j8gsz7ztyrnpxrruqzu66jx\",\n",
    "            receiver=\"erd1qqqqqqqqqqqqqpgqqczn0ccd2gh8eqdswln7w9vzctv0dwq7d8ssm4y34z\",\n",
    "            gas_limit=0,\n",
    "            nonce=15,\n",
    "            data=b\"add@05\"\n",
    "        )\n",
    "inner_tx.signature = signer.sign(transaction_computer.compute_bytes_for_signing(inner_tx))\n",
    "\n",
    "config = TransactionsFactoryConfig(chain_id=\"D\")\n",
    "factory = RelayedTransactionsFactory(config=config)\n",
    "relayer = Address.from_bech32(\"erd1qyu5wthldzr8wx5c9ucg8kjagg0jfs53s8nr3zpz3hypefsdd8ssycr6th\")\n",
    "\n",
    "relayed_tx = factory.create_relayed_v2_transaction(\n",
    "    inner_transaction=inner_tx,\n",
    "    inner_transaction_gas_limit=60_000_000,\n",
    "    relayer_address=relayer\n",
    ")\n",
    "relayed_tx.nonce = 37\n",
    "\n",
    "print(relayed_tx.__dict__)"
   ]
  },
  {
   "cell_type": "markdown",
   "metadata": {},
   "source": [
    "## Contract deployments and interactions"
   ]
  },
  {
   "cell_type": "markdown",
   "metadata": {},
   "source": [
    "Create a transaction to deploy a smart contract:"
   ]
  },
  {
   "cell_type": "code",
   "execution_count": 20,
   "metadata": {},
   "outputs": [
    {
     "name": "stdout",
     "output_type": "stream",
     "text": [
      "Transaction: {'chain_id': 'D', 'sender': 'erd1qyu5wthldzr8wx5c9ucg8kjagg0jfs53s8nr3zpz3hypefsdd8ssycr6th', 'receiver': 'erd1qqqqqqqqqqqqqqqqqqqqqqqqqqqqqqqqqqqqqqqqqqqqqqqqqqqq6gq4hu', 'gas_limit': 10000000, 'nonce': 0, 'value': 0, 'data': b'0061736d0100000001150460037f7f7e017f60027f7f017e60017e0060000002420303656e7611696e74363473746f7261676553746f7265000003656e7610696e74363473746f726167654c6f6164000103656e760b696e74363466696e6973680002030504030303030405017001010105030100020608017f01419088040b072f05066d656d6f7279020004696e6974000309696e6372656d656e7400040964656372656d656e7400050367657400060a8a01041300418088808000410742011080808080001a0b2e01017e4180888080004107418088808000410710818080800042017c22001080808080001a20001082808080000b2e01017e41808880800041074180888080004107108180808000427f7c22001080808080001a20001082808080000b160041808880800041071081808080001082808080000b0b0f01004180080b08434f554e54455200@0500@0506@2a@74657374', 'signature': b'', 'sender_username': '', 'receiver_username': '', 'gas_price': 1000000000, 'version': 2, 'options': 0, 'guardian': '', 'guardian_signature': b''}\n",
      "Transaction data: b'0061736d0100000001150460037f7f7e017f60027f7f017e60017e0060000002420303656e7611696e74363473746f7261676553746f7265000003656e7610696e74363473746f726167654c6f6164000103656e760b696e74363466696e6973680002030504030303030405017001010105030100020608017f01419088040b072f05066d656d6f7279020004696e6974000309696e6372656d656e7400040964656372656d656e7400050367657400060a8a01041300418088808000410742011080808080001a0b2e01017e4180888080004107418088808000410710818080800042017c22001080808080001a20001082808080000b2e01017e41808880800041074180888080004107108180808000427f7c22001080808080001a20001082808080000b160041808880800041071081808080001082808080000b0b0f01004180080b08434f554e54455200@0500@0506@2a@74657374'\n"
     ]
    }
   ],
   "source": [
    "from pathlib import Path\n",
    "\n",
    "from multiversx_sdk.core.transaction_factories import \\\n",
    "    SmartContractTransactionsFactory\n",
    "\n",
    "sc_factory = SmartContractTransactionsFactory(config, TokenComputer())\n",
    "bytecode = Path(\"./data/counter.wasm\").read_bytes()\n",
    "\n",
    "deploy_transaction = sc_factory.create_transaction_for_deploy(\n",
    "    sender=alice,\n",
    "    bytecode=bytecode,\n",
    "    arguments=[42, \"test\"],\n",
    "    gas_limit=10000000,\n",
    "    is_upgradeable=True,\n",
    "    is_readable=True,\n",
    "    is_payable=True,\n",
    "    is_payable_by_sc=True\n",
    ")\n",
    "\n",
    "print(\"Transaction:\", deploy_transaction.__dict__)\n",
    "print(\"Transaction data:\", deploy_transaction.data)"
   ]
  },
  {
   "cell_type": "markdown",
   "metadata": {},
   "source": [
    "Create a transaction to upgrade an existing smart contract:"
   ]
  },
  {
   "cell_type": "code",
   "execution_count": 21,
   "metadata": {},
   "outputs": [
    {
     "name": "stdout",
     "output_type": "stream",
     "text": [
      "Transaction: {'chain_id': 'D', 'sender': 'erd1qyu5wthldzr8wx5c9ucg8kjagg0jfs53s8nr3zpz3hypefsdd8ssycr6th', 'receiver': 'erd1qqqqqqqqqqqqqpgquzmh78klkqwt0p4rjys0qtp3la07gz4d396qn50nnm', 'gas_limit': 10000000, 'nonce': 0, 'value': 0, 'data': b'upgradeContract@0061736d0100000001150460037f7f7e017f60027f7f017e60017e0060000002420303656e7611696e74363473746f7261676553746f7265000003656e7610696e74363473746f726167654c6f6164000103656e760b696e74363466696e6973680002030504030303030405017001010105030100020608017f01419088040b072f05066d656d6f7279020004696e6974000309696e6372656d656e7400040964656372656d656e7400050367657400060a8a01041300418088808000410742011080808080001a0b2e01017e4180888080004107418088808000410710818080800042017c22001080808080001a20001082808080000b2e01017e41808880800041074180888080004107108180808000427f7c22001080808080001a20001082808080000b160041808880800041071081808080001082808080000b0b0f01004180080b08434f554e54455200@0506@2a@74657374', 'signature': b'', 'sender_username': '', 'receiver_username': '', 'gas_price': 1000000000, 'version': 2, 'options': 0, 'guardian': '', 'guardian_signature': b''}\n",
      "Transaction data: b'upgradeContract@0061736d0100000001150460037f7f7e017f60027f7f017e60017e0060000002420303656e7611696e74363473746f7261676553746f7265000003656e7610696e74363473746f726167654c6f6164000103656e760b696e74363466696e6973680002030504030303030405017001010105030100020608017f01419088040b072f05066d656d6f7279020004696e6974000309696e6372656d656e7400040964656372656d656e7400050367657400060a8a01041300418088808000410742011080808080001a0b2e01017e4180888080004107418088808000410710818080800042017c22001080808080001a20001082808080000b2e01017e41808880800041074180888080004107108180808000427f7c22001080808080001a20001082808080000b160041808880800041071081808080001082808080000b0b0f01004180080b08434f554e54455200@0506@2a@74657374'\n"
     ]
    }
   ],
   "source": [
    "contract_address = Address.from_bech32(\"erd1qqqqqqqqqqqqqpgquzmh78klkqwt0p4rjys0qtp3la07gz4d396qn50nnm\")\n",
    "bytecode = Path(\"./data/counter.wasm\").read_bytes()\n",
    "\n",
    "upgrade_transaction = sc_factory.create_transaction_for_upgrade(\n",
    "    sender=alice,\n",
    "    contract=contract_address,\n",
    "    bytecode=bytecode,\n",
    "    gas_limit=10000000,\n",
    "    arguments=[42, \"test\"],\n",
    "    is_upgradeable=True,\n",
    "    is_readable=True,\n",
    "    is_payable=True,\n",
    "    is_payable_by_sc=True\n",
    ")\n",
    "\n",
    "print(\"Transaction:\", upgrade_transaction.__dict__)\n",
    "print(\"Transaction data:\", upgrade_transaction.data)"
   ]
  },
  {
   "cell_type": "markdown",
   "metadata": {},
   "source": [
    "Create a transaction that invokes a smart contract function:"
   ]
  },
  {
   "cell_type": "code",
   "execution_count": 22,
   "metadata": {},
   "outputs": [
    {
     "name": "stdout",
     "output_type": "stream",
     "text": [
      "Transaction: {'chain_id': 'D', 'sender': 'erd1qyu5wthldzr8wx5c9ucg8kjagg0jfs53s8nr3zpz3hypefsdd8ssycr6th', 'receiver': 'erd1qqqqqqqqqqqqqpgquzmh78klkqwt0p4rjys0qtp3la07gz4d396qn50nnm', 'gas_limit': 10000000, 'nonce': 0, 'value': 0, 'data': b'foo@2a@74657374', 'signature': b'', 'sender_username': '', 'receiver_username': '', 'gas_price': 1000000000, 'version': 2, 'options': 0, 'guardian': '', 'guardian_signature': b''}\n",
      "Transaction data: b'foo@2a@74657374'\n"
     ]
    }
   ],
   "source": [
    "contract_address = Address.from_bech32(\"erd1qqqqqqqqqqqqqpgquzmh78klkqwt0p4rjys0qtp3la07gz4d396qn50nnm\")\n",
    "\n",
    "call_transaction = sc_factory.create_transaction_for_execute(\n",
    "    sender=alice,\n",
    "    contract=contract_address,\n",
    "    function=\"foo\",\n",
    "    gas_limit=10000000,\n",
    "    arguments=[42, \"test\"]\n",
    ")\n",
    "\n",
    "print(\"Transaction:\", call_transaction.__dict__)\n",
    "print(\"Transaction data:\", call_transaction.data)"
   ]
  },
  {
   "cell_type": "markdown",
   "metadata": {},
   "source": [
    "Now, let's create a call that also transfers one or more tokens (**transfer & execute**):"
   ]
  },
  {
   "cell_type": "code",
   "execution_count": 23,
   "metadata": {},
   "outputs": [
    {
     "name": "stdout",
     "output_type": "stream",
     "text": [
      "Transaction: {'chain_id': 'D', 'sender': 'erd1qyu5wthldzr8wx5c9ucg8kjagg0jfs53s8nr3zpz3hypefsdd8ssycr6th', 'receiver': 'erd1qyu5wthldzr8wx5c9ucg8kjagg0jfs53s8nr3zpz3hypefsdd8ssycr6th', 'gas_limit': 10000000, 'nonce': 0, 'value': 0, 'data': b'MultiESDTNFTTransfer@00000000000000000500e0b77f1edfb01cb786a39120f02c31ff5fe40aad8974@02@544553542d333866323439@01@01@4241522d633830643239@@8ac7230489e80000@68656c6c6f@2a@74657374', 'signature': b'', 'sender_username': '', 'receiver_username': '', 'gas_price': 1000000000, 'version': 2, 'options': 0, 'guardian': '', 'guardian_signature': b''}\n",
      "Transaction data: b'MultiESDTNFTTransfer@00000000000000000500e0b77f1edfb01cb786a39120f02c31ff5fe40aad8974@02@544553542d333866323439@01@01@4241522d633830643239@@8ac7230489e80000@68656c6c6f@2a@74657374'\n"
     ]
    }
   ],
   "source": [
    "first_token = Token(\"TEST-38f249\", 1)\n",
    "first_transfer = TokenTransfer(first_token, 1)\n",
    "\n",
    "second_token = Token(\"BAR-c80d29\")\n",
    "second_transfer = TokenTransfer(second_token, 10000000000000000000)\n",
    "\n",
    "transfers = [first_transfer, second_transfer]\n",
    "\n",
    "call_transaction = sc_factory.create_transaction_for_execute(\n",
    "    sender=alice,\n",
    "    contract=contract_address,\n",
    "    function=\"hello\",\n",
    "    gas_limit=10000000,\n",
    "    arguments=[42, \"test\"],\n",
    "    token_transfers=transfers\n",
    ")\n",
    "\n",
    "print(\"Transaction:\", call_transaction.__dict__)\n",
    "print(\"Transaction data:\", call_transaction.data)"
   ]
  },
  {
   "cell_type": "markdown",
   "metadata": {},
   "source": [
    "## Contract queries"
   ]
  },
  {
   "cell_type": "markdown",
   "metadata": {},
   "source": [
    "In order to create a contract query and run it against a network provider (more details about **network providers** can be found below), do as follows:"
   ]
  },
  {
   "cell_type": "code",
   "execution_count": 24,
   "metadata": {},
   "outputs": [
    {
     "name": "stdout",
     "output_type": "stream",
     "text": [
      "Return code: ok\n",
      "Return data: ['BQ==']\n"
     ]
    }
   ],
   "source": [
    "from multiversx_sdk.core import ContractQueryBuilder\n",
    "from multiversx_sdk.core.interfaces import IAddress\n",
    "from multiversx_sdk.network_providers import ApiNetworkProvider\n",
    "\n",
    "contract: IAddress = Address.from_bech32(\"erd1qqqqqqqqqqqqqpgqqy34h7he2ya6qcagqre7ur7cc65vt0mxrc8qnudkr4\")\n",
    "\n",
    "builder = ContractQueryBuilder(\n",
    "    contract=contract,\n",
    "    function=\"getSum\",\n",
    "    call_arguments=[],\n",
    "    caller=alice\n",
    ")\n",
    "\n",
    "query = builder.build()\n",
    "\n",
    "network_provider = ApiNetworkProvider(\"https://devnet-api.multiversx.com\")\n",
    "response = network_provider.query_contract(query)\n",
    "\n",
    "print(\"Return code:\", response.return_code)\n",
    "print(\"Return data:\", response.return_data)"
   ]
  },
  {
   "cell_type": "markdown",
   "metadata": {},
   "source": [
    "## Creating wallets"
   ]
  },
  {
   "cell_type": "markdown",
   "metadata": {},
   "source": [
    "Mnemonic generation is based on [`trezor/python-mnemonic`](https://github.com/trezor/python-mnemonic) and can be achieved as follows:"
   ]
  },
  {
   "cell_type": "code",
   "execution_count": 25,
   "metadata": {},
   "outputs": [
    {
     "name": "stdout",
     "output_type": "stream",
     "text": [
      "['abstract', 'peanut', 'satoshi', 'math', 'useful', 'sing', 'slogan', 'fat', 'sorry', 'detect', 'glue', 'lava', 'require', 'post', 'hawk', 'since', 'ancient', 'hen', 'suit', 'slide', 'valley', 'expose', 'sibling', 'lend']\n"
     ]
    }
   ],
   "source": [
    "from multiversx_sdk.wallet import Mnemonic\n",
    "\n",
    "mnemonic = Mnemonic.generate()\n",
    "words = mnemonic.get_words()\n",
    "\n",
    "print(words)"
   ]
  },
  {
   "attachments": {},
   "cell_type": "markdown",
   "metadata": {},
   "source": [
    "The mnemonic can be saved to a keystore file:"
   ]
  },
  {
   "cell_type": "code",
   "execution_count": 26,
   "metadata": {},
   "outputs": [],
   "source": [
    "from multiversx_sdk.wallet import UserWallet\n",
    "\n",
    "wallet = UserWallet.from_mnemonic(mnemonic.get_text(), \"password\")\n",
    "wallet.save(Path(\"./output/walletWithMnemonic.json\"))"
   ]
  },
  {
   "cell_type": "markdown",
   "metadata": {},
   "source": [
    "Given a mnemonic, one can derive keypairs:"
   ]
  },
  {
   "cell_type": "code",
   "execution_count": 27,
   "metadata": {},
   "outputs": [
    {
     "name": "stdout",
     "output_type": "stream",
     "text": [
      "Secret key: ffd9e3bc5ba50a6f93f2bf83fc319def01affee10a4d2aa29c7904f3c95938c7\n",
      "Public key: ef5a2b0e341b28c410853aae74423d20fcd6ba7bbad0d62af556a9aa2adf04a9\n"
     ]
    }
   ],
   "source": [
    "secret_key = mnemonic.derive_key(0)\n",
    "public_key = secret_key.generate_public_key()\n",
    "\n",
    "print(\"Secret key:\", secret_key.hex())\n",
    "print(\"Public key:\", public_key.hex())"
   ]
  },
  {
   "attachments": {},
   "cell_type": "markdown",
   "metadata": {},
   "source": [
    "A keypair can be saved as a JSON wallet:"
   ]
  },
  {
   "cell_type": "code",
   "execution_count": 28,
   "metadata": {},
   "outputs": [],
   "source": [
    "wallet = UserWallet.from_secret_key(secret_key, \"password\")\n",
    "wallet.save(Path(\"./output/wallet.json\"), address_hrp=\"erd\")"
   ]
  },
  {
   "cell_type": "markdown",
   "metadata": {},
   "source": [
    "... or as a PEM wallet (usually not recommended):"
   ]
  },
  {
   "cell_type": "code",
   "execution_count": 29,
   "metadata": {},
   "outputs": [],
   "source": [
    "from multiversx_sdk.wallet import UserPEM\n",
    "\n",
    "label = Address(public_key.buffer, \"erd\").to_bech32()\n",
    "pem = UserPEM(label=label, secret_key=secret_key)\n",
    "pem.save(Path(\"./output/wallet.pem\"))"
   ]
  },
  {
   "cell_type": "markdown",
   "metadata": {},
   "source": [
    "## Loading wallets"
   ]
  },
  {
   "cell_type": "markdown",
   "metadata": {},
   "source": [
    "This is not a very common use-case - you might refer to [signing objects](#signing-objects) instead."
   ]
  },
  {
   "attachments": {},
   "cell_type": "markdown",
   "metadata": {},
   "source": [
    "Load a keystore that holds an **encrypted mnemonic** (and perform wallet derivation at the same time):"
   ]
  },
  {
   "cell_type": "code",
   "execution_count": 30,
   "metadata": {},
   "outputs": [
    {
     "name": "stdout",
     "output_type": "stream",
     "text": [
      "Secret key: 413f42575f7f26fad3317a778771212fdb80245850981e48b58a4f25e344e8f9\n",
      "Address: erd1qyu5wthldzr8wx5c9ucg8kjagg0jfs53s8nr3zpz3hypefsdd8ssycr6th\n"
     ]
    }
   ],
   "source": [
    "from multiversx_sdk.wallet import UserWallet\n",
    "\n",
    "secret_key = UserWallet.load_secret_key(Path(\"../multiversx_sdk/testutils/testwallets/withDummyMnemonic.json\"), \"password\", address_index=0)\n",
    "address = secret_key.generate_public_key().to_address(\"erd\")\n",
    "\n",
    "print(\"Secret key:\", secret_key.hex())\n",
    "print(\"Address:\", address.to_bech32())"
   ]
  },
  {
   "attachments": {},
   "cell_type": "markdown",
   "metadata": {},
   "source": [
    "Load a keystore that holds an **encrypted secret** key:"
   ]
  },
  {
   "cell_type": "code",
   "execution_count": 31,
   "metadata": {},
   "outputs": [
    {
     "name": "stdout",
     "output_type": "stream",
     "text": [
      "Secret key: 413f42575f7f26fad3317a778771212fdb80245850981e48b58a4f25e344e8f9\n",
      "Address: erd1qyu5wthldzr8wx5c9ucg8kjagg0jfs53s8nr3zpz3hypefsdd8ssycr6th\n"
     ]
    }
   ],
   "source": [
    "secret_key = UserWallet.load_secret_key(Path(\"../multiversx_sdk/testutils/testwallets/alice.json\"), \"password\")\n",
    "address = secret_key.generate_public_key().to_address(\"erd\")\n",
    "\n",
    "print(\"Secret key:\", secret_key.hex())\n",
    "print(\"Address:\", address.to_bech32())"
   ]
  },
  {
   "attachments": {},
   "cell_type": "markdown",
   "metadata": {},
   "source": [
    "Load the secret key from a PEM file:"
   ]
  },
  {
   "cell_type": "code",
   "execution_count": 32,
   "metadata": {},
   "outputs": [
    {
     "name": "stdout",
     "output_type": "stream",
     "text": [
      "Secret key: 413f42575f7f26fad3317a778771212fdb80245850981e48b58a4f25e344e8f9\n",
      "Public key: 0139472eff6886771a982f3083da5d421f24c29181e63888228dc81ca60d69e1\n"
     ]
    }
   ],
   "source": [
    "from multiversx_sdk.wallet import UserPEM\n",
    "\n",
    "pem = UserPEM.from_file(Path(\"../multiversx_sdk/testutils/testwallets/alice.pem\"))\n",
    "\n",
    "print(\"Secret key:\", pem.secret_key.hex())\n",
    "print(\"Public key:\", pem.public_key.hex())"
   ]
  },
  {
   "cell_type": "markdown",
   "metadata": {},
   "source": [
    "## Signing objects"
   ]
  },
  {
   "cell_type": "markdown",
   "metadata": {},
   "source": [
    "Creating a `UserSigner` from a JSON wallet:"
   ]
  },
  {
   "cell_type": "code",
   "execution_count": 33,
   "metadata": {},
   "outputs": [],
   "source": [
    "from multiversx_sdk.wallet import UserSigner\n",
    "\n",
    "signer = UserSigner.from_wallet(Path(\"../multiversx_sdk/testutils/testwallets/alice.json\"), \"password\")"
   ]
  },
  {
   "cell_type": "markdown",
   "metadata": {},
   "source": [
    "Creating a `UserSigner` from a PEM file:"
   ]
  },
  {
   "cell_type": "code",
   "execution_count": 34,
   "metadata": {},
   "outputs": [],
   "source": [
    "signer = UserSigner.from_pem_file(Path(\"../multiversx_sdk/testutils/testwallets/alice.pem\"))"
   ]
  },
  {
   "cell_type": "markdown",
   "metadata": {},
   "source": [
    "Signing a transaction:"
   ]
  },
  {
   "cell_type": "code",
   "execution_count": 35,
   "metadata": {},
   "outputs": [
    {
     "name": "stdout",
     "output_type": "stream",
     "text": [
      "Signature: ee6d665981c00258858923bbbe51e1cfe29911716190a3eedc24e2205100bb05faf3d8133fc973b00409aa18708b41488702d635efefe6a24b4a2b7f66267a00\n"
     ]
    }
   ],
   "source": [
    "from multiversx_sdk.core import Transaction, TransactionComputer\n",
    "\n",
    "tx = Transaction(\n",
    "    nonce=90,\n",
    "    sender=\"erd1qyu5wthldzr8wx5c9ucg8kjagg0jfs53s8nr3zpz3hypefsdd8ssycr6th\",\n",
    "    receiver=\"erd1spyavw0956vq68xj8y4tenjpq2wd5a9p2c6j8gsz7ztyrnpxrruqzu66jx\",\n",
    "    value=1000000000000000000,\n",
    "    gas_limit=50000,\n",
    "    chain_id=\"D\"\n",
    ")\n",
    "\n",
    "transaction_computer = TransactionComputer()\n",
    "\n",
    "tx.signature = signer.sign(transaction_computer.compute_bytes_for_signing(tx))\n",
    "print(\"Signature:\", tx.signature.hex())"
   ]
  },
  {
   "cell_type": "markdown",
   "metadata": {},
   "source": [
    "Signing an arbitrary message:"
   ]
  },
  {
   "cell_type": "code",
   "execution_count": 36,
   "metadata": {},
   "outputs": [
    {
     "name": "stdout",
     "output_type": "stream",
     "text": [
      "Signature: 561bc58f1dc6b10de208b2d2c22c9a474ea5e8cabb59c3d3ce06bbda21cc46454aa71a85d5a60442bd7784effa2e062fcb8fb421c521f898abf7f5ec165e5d0f\n"
     ]
    }
   ],
   "source": [
    "from multiversx_sdk.core import Message, MessageComputer\n",
    "\n",
    "signer_address = signer.get_pubkey().to_address(hrp=\"erd\")\n",
    "message = Message(b\"hello\", address=signer_address)\n",
    "message_computer = MessageComputer()\n",
    "\n",
    "message.signature = signer.sign(message_computer.compute_bytes_for_signing(message))\n",
    "\n",
    "print(\"Signature:\", message.signature.hex())"
   ]
  },
  {
   "cell_type": "markdown",
   "metadata": {},
   "source": [
    "## Verifying signatures"
   ]
  },
  {
   "cell_type": "markdown",
   "metadata": {},
   "source": [
    "Creating a `UserVerifier`:"
   ]
  },
  {
   "cell_type": "code",
   "execution_count": 38,
   "metadata": {},
   "outputs": [],
   "source": [
    "from multiversx_sdk.core import Address\n",
    "from multiversx_sdk.wallet import UserVerifier\n",
    "\n",
    "alice = Address.new_from_bech32(\"erd1qyu5wthldzr8wx5c9ucg8kjagg0jfs53s8nr3zpz3hypefsdd8ssycr6th\")\n",
    "bob = Address.new_from_bech32(\"erd1spyavw0956vq68xj8y4tenjpq2wd5a9p2c6j8gsz7ztyrnpxrruqzu66jx\")\n",
    "\n",
    "alice_verifier = UserVerifier.from_address(alice)\n",
    "bob_verifier = UserVerifier.from_address(bob)"
   ]
  },
  {
   "cell_type": "markdown",
   "metadata": {},
   "source": [
    "Verifying a signature:"
   ]
  },
  {
   "cell_type": "code",
   "execution_count": 39,
   "metadata": {},
   "outputs": [
    {
     "name": "stdout",
     "output_type": "stream",
     "text": [
      "Is signature of Alice? True\n",
      "Is signature of Alice? True\n",
      "Is signature of Bob? False\n",
      "Is signature of Bob? False\n"
     ]
    }
   ],
   "source": [
    "from multiversx_sdk.core import MessageComputer, TransactionComputer\n",
    "\n",
    "transaction_computer = TransactionComputer()\n",
    "message_computer = MessageComputer()\n",
    "\n",
    "print(f\"Is signature of Alice?\", alice_verifier.verify(transaction_computer.compute_bytes_for_signing(tx), tx.signature))\n",
    "print(f\"Is signature of Alice?\", alice_verifier.verify(message_computer.compute_bytes_for_verifying(message), message.signature))\n",
    "print(f\"Is signature of Bob?\", bob_verifier.verify(transaction_computer.compute_bytes_for_signing(tx), tx.signature))\n",
    "print(f\"Is signature of Bob?\", bob_verifier.verify(message_computer.compute_bytes_for_verifying(message), message.signature))"
   ]
  },
  {
   "cell_type": "markdown",
   "metadata": {},
   "source": [
    "## Creating network providers"
   ]
  },
  {
   "cell_type": "markdown",
   "metadata": {},
   "source": [
    "It's recommended to use the `multiversx_sdk_network_providers` components **as a starting point**. As your application matures, switch to using your own network provider (e.g. deriving from the default ones), tailored to your requirements."
   ]
  },
  {
   "cell_type": "markdown",
   "metadata": {},
   "source": [
    "Creating an API provider:"
   ]
  },
  {
   "cell_type": "code",
   "execution_count": 95,
   "metadata": {},
   "outputs": [],
   "source": [
    "from multiversx_sdk.network_providers import ApiNetworkProvider\n",
    "\n",
    "provider = ApiNetworkProvider(\"https://devnet-api.multiversx.com\")"
   ]
  },
  {
   "cell_type": "markdown",
   "metadata": {},
   "source": [
    "Creating a Proxy provider:"
   ]
  },
  {
   "cell_type": "code",
   "execution_count": 96,
   "metadata": {},
   "outputs": [],
   "source": [
    "from multiversx_sdk.network_providers import ProxyNetworkProvider\n",
    "\n",
    "provider = ProxyNetworkProvider(\"https://devnet-gateway.multiversx.com\")"
   ]
  },
  {
   "cell_type": "markdown",
   "metadata": {},
   "source": [
    "## Fetching network parameters"
   ]
  },
  {
   "cell_type": "markdown",
   "metadata": {},
   "source": [
    "In order to fetch network parameters, do as follows:"
   ]
  },
  {
   "cell_type": "code",
   "execution_count": 97,
   "metadata": {},
   "outputs": [
    {
     "name": "stdout",
     "output_type": "stream",
     "text": [
      "Chain ID: D\n",
      "Min gas price: 1000000000\n"
     ]
    }
   ],
   "source": [
    "config = provider.get_network_config()\n",
    "\n",
    "print(\"Chain ID:\", config.chain_id)\n",
    "print(\"Min gas price:\", config.min_gas_price)"
   ]
  },
  {
   "cell_type": "markdown",
   "metadata": {},
   "source": [
    "## Fetching account state"
   ]
  },
  {
   "cell_type": "markdown",
   "metadata": {},
   "source": [
    "The following snippet fetches (from the Network) the **nonce** and the **balance** of an account:"
   ]
  },
  {
   "cell_type": "code",
   "execution_count": 98,
   "metadata": {},
   "outputs": [
    {
     "name": "stdout",
     "output_type": "stream",
     "text": [
      "Nonce: 848\n",
      "Balance: 1544458693139999963\n"
     ]
    }
   ],
   "source": [
    "account_on_network = provider.get_account(alice)\n",
    "\n",
    "print(\"Nonce:\", account_on_network.nonce)\n",
    "print(\"Balance:\", account_on_network.balance)"
   ]
  },
  {
   "cell_type": "markdown",
   "metadata": {},
   "source": [
    "When sending a number of transactions, you usually have to first fetch the account nonce from the network (see above), then manage it locally (e.g. increment upon signing & broadcasting a transaction):"
   ]
  },
  {
   "cell_type": "code",
   "execution_count": 99,
   "metadata": {},
   "outputs": [],
   "source": [
    "from multiversx_sdk.core import AccountNonceHolder\n",
    "\n",
    "nonce_holder = AccountNonceHolder(account_on_network.nonce)\n",
    "\n",
    "tx.nonce = nonce_holder.get_nonce_then_increment()\n",
    "# Then, sign & broadcast the transaction(s)."
   ]
  },
  {
   "cell_type": "markdown",
   "metadata": {},
   "source": [
    "For further reference, please see [nonce management](https://docs.multiversx.com/integrators/creating-transactions/#nonce-management)."
   ]
  },
  {
   "cell_type": "markdown",
   "metadata": {},
   "source": [
    "## Broadcasting transactions"
   ]
  },
  {
   "cell_type": "markdown",
   "metadata": {},
   "source": [
    "Broadcast a single transaction:"
   ]
  },
  {
   "cell_type": "code",
   "execution_count": 100,
   "metadata": {},
   "outputs": [
    {
     "name": "stdout",
     "output_type": "stream",
     "text": [
      "Transaction hash: 4fcbadad2ecf8e505cfbf8e7ef4a05bc516c76efe01bdd963cefc052d6d66c90\n"
     ]
    }
   ],
   "source": [
    "alice = Address.from_bech32(\"erd1qyu5wthldzr8wx5c9ucg8kjagg0jfs53s8nr3zpz3hypefsdd8ssycr6th\")\n",
    "\n",
    "tx = Transaction(\n",
    "    sender=alice.to_bech32(),\n",
    "    receiver=alice.to_bech32(),\n",
    "    gas_limit=50000,\n",
    "    chain_id=\"D\"\n",
    ")\n",
    "\n",
    "alice_on_network = provider.get_account(alice)\n",
    "\n",
    "tx.nonce = alice_on_network.nonce\n",
    "tx.signature = signer.sign(transaction_computer.compute_bytes_for_signing(tx))\n",
    "\n",
    "hash = provider.send_transaction(tx)\n",
    "print(\"Transaction hash:\", hash)"
   ]
  },
  {
   "cell_type": "markdown",
   "metadata": {},
   "source": [
    "Broadcast multiple transactions:"
   ]
  },
  {
   "cell_type": "code",
   "execution_count": 101,
   "metadata": {},
   "outputs": [
    {
     "name": "stdout",
     "output_type": "stream",
     "text": [
      "Transactions hashes: (3, {'0': '4fcbadad2ecf8e505cfbf8e7ef4a05bc516c76efe01bdd963cefc052d6d66c90', '1': '1bbb818d7f6a1b5304af5a78216e8b59331faa84f0bfcc3561ff6e0ff8204625', '2': 'dfc4df48dbffebf8efde7e3b5d5be1d6c5e3914ceb988a5eeb164d676e588087'})\n"
     ]
    }
   ],
   "source": [
    "tx_1 = Transaction(\n",
    "    sender=alice.to_bech32(),\n",
    "    receiver=alice.to_bech32(),\n",
    "    gas_limit=50000,\n",
    "    chain_id=\"D\"\n",
    ")\n",
    "\n",
    "tx_2 = Transaction(\n",
    "    sender=alice.to_bech32(),\n",
    "    receiver=alice.to_bech32(),\n",
    "    gas_limit=50000,\n",
    "    chain_id=\"D\"\n",
    ")\n",
    "\n",
    "tx_3 = Transaction(\n",
    "    sender=alice.to_bech32(),\n",
    "    receiver=alice.to_bech32(),\n",
    "    gas_limit=50000,\n",
    "    chain_id=\"D\"\n",
    ")\n",
    "\n",
    "alice_on_network = provider.get_account(alice)\n",
    "nonce_holder = AccountNonceHolder(account_on_network.nonce)\n",
    "\n",
    "tx_1.nonce = nonce_holder.get_nonce_then_increment()\n",
    "tx_2.nonce = nonce_holder.get_nonce_then_increment()\n",
    "tx_3.nonce = nonce_holder.get_nonce_then_increment()\n",
    "\n",
    "tx_1.signature = signer.sign(transaction_computer.compute_bytes_for_signing(tx_1))\n",
    "tx_2.signature = signer.sign(transaction_computer.compute_bytes_for_signing(tx_2))\n",
    "tx_3.signature = signer.sign(transaction_computer.compute_bytes_for_signing(tx_3))\n",
    "\n",
    "hashes = provider.send_transactions([tx_1, tx_2, tx_3])\n",
    "print(\"Transactions hashes:\", hashes)"
   ]
  },
  {
   "cell_type": "markdown",
   "metadata": {},
   "source": [
    "Now let's fetch a previously-broadcasted transaction:"
   ]
  },
  {
   "cell_type": "code",
   "execution_count": 102,
   "metadata": {},
   "outputs": [
    {
     "name": "stdout",
     "output_type": "stream",
     "text": [
      "Status: success\n",
      "Is completed: True\n"
     ]
    }
   ],
   "source": [
    "tx_on_network = provider.get_transaction(\"9270a6879b682a7b310c659f58b641ccdd5f083e5633669817130269e5b0939b\", with_process_status=True)\n",
    "print(\"Status:\", tx_on_network.status)\n",
    "print(\"Is completed:\", tx_on_network.is_completed)"
   ]
  }
 ],
 "metadata": {
  "kernelspec": {
   "display_name": "venv",
   "language": "python",
   "name": "python3"
  },
  "language_info": {
   "codemirror_mode": {
    "name": "ipython",
    "version": 3
   },
   "file_extension": ".py",
   "mimetype": "text/x-python",
   "name": "python",
   "nbconvert_exporter": "python",
   "pygments_lexer": "ipython3",
   "version": "3.11.4"
  },
  "orig_nbformat": 4,
  "vscode": {
   "interpreter": {
    "hash": "a81f6786c16244bc0f6c6471fabecdd0e4c33960b50c66ebff3e0612ad1f5926"
   }
  }
 },
 "nbformat": 4,
 "nbformat_minor": 2
}
