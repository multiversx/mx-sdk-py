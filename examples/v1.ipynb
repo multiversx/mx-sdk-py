{
 "cells": [
  {
   "cell_type": "code",
   "execution_count": 2,
   "metadata": {},
   "outputs": [],
   "source": [
    "import sys\n",
    "\n",
    "sys.path.append(\"..\")  # Add the parent directory of 'examples' to the Python path"
   ]
  },
  {
   "cell_type": "markdown",
   "metadata": {},
   "source": [
    "## Creating an Entrypoint\n",
    "\n",
    "The Entrypoint represents a network client that makes the most common operations easily accessible. We have an entrypoint for each network: `MainnetEntrypoint`, `DevnetEntrypoint`, `TestnetEntrypoint` and `LocalnetEntrypoint`. For example, this is how to create a Devnet entrypoint:"
   ]
  },
  {
   "cell_type": "code",
   "execution_count": null,
   "metadata": {},
   "outputs": [],
   "source": [
    "from multiversx_sdk import DevnetEntrypoint\n",
    "\n",
    "entrypoint = DevnetEntrypoint()"
   ]
  },
  {
   "cell_type": "markdown",
   "metadata": {},
   "source": [
    "If we want to create an entrypoint that uses a third party API, we can do so as follows:"
   ]
  },
  {
   "cell_type": "code",
   "execution_count": null,
   "metadata": {},
   "outputs": [],
   "source": [
    "from multiversx_sdk import DevnetEntrypoint\n",
    "\n",
    "entrypoint = DevnetEntrypoint(url=\"https://custom-multiversx-devnet-api.com\")"
   ]
  },
  {
   "cell_type": "markdown",
   "metadata": {},
   "source": [
    "By default, an Entrypoint, in our case the `DevnetEntrypoint`, uses the API, but we can also create a custom one that interacts with the proxy."
   ]
  },
  {
   "cell_type": "code",
   "execution_count": null,
   "metadata": {},
   "outputs": [],
   "source": [
    "from multiversx_sdk import DevnetEntrypoint\n",
    "\n",
    "custom_entrypoint = DevnetEntrypoint(url=\"https:devnet-gateway.multiversx.com\", kind=\"proxy\")"
   ]
  },
  {
   "cell_type": "markdown",
   "metadata": {},
   "source": [
    "## Creating Accounts\n",
    "\n",
    "We can create an account directly from the entrypoint. Keep in mind that the account you create is network agnostic, it does not matter which entrypoint is used.\n",
    "\n",
    "The account can be used for signing and for storing the nonce of the account. It can also be saved to a `pem` or `keystore` file."
   ]
  },
  {
   "cell_type": "code",
   "execution_count": null,
   "metadata": {},
   "outputs": [],
   "source": [
    "from multiversx_sdk import DevnetEntrypoint\n",
    "\n",
    "entrypoint = DevnetEntrypoint()\n",
    "account = entrypoint.create_account()"
   ]
  },
  {
   "cell_type": "markdown",
   "metadata": {},
   "source": [
    "There are also other ways to instantiate an `Account`. \n",
    "\n",
    "#### Instantiating an Account using a secret key"
   ]
  },
  {
   "cell_type": "code",
   "execution_count": null,
   "metadata": {},
   "outputs": [],
   "source": [
    "from multiversx_sdk import Account, UserSecretKey\n",
    "\n",
    "secret_key_hex = \"413f42575f7f26fad3317a778771212fdb80245850981e48b58a4f25e344e8f9\"\n",
    "secret_key = UserSecretKey(bytes.fromhex(secret_key_hex))\n",
    "\n",
    "account = Account(secret_key)"
   ]
  },
  {
   "cell_type": "markdown",
   "metadata": {},
   "source": [
    "#### Instantiating an Account from a PEM file"
   ]
  },
  {
   "cell_type": "code",
   "execution_count": null,
   "metadata": {},
   "outputs": [],
   "source": [
    "from pathlib import Path\n",
    "from multiversx_sdk import Account\n",
    "\n",
    "account = Account.new_from_pem(Path(\"../multiversx_sdk/testutils/testwallets/alice.pem\"))"
   ]
  },
  {
   "cell_type": "markdown",
   "metadata": {},
   "source": [
    "#### Instantiating an Account from a Keystore file"
   ]
  },
  {
   "cell_type": "code",
   "execution_count": null,
   "metadata": {},
   "outputs": [],
   "source": [
    "from pathlib import Path\n",
    "from multiversx_sdk import Account\n",
    "\n",
    "account = Account.new_from_keystore(\n",
    "    file_path=Path(\"../multiversx_sdk/testutils/testwallets/alice.json\"),\n",
    "    password=\"password\"\n",
    ")"
   ]
  },
  {
   "cell_type": "markdown",
   "metadata": {},
   "source": [
    "#### Instantiating an Account from a mnemonic"
   ]
  },
  {
   "cell_type": "code",
   "execution_count": null,
   "metadata": {},
   "outputs": [],
   "source": [
    "from multiversx_sdk import Account, Mnemonic\n",
    "\n",
    "mnemonic = Mnemonic.generate()\n",
    "account = Account.new_from_mnemonic(mnemonic.get_text())"
   ]
  },
  {
   "cell_type": "markdown",
   "metadata": {},
   "source": [
    "#### Instantiating an Account from a KeyPair"
   ]
  },
  {
   "cell_type": "code",
   "execution_count": null,
   "metadata": {},
   "outputs": [],
   "source": [
    "from multiversx_sdk import Account, KeyPair\n",
    "\n",
    "keypair = KeyPair.generate()\n",
    "account = Account.new_from_keypair(keypair)"
   ]
  },
  {
   "cell_type": "markdown",
   "metadata": {},
   "source": [
    "### Managing the Account nonce\n",
    "\n",
    "The account has a `nonce` property that the user is responsible for keeping up to date. We can fetch the nonce of the account from the network once and then we can increment it with each transaction we create. Each transaction sent **must** have the correct nonce set, otherwise it will not be executed. For more details check out the [Creating Transactions](#creating-transactions) section below."
   ]
  },
  {
   "cell_type": "code",
   "execution_count": 2,
   "metadata": {},
   "outputs": [],
   "source": [
    "from multiversx_sdk import Account, DevnetEntrypoint, UserSecretKey\n",
    "\n",
    "secret_key_hex = \"413f42575f7f26fad3317a778771212fdb80245850981e48b58a4f25e344e8f9\"\n",
    "secret_key = UserSecretKey(bytes.fromhex(secret_key_hex))\n",
    "\n",
    "account = Account(secret_key)\n",
    "\n",
    "entrypoint = DevnetEntrypoint()\n",
    "account.nonce = entrypoint.recall_account_nonce(account.address)\n",
    "\n",
    "# create any sort of transaction\n",
    "...\n",
    "\n",
    "# When needed, we can get the nonce and increment it\n",
    "nonce = account.get_nonce_then_increment()"
   ]
  },
  {
   "cell_type": "markdown",
   "metadata": {},
   "source": [
    "### Saving the Account to a file\n",
    "\n",
    "We can save the account to either a `pem` file or a `keystore` file. **We discourage the use of PEM wallets for storing cryptocurrencies due to their lower security level.** However, they prove to be highly convenient and user-friendly for application testing purposes.\n",
    "\n",
    "#### Saving the Account for a PEM file"
   ]
  },
  {
   "cell_type": "code",
   "execution_count": null,
   "metadata": {},
   "outputs": [],
   "source": [
    "from pathlib import Path\n",
    "from multiversx_sdk import Account, UserSecretKey\n",
    "\n",
    "secret_key_hex = \"413f42575f7f26fad3317a778771212fdb80245850981e48b58a4f25e344e8f9\"\n",
    "secret_key = UserSecretKey(bytes.fromhex(secret_key_hex))\n",
    "\n",
    "account = Account(secret_key)\n",
    "account.save_to_pem(path=Path(\"wallet.pem\"))"
   ]
  },
  {
   "cell_type": "markdown",
   "metadata": {},
   "source": [
    "#### Saving the Account to a Keystore file"
   ]
  },
  {
   "cell_type": "code",
   "execution_count": null,
   "metadata": {},
   "outputs": [],
   "source": [
    "from pathlib import Path\n",
    "from multiversx_sdk import Account, UserSecretKey\n",
    "\n",
    "secret_key_hex = \"413f42575f7f26fad3317a778771212fdb80245850981e48b58a4f25e344e8f9\"\n",
    "secret_key = UserSecretKey(bytes.fromhex(secret_key_hex))\n",
    "\n",
    "account = Account(secret_key)\n",
    "account.save_to_keystore(path=Path(\"keystoreWallet.json\"), password=\"password\")"
   ]
  },
  {
   "cell_type": "markdown",
   "metadata": {},
   "source": [
    "### Ledger Account\n",
    "\n",
    "It is possible to use a Ledger Device to manage your account. The Ledger account allows you to sign both transactions and messages, but it can also store the nonce of the account.\n",
    "\n",
    "By default, the package does not include all the dependencies required to communicate with a Ledger device. To enable Ledger support, install the package with the following command:\n",
    "\n",
    "```sh\n",
    "pip install multiversx-sdk[ledger]\n",
    "```\n",
    "\n",
    "This will install the necessary dependencies for interacting with a Ledger device.\n",
    "\n",
    "When instantiating a `LedgerAccount`, the index of the address that will be used should be provided. By default, the index `0` is used."
   ]
  },
  {
   "cell_type": "code",
   "execution_count": null,
   "metadata": {},
   "outputs": [],
   "source": [
    "from multiversx_sdk import LedgerAccount\n",
    "\n",
    "account = LedgerAccount()"
   ]
  },
  {
   "cell_type": "markdown",
   "metadata": {},
   "source": [
    "When signing transactions with a Ledger device, the transaction details will appear on the device, awaiting your confirmation. The same process applies when signing messages.\n",
    "\n",
    "Both **Account** and **LedgerAccount** are compatible with the **IAccount** interface and can be used wherever the interface is expected (e.g. in transaction controllers)."
   ]
  },
  {
   "cell_type": "markdown",
   "metadata": {},
   "source": [
    "## Calling the Faucet\n",
    "\n",
    "This functionality is not yet available through the entrypoint, but we recommend using the faucet available within the Web Wallet.\n",
    "\n",
    "- [Testnet Wallet](https://testnet-wallet.multiversx.com/)\n",
    "- [Devnet Wallet](https://devnet-wallet.multiversx.com/)"
   ]
  },
  {
   "cell_type": "markdown",
   "metadata": {},
   "source": [
    "## Interacting with the network\n",
    "\n",
    "The entrypoint exposes a few methods to directly interact with the network, such as:\n",
    "\n",
    "- `recall_account_nonce(address: Address) -> int;`\n",
    "- `send_transaction(transaction: Transaction) -> bytes;`\n",
    "- `send_transactions(transactions: list[Transaction]) -> tuple[int, list[bytes]];`\n",
    "- `get_transaction(tx_hash: str | bytes) -> TransactionOnNetwork;`\n",
    "- `await_transaction_completed(tx_hash: str | bytes) -> TransactionOnNetwork;`\n",
    "\n",
    "Some other methods are exposed through a so called network provider. There are two types of network providers: ApiNetworkProvider and ProxyNetworkProvider. The ProxyNetworkProvider interacts directly with the proxy of an observing squad. The ApiNetworkProvider, as the name suggests, interacts with the API, that is a layer over the proxy. It fetches data from the network but also from Elastic Search."
   ]
  },
  {
   "cell_type": "markdown",
   "metadata": {},
   "source": [
    "To get the underlying network provider from our entrypoint, we can do as follows:"
   ]
  },
  {
   "cell_type": "code",
   "execution_count": null,
   "metadata": {},
   "outputs": [],
   "source": [
    "from multiversx_sdk import DevnetEntrypoint\n",
    "\n",
    "entrypoint = DevnetEntrypoint()\n",
    "api = entrypoint.create_network_provider()"
   ]
  },
  {
   "cell_type": "markdown",
   "metadata": {},
   "source": [
    "## Creating a network provider\n",
    "\n",
    "Additionally, when manually instantiating a network provider, a config can be provided to specify the client name and set custom request options."
   ]
  },
  {
   "cell_type": "code",
   "execution_count": null,
   "metadata": {},
   "outputs": [],
   "source": [
    "from multiversx_sdk import NetworkProviderConfig, ApiNetworkProvider\n",
    "\n",
    "config = NetworkProviderConfig(\n",
    "    client_name=\"hello-multiversx\",\n",
    "    requests_options={\n",
    "        \"timeout\": 1,\n",
    "        \"auth\": (\"user\", \"password\")\n",
    "    }\n",
    ")\n",
    "\n",
    "api = ApiNetworkProvider(url=\"https://devnet-api.multiversx.com\", config=config)"
   ]
  },
  {
   "cell_type": "markdown",
   "metadata": {},
   "source": [
    "A list of all the available methods from the `ApiNetworkProviders` can be found [here](https://multiversx.github.io/mx-sdk-py/multiversx_sdk.network_providers.html#module-multiversx_sdk.network_providers.api_network_provider).\n",
    "\n",
    "Both the `ApiNetworkProvider` and the `ProxyNetworkProvider` implement a common interface, that can be seen [here](https://multiversx.github.io/mx-sdk-py/multiversx_sdk.network_providers.html#multiversx_sdk.network_providers.interface.INetworkProvider). Therefore, the two network providers can be used interchangeably.\n",
    "\n",
    "The classes returned by the API have the most used fields easily accessible, but each object has a `raw` field where the raw API response is stored in case some other fields are needed."
   ]
  },
  {
   "cell_type": "markdown",
   "metadata": {},
   "source": [
    "## Fetching data from the network\n",
    "\n",
    "### Fetching the network config"
   ]
  },
  {
   "cell_type": "code",
   "execution_count": null,
   "metadata": {},
   "outputs": [],
   "source": [
    "from multiversx_sdk import DevnetEntrypoint\n",
    "\n",
    "entrypoint = DevnetEntrypoint()\n",
    "api = entrypoint.create_network_provider()\n",
    "\n",
    "network_config = api.get_network_config()"
   ]
  },
  {
   "cell_type": "markdown",
   "metadata": {},
   "source": [
    "### Fetching the network status\n",
    "\n",
    "The status is fetched by default from the metachain, but a specific shard number can be provided."
   ]
  },
  {
   "cell_type": "code",
   "execution_count": null,
   "metadata": {},
   "outputs": [],
   "source": [
    "from multiversx_sdk import DevnetEntrypoint\n",
    "\n",
    "entrypoint = DevnetEntrypoint()\n",
    "api = entrypoint.create_network_provider()\n",
    "\n",
    "network_status = api.get_network_status()  # fetches status from metachain\n",
    "network_status = api.get_network_status(shard=1)  # fetches status from shard 1"
   ]
  },
  {
   "cell_type": "markdown",
   "metadata": {},
   "source": [
    "### Fetching a block from the network\n",
    "\n",
    "We instantiate the args and we are going to fetch the block using it's hash. The `API` only supports fetching blocks by hash, while the `PROXY` can fetch blocks by hash or by nonce. Keep in mind, that for the `PROXY` the shard should also be specified in the arguments.\n",
    "\n",
    "#### Fetching a block using the API"
   ]
  },
  {
   "cell_type": "code",
   "execution_count": 2,
   "metadata": {},
   "outputs": [],
   "source": [
    "from multiversx_sdk import ApiNetworkProvider\n",
    "\n",
    "api = ApiNetworkProvider(\"https://devnet-api.multiversx.com\")\n",
    "\n",
    "block_hash=\"1147e111ce8dd860ae43a0f0d403da193a940bfd30b7d7f600701dd5e02f347a\"\n",
    "block = api.get_block(block_hash=block_hash)"
   ]
  },
  {
   "cell_type": "markdown",
   "metadata": {},
   "source": [
    "Additionally, we can fetch the latest block from the network:"
   ]
  },
  {
   "cell_type": "code",
   "execution_count": 5,
   "metadata": {},
   "outputs": [],
   "source": [
    "from multiversx_sdk import ApiNetworkProvider\n",
    "\n",
    "api = ApiNetworkProvider(\"https://devnet-api.multiversx.com\")\n",
    "latest_block = api.get_latest_block()"
   ]
  },
  {
   "cell_type": "markdown",
   "metadata": {},
   "source": [
    "#### Fetching a block using the PROXY\n",
    "\n",
    "When using the proxy, we have to provide the shard, as well."
   ]
  },
  {
   "cell_type": "code",
   "execution_count": 3,
   "metadata": {},
   "outputs": [],
   "source": [
    "from multiversx_sdk import ProxyNetworkProvider\n",
    "\n",
    "proxy = ProxyNetworkProvider(\"https://devnet-gateway.multiversx.com\")\n",
    "\n",
    "block_hash=\"1147e111ce8dd860ae43a0f0d403da193a940bfd30b7d7f600701dd5e02f347a\"\n",
    "block = proxy.get_block(shard=1, block_hash=block_hash)"
   ]
  },
  {
   "cell_type": "markdown",
   "metadata": {},
   "source": [
    "We can also fetch the latest block from the network. The default shard will be the metachain, but we can specify a shard to fetch the latest block from."
   ]
  },
  {
   "cell_type": "code",
   "execution_count": 4,
   "metadata": {},
   "outputs": [],
   "source": [
    "from multiversx_sdk import ProxyNetworkProvider\n",
    "\n",
    "proxy = ProxyNetworkProvider(\"https://devnet-gateway.multiversx.com\")\n",
    "block = proxy.get_latest_block()"
   ]
  },
  {
   "cell_type": "markdown",
   "metadata": {},
   "source": [
    "### Fetching an account\n",
    "\n",
    "To fetch an account we'll need its address. Once we have the address, we simply create an `Address` object and pass it as an argument to the method."
   ]
  },
  {
   "cell_type": "code",
   "execution_count": null,
   "metadata": {},
   "outputs": [],
   "source": [
    "from multiversx_sdk import Address, DevnetEntrypoint\n",
    "\n",
    "entrypoint = DevnetEntrypoint()\n",
    "api = entrypoint.create_network_provider()\n",
    "\n",
    "alice = Address.new_from_bech32(\"erd1qyu5wthldzr8wx5c9ucg8kjagg0jfs53s8nr3zpz3hypefsdd8ssycr6th\")\n",
    "account = api.get_account(address=alice)"
   ]
  },
  {
   "cell_type": "markdown",
   "metadata": {},
   "source": [
    "### Fetching an account's storage\n",
    "\n",
    "We can also fetch an account's storage, which means we can get all the key-value pairs saved for an account."
   ]
  },
  {
   "cell_type": "code",
   "execution_count": null,
   "metadata": {},
   "outputs": [],
   "source": [
    "from multiversx_sdk import Address, DevnetEntrypoint\n",
    "\n",
    "entrypoint = DevnetEntrypoint()\n",
    "api = entrypoint.create_network_provider()\n",
    "\n",
    "address = Address.new_from_bech32(\"erd1qyu5wthldzr8wx5c9ucg8kjagg0jfs53s8nr3zpz3hypefsdd8ssycr6th\")\n",
    "account = api.get_account_storage(address=address)"
   ]
  },
  {
   "cell_type": "markdown",
   "metadata": {},
   "source": [
    "If we only want a specific key, we can fetch it as follows:"
   ]
  },
  {
   "cell_type": "code",
   "execution_count": null,
   "metadata": {},
   "outputs": [],
   "source": [
    "from multiversx_sdk import Address, DevnetEntrypoint\n",
    "\n",
    "entrypoint = DevnetEntrypoint()\n",
    "api = entrypoint.create_network_provider()\n",
    "\n",
    "address = Address.new_from_bech32(\"erd1qyu5wthldzr8wx5c9ucg8kjagg0jfs53s8nr3zpz3hypefsdd8ssycr6th\")\n",
    "account = api.get_account_storage_entry(address=address, entry_key=\"testKey\")"
   ]
  },
  {
   "cell_type": "markdown",
   "metadata": {},
   "source": [
    "### Waiting for an account to meet a condition\n",
    "\n",
    "There are times when we need to wait for a specific condition to be met before proceeding with an action. For example, let's say we want to send 7 EGLD from Alice to Bob, but this can only happen once Alice's balance reaches at least 7 EGLD. This approach is useful in scenarios where you are waiting for external funds to be sent to Alice, allowing her to then transfer the required amount to another recipient.\n",
    "\n",
    "We need to define our condition that will be checked each time the account is fetched from the network. For this, we create a function that takes as an argument an `AccountOnNetwork` object and returns a `bool`.\n",
    "\n",
    "Keep in mind that, this method has a default timeout that can be adjusted using the `AwaitingOptions` class."
   ]
  },
  {
   "cell_type": "code",
   "execution_count": null,
   "metadata": {},
   "outputs": [],
   "source": [
    "from multiversx_sdk import Address, AccountOnNetwork, DevnetEntrypoint\n",
    "\n",
    "entrypoint = DevnetEntrypoint()\n",
    "api = entrypoint.create_network_provider()\n",
    "\n",
    "\n",
    "def condition_to_be_satisfied(account: AccountOnNetwork) -> bool:\n",
    "    return account.balance >= 7000000000000000000  # 7 EGLD\n",
    "\n",
    "\n",
    "alice = Address.new_from_bech32(\"erd1qyu5wthldzr8wx5c9ucg8kjagg0jfs53s8nr3zpz3hypefsdd8ssycr6th\")\n",
    "account = api.await_account_on_condition(address=alice, condition=condition_to_be_satisfied)"
   ]
  },
  {
   "cell_type": "markdown",
   "metadata": {},
   "source": [
    "### Sending and simulating transactions\n",
    "\n",
    "In order for our transactions to be executed, we use the network providers to broadcast them to the network. Keep in mind that, in order for transactions to be processed they need to be signed.\n",
    "\n",
    "#### Sending a transaction"
   ]
  },
  {
   "cell_type": "code",
   "execution_count": null,
   "metadata": {},
   "outputs": [],
   "source": [
    "from multiversx_sdk import Address, DevnetEntrypoint, Transaction\n",
    "\n",
    "entrypoint = DevnetEntrypoint()\n",
    "api = entrypoint.create_network_provider()\n",
    "\n",
    "alice = Address.new_from_bech32(\"erd1qyu5wthldzr8wx5c9ucg8kjagg0jfs53s8nr3zpz3hypefsdd8ssycr6th\")\n",
    "bob = Address.new_from_bech32(\"erd1spyavw0956vq68xj8y4tenjpq2wd5a9p2c6j8gsz7ztyrnpxrruqzu66jx\")\n",
    "\n",
    "# this transaction is not signed\n",
    "transaction = Transaction(\n",
    "    sender=alice,\n",
    "    receiver=bob,\n",
    "    gas_limit=50000,\n",
    "    chain_id=\"D\"\n",
    ")\n",
    "\n",
    "# the API will return an error because the transaction is not signed\n",
    "transaction_hash = api.send_transaction(transaction)"
   ]
  },
  {
   "cell_type": "markdown",
   "metadata": {},
   "source": [
    "#### Sending multiple transactions"
   ]
  },
  {
   "cell_type": "code",
   "execution_count": null,
   "metadata": {},
   "outputs": [],
   "source": [
    "from multiversx_sdk import Address, DevnetEntrypoint, Transaction\n",
    "\n",
    "entrypoint = DevnetEntrypoint()\n",
    "api = entrypoint.create_network_provider()\n",
    "\n",
    "alice = Address.new_from_bech32(\"erd1qyu5wthldzr8wx5c9ucg8kjagg0jfs53s8nr3zpz3hypefsdd8ssycr6th\")\n",
    "bob = Address.new_from_bech32(\"erd1spyavw0956vq68xj8y4tenjpq2wd5a9p2c6j8gsz7ztyrnpxrruqzu66jx\")\n",
    "\n",
    "# this transaction is not signed\n",
    "first_transaction = Transaction(\n",
    "    sender=alice,\n",
    "    receiver=bob,\n",
    "    gas_limit=50000,\n",
    "    chain_id=\"D\",\n",
    "    nonce=2\n",
    ")\n",
    "\n",
    "second_transaction = Transaction(\n",
    "    sender=bob,\n",
    "    receiver=alice,\n",
    "    gas_limit=50000,\n",
    "    chain_id=\"D\",\n",
    "    nonce=1\n",
    ")\n",
    "\n",
    "third_transaction = Transaction(\n",
    "    sender=alice,\n",
    "    receiver=alice,\n",
    "    gas_limit=60000,\n",
    "    chain_id=\"D\",\n",
    "    nonce=3,\n",
    "    data=b\"hello\"\n",
    ")\n",
    "\n",
    "# the API will return an error because the transactions are not signed\n",
    "num_of_txs, hashes = api.send_transactions([first_transaction, second_transaction, third_transaction])"
   ]
  },
  {
   "cell_type": "markdown",
   "metadata": {},
   "source": [
    "#### Simulating transactions\n",
    "\n",
    "A transaction can be simulated before being sent to be processed by the network. It is mostly used for smart contract calls to see what smart contract results are produced."
   ]
  },
  {
   "cell_type": "code",
   "execution_count": null,
   "metadata": {},
   "outputs": [],
   "source": [
    "from multiversx_sdk import Address, DevnetEntrypoint, Transaction\n",
    "\n",
    "entrypoint = DevnetEntrypoint()\n",
    "api = entrypoint.create_network_provider()\n",
    "\n",
    "alice = Address.new_from_bech32(\"erd1qyu5wthldzr8wx5c9ucg8kjagg0jfs53s8nr3zpz3hypefsdd8ssycr6th\")\n",
    "contract = Address.new_from_bech32(\"erd1qqqqqqqqqqqqqpgqccmyzj9sade2495w78h42erfrw7qmqxpd8sss6gmgn\")\n",
    "\n",
    "transaction = Transaction(\n",
    "    sender=alice,\n",
    "    receiver=contract,\n",
    "    gas_limit=5000000,\n",
    "    chain_id=\"D\",\n",
    "    data=b\"add@07\"\n",
    ")\n",
    "transaction_on_network = api.simulate_transaction(transaction)"
   ]
  },
  {
   "cell_type": "markdown",
   "metadata": {},
   "source": [
    "#### Estimating the gas cost of a transaction\n",
    "\n",
    "Before sending a transaction to the network to be processed, one can get the estimated gas limit that is required for the transaction to be executed."
   ]
  },
  {
   "cell_type": "code",
   "execution_count": null,
   "metadata": {},
   "outputs": [],
   "source": [
    "from multiversx_sdk import Address, DevnetEntrypoint, Transaction\n",
    "\n",
    "entrypoint = DevnetEntrypoint()\n",
    "api = entrypoint.create_network_provider()\n",
    "\n",
    "alice = Address.new_from_bech32(\"erd1qyu5wthldzr8wx5c9ucg8kjagg0jfs53s8nr3zpz3hypefsdd8ssycr6th\")\n",
    "contract = Address.new_from_bech32(\"erd1qqqqqqqqqqqqqpgqccmyzj9sade2495w78h42erfrw7qmqxpd8sss6gmgn\")\n",
    "\n",
    "nonce = entrypoint.recall_account_nonce(alice)\n",
    "\n",
    "transaction = Transaction(\n",
    "    sender=alice,\n",
    "    receiver=contract,\n",
    "    gas_limit=5000000,\n",
    "    chain_id=\"D\",\n",
    "    data=b\"add@07\",\n",
    "    nonce=nonce\n",
    ")\n",
    "\n",
    "transaction_cost_response = api.estimate_transaction_cost(transaction)"
   ]
  },
  {
   "cell_type": "markdown",
   "metadata": {},
   "source": [
    "### Waiting for transaction completion\n",
    "\n",
    "After sending a transaction, we may want to wait until the transaction is processed in order to proceed with another action. Keep in mind that, this method has a default timeout that can be adjusted using the `AwaitingOptions` class."
   ]
  },
  {
   "cell_type": "code",
   "execution_count": null,
   "metadata": {},
   "outputs": [],
   "source": [
    "from multiversx_sdk import DevnetEntrypoint\n",
    "\n",
    "entrypoint = DevnetEntrypoint()\n",
    "api = entrypoint.create_network_provider()\n",
    "\n",
    "tx_hash = \"exampletransactionhash\"\n",
    "transaction_on_network = api.await_transaction_completed(transaction_hash=tx_hash)"
   ]
  },
  {
   "cell_type": "markdown",
   "metadata": {},
   "source": [
    "### Waiting for a transaction to specify a condition\n",
    "\n",
    "Similar to accounts, we can wait until a transaction satisfies a specific condition."
   ]
  },
  {
   "cell_type": "code",
   "execution_count": null,
   "metadata": {},
   "outputs": [],
   "source": [
    "from multiversx_sdk import DevnetEntrypoint, TransactionOnNetwork\n",
    "\n",
    "entrypoint = DevnetEntrypoint()\n",
    "api = entrypoint.create_network_provider()\n",
    "\n",
    "\n",
    "def condition_to_be_satisfied(transaction_on_network: TransactionOnNetwork) -> bool:\n",
    "    # can be the creation of an event or something else\n",
    "    ...\n",
    "\n",
    "\n",
    "tx_hash = \"exampletransactionhash\"\n",
    "transaction_on_network = api.await_transaction_on_condition(transaction_hash=tx_hash, condition=condition_to_be_satisfied)"
   ]
  },
  {
   "cell_type": "markdown",
   "metadata": {},
   "source": [
    "### Fetching transactions from the network\n",
    "\n",
    "After sending transactions, we can fetch the transactions from the network. To do so, we need the transaction hash that we got after broadcasting the transaction."
   ]
  },
  {
   "cell_type": "code",
   "execution_count": null,
   "metadata": {},
   "outputs": [],
   "source": [
    "from multiversx_sdk import DevnetEntrypoint\n",
    "\n",
    "entrypoint = DevnetEntrypoint()\n",
    "api = entrypoint.create_network_provider()\n",
    "\n",
    "tx_hash = \"exampletransactionhash\"\n",
    "transaction_on_network = api.get_transaction(tx_hash)"
   ]
  },
  {
   "cell_type": "markdown",
   "metadata": {},
   "source": [
    "### Fetching a token from an account\n",
    "\n",
    "We can fetch a specific token (ESDT, MetaESDT, SFT, NFT) of an account by providing the address and the token."
   ]
  },
  {
   "cell_type": "code",
   "execution_count": null,
   "metadata": {},
   "outputs": [],
   "source": [
    "from multiversx_sdk import Address, DevnetEntrypoint, Token\n",
    "\n",
    "entrypoint = DevnetEntrypoint()\n",
    "api = entrypoint.create_network_provider()\n",
    "\n",
    "alice = Address.new_from_bech32(\"erd1qyu5wthldzr8wx5c9ucg8kjagg0jfs53s8nr3zpz3hypefsdd8ssycr6th\")\n",
    "\n",
    "# these tokens are just for the example, they do not belong to Alice\n",
    "token = Token(identifier=\"TEST-123456\")  # ESDT\n",
    "token_on_network = api.get_token_of_account(address=alice, token=token)\n",
    "\n",
    "token = Token(identifier=\"NFT-987654\", nonce=11)  # NFT\n",
    "token_on_network = api.get_token_of_account(address=alice, token=token)"
   ]
  },
  {
   "cell_type": "markdown",
   "metadata": {},
   "source": [
    "### Fetching all fungible tokens of an account\n",
    "\n",
    "Fetches all fungible tokens held by an account. This method does not handle pagination, that can be achieved by using `do_get_generic`."
   ]
  },
  {
   "cell_type": "code",
   "execution_count": null,
   "metadata": {},
   "outputs": [],
   "source": [
    "from multiversx_sdk import Address, DevnetEntrypoint\n",
    "\n",
    "entrypoint = DevnetEntrypoint()\n",
    "api = entrypoint.create_network_provider()\n",
    "\n",
    "alice = Address.new_from_bech32(\"erd1qyu5wthldzr8wx5c9ucg8kjagg0jfs53s8nr3zpz3hypefsdd8ssycr6th\")\n",
    "fungible_tokens = api.get_fungible_tokens_of_account(address=alice)"
   ]
  },
  {
   "cell_type": "markdown",
   "metadata": {},
   "source": [
    "### Fetching all non-fungible tokens of an account\n",
    "\n",
    "Fetches all non-fungible tokens held by an account. This method does not handle pagination, but can be achieved by using `do_get_generic`."
   ]
  },
  {
   "cell_type": "code",
   "execution_count": null,
   "metadata": {},
   "outputs": [],
   "source": [
    "from multiversx_sdk import Address, DevnetEntrypoint\n",
    "\n",
    "entrypoint = DevnetEntrypoint()\n",
    "api = entrypoint.create_network_provider()\n",
    "\n",
    "alice = Address.new_from_bech32(\"erd1qyu5wthldzr8wx5c9ucg8kjagg0jfs53s8nr3zpz3hypefsdd8ssycr6th\")\n",
    "nfts = api.get_non_fungible_tokens_of_account(address=alice)"
   ]
  },
  {
   "cell_type": "markdown",
   "metadata": {},
   "source": [
    "### Fetching token metadata\n",
    "\n",
    "If we want to fetch the metadata of a token, like `owner`, `decimals` and so on, we can use the following methods:"
   ]
  },
  {
   "cell_type": "code",
   "execution_count": null,
   "metadata": {},
   "outputs": [],
   "source": [
    "from multiversx_sdk import DevnetEntrypoint\n",
    "\n",
    "entrypoint = DevnetEntrypoint()\n",
    "api = entrypoint.create_network_provider()\n",
    "\n",
    "# used for ESDT\n",
    "fungible_token_definition = api.get_definition_of_fungible_token(token_identifier=\"TEST-123456\")\n",
    "\n",
    "# used for MetaESDT, SFT, NFT\n",
    "non_fungible_token_definition = api.get_definition_of_tokens_collection(\n",
    "    collection_name=\"NFT-987654\")"
   ]
  },
  {
   "cell_type": "markdown",
   "metadata": {},
   "source": [
    "### Querying Smart Contracts\n",
    "\n",
    "Smart contract queries or view functions, are endpoints of a contract that only read data from the contract. To send a query to the observer nodes, we can proceed as follows:"
   ]
  },
  {
   "cell_type": "code",
   "execution_count": null,
   "metadata": {},
   "outputs": [],
   "source": [
    "from multiversx_sdk import Address, DevnetEntrypoint, SmartContractQuery\n",
    "\n",
    "entrypoint = DevnetEntrypoint()\n",
    "api = entrypoint.create_network_provider()\n",
    "\n",
    "query = SmartContractQuery(\n",
    "    contract=Address.new_from_bech32(\"erd1qqqqqqqqqqqqqpgq076flgeualrdu5jyyj60snvrh7zu4qrg05vqez5jen\"),\n",
    "    function=\"getSum\",\n",
    "    arguments=[]\n",
    ")\n",
    "response = api.query_contract(query=query)"
   ]
  },
  {
   "cell_type": "markdown",
   "metadata": {},
   "source": [
    "### Custom Api/Proxy calls\n",
    "\n",
    "The methods exposed by the `ApiNetworkProvider` or `ProxyNetworkProvider` are the most common and used ones. There might be times when custom API calls are needed. For that we have createad generic methods for both `GET` and `POST` requests.\n",
    "\n",
    "Let's assume we want to get all the transactions that are sent by Alice and call the `testFunction` function."
   ]
  },
  {
   "cell_type": "code",
   "execution_count": null,
   "metadata": {},
   "outputs": [],
   "source": [
    "from multiversx_sdk import Address, DevnetEntrypoint\n",
    "\n",
    "entrypoint = DevnetEntrypoint()\n",
    "api = entrypoint.create_network_provider()\n",
    "\n",
    "alice = Address.new_from_bech32(\"erd1qyu5wthldzr8wx5c9ucg8kjagg0jfs53s8nr3zpz3hypefsdd8ssycr6th\")\n",
    "url_params = {\n",
    "    \"sender\": alice.to_bech32(),\n",
    "    \"function\": \"testFunction\"\n",
    "}\n",
    "\n",
    "transactions = api.do_get_generic(url=\"transactions\", url_parameters=url_params)"
   ]
  },
  {
   "cell_type": "markdown",
   "metadata": {},
   "source": [
    "## Creating transactions\n",
    "\n",
    "In this section, we'll learn how to create different types of transactions. For creating transactions, we can use `controllers` or `factories`. The `controllers` can be used for scripts or quick network interactions, while the `factories` provide a more granular and lower-level approach, usually needed for DApps. Usually, the `controllers` use the same parameters as the `factories` but also take an `Account` and the `nonce` of the sender as arguments. The `controllers` also hold some extra functionality, like waiting for transaction completion and parsing transactions. The same functionality can be obtained for transactions built using the `factories` as well, we'll see how in the sections below. In the following section we'll learn how to create transactions using both."
   ]
  },
  {
   "cell_type": "markdown",
   "metadata": {},
   "source": [
    "### Instantiating controllers and factories\n",
    "\n",
    "There are two ways to create controllers and factories: the first one is to get them from the entrypoint and the second one is to manually create them."
   ]
  },
  {
   "cell_type": "code",
   "execution_count": null,
   "metadata": {},
   "outputs": [],
   "source": [
    "from multiversx_sdk import DevnetEntrypoint, TransfersController, TransferTransactionsFactory, TransactionsFactoryConfig\n",
    "\n",
    "entrypoint = DevnetEntrypoint()\n",
    "\n",
    "# getting the controller and the factory from the entrypoint\n",
    "transfers_controller = entrypoint.create_transfers_controller()\n",
    "transfers_factory = entrypoint.create_transfers_transactions_factory()\n",
    "\n",
    "# manually instantiating the controller and the factory\n",
    "controller = TransfersController(chain_id=\"D\")\n",
    "\n",
    "config = TransactionsFactoryConfig(chain_id=\"D\")\n",
    "factory = TransferTransactionsFactory(config=config)"
   ]
  },
  {
   "cell_type": "markdown",
   "metadata": {},
   "source": [
    "### Token transfers\n",
    "\n",
    "We can send native tokens (EGLD) and ESDT tokens using both the `controller` and the `factory`."
   ]
  },
  {
   "cell_type": "markdown",
   "metadata": {},
   "source": [
    "#### Native token transfers using the controller\n",
    "\n",
    "Because we'll use an `Account`, the transaction will be signed."
   ]
  },
  {
   "cell_type": "code",
   "execution_count": null,
   "metadata": {},
   "outputs": [],
   "source": [
    "from pathlib import Path\n",
    "from multiversx_sdk import Account, DevnetEntrypoint\n",
    "\n",
    "entrypoint = DevnetEntrypoint()\n",
    "\n",
    "account = Account.new_from_keystore(\n",
    "    file_path=Path(\"../multiversx_sdk/testutils/testwallets/withDummyMnemonic.json\"),\n",
    "    password=\"password\",\n",
    "    address_index=0\n",
    ")\n",
    "# the developer is responsible for managing the nonce\n",
    "account.nonce = entrypoint.recall_account_nonce(account.address)\n",
    "\n",
    "transfers_controller = entrypoint.create_transfers_controller()\n",
    "transaction = transfers_controller.create_transaction_for_transfer(\n",
    "    sender=account,\n",
    "    nonce=account.get_nonce_then_increment(),\n",
    "    receiver=Address.new_from_bech32(\"erd1spyavw0956vq68xj8y4tenjpq2wd5a9p2c6j8gsz7ztyrnpxrruqzu66jx\"),\n",
    "    native_transfer_amount=1000000000000000000,  # 1 EGLD\n",
    ")\n",
    "\n",
    "tx_hash = entrypoint.send_transaction(transaction)"
   ]
  },
  {
   "cell_type": "markdown",
   "metadata": {},
   "source": [
    "If you know you'll only send native tokens, the same transaction can be created using the `create_transaction_for_native_token_transfer` method."
   ]
  },
  {
   "cell_type": "markdown",
   "metadata": {},
   "source": [
    "#### Native token transfers using the factory\n",
    "\n",
    "Because we only use the address of the sender, the transactions are not going to be signed or have the nonce field set properly. This should be taken care after the transaction is created."
   ]
  },
  {
   "cell_type": "code",
   "execution_count": null,
   "metadata": {},
   "outputs": [],
   "source": [
    "from multiversx_sdk import Account, DevnetEntrypoint\n",
    "\n",
    "entrypoint = DevnetEntrypoint()\n",
    "factory = entrypoint.create_transfers_transactions_factory()\n",
    "\n",
    "alice = Account.new_from_keystore(\n",
    "    file_path=Path(\"../multiversx_sdk/testutils/testwallets/withDummyMnemonic.json\"),\n",
    "    password=\"password\",\n",
    "    address_index=0\n",
    ")\n",
    "# the developer is responsible for managing the nonce\n",
    "alice.nonce = entrypoint.recall_account_nonce(alice.address)\n",
    "\n",
    "bob = Address.new_from_bech32(\"erd1spyavw0956vq68xj8y4tenjpq2wd5a9p2c6j8gsz7ztyrnpxrruqzu66jx\")\n",
    "\n",
    "transaction = factory.create_transaction_for_transfer(\n",
    "    sender=alice.address,\n",
    "    receiver=bob,\n",
    "    native_amount=1000000000000000000  # 1 EGLD\n",
    ")\n",
    "# set the sender's nonce\n",
    "transaction.nonce = alice.get_nonce_then_increment()\n",
    "\n",
    "# sign the transaction using the sender's account\n",
    "transaction.signature = alice.sign_transaction(transaction)\n",
    "\n",
    "tx_hash = entrypoint.send_transaction(transaction)"
   ]
  },
  {
   "cell_type": "markdown",
   "metadata": {},
   "source": [
    "If you know you'll only send native tokens, the same transaction can be created using the `create_transaction_for_native_token_transfer` method."
   ]
  },
  {
   "cell_type": "markdown",
   "metadata": {},
   "source": [
    "#### Custom token transfers using the controller"
   ]
  },
  {
   "cell_type": "code",
   "execution_count": null,
   "metadata": {},
   "outputs": [],
   "source": [
    "from pathlib import Path\n",
    "from multiversx_sdk import Account, DevnetEntrypoint, Token, TokenTransfer\n",
    "\n",
    "entrypoint = DevnetEntrypoint()\n",
    "\n",
    "alice = Account.new_from_keystore(\n",
    "    file_path=Path(\"../multiversx_sdk/testutils/testwallets/withDummyMnemonic.json\"),\n",
    "    password=\"password\",\n",
    "    address_index=0\n",
    ")\n",
    "# the developer is responsible for managing the nonce\n",
    "alice.nonce = entrypoint.recall_account_nonce(alice.address)\n",
    "\n",
    "esdt = Token(identifier=\"TEST-123456\")\n",
    "first_transfer = TokenTransfer(token=esdt, amount=1000000000)\n",
    "\n",
    "nft = Token(identifier=\"NFT-987654\", nonce=10)\n",
    "second_transfer = TokenTransfer(token=nft, amount=1)  # when sending NFTs we set the amount to `1`\n",
    "\n",
    "sft = Token(identifier=\"SFT-123987\", nonce=10)\n",
    "third_transfer = TokenTransfer(token=nft, amount=7)\n",
    "\n",
    "transfers_controller = entrypoint.create_transfers_controller()\n",
    "transaction = transfers_controller.create_transaction_for_transfer(\n",
    "    sender=alice,\n",
    "    nonce=alice.get_nonce_then_increment(),\n",
    "    receiver=Address.new_from_bech32(\"erd1spyavw0956vq68xj8y4tenjpq2wd5a9p2c6j8gsz7ztyrnpxrruqzu66jx\"),\n",
    "    token_transfers=[first_transfer, second_transfer, third_transfer]\n",
    ")\n",
    "\n",
    "tx_hash = entrypoint.send_transaction(transaction)"
   ]
  },
  {
   "cell_type": "markdown",
   "metadata": {},
   "source": [
    "If you know you'll only send ESDT tokens, the same transaction can be created using `create_transaction_for_esdt_token_transfer`."
   ]
  },
  {
   "cell_type": "markdown",
   "metadata": {},
   "source": [
    "#### Custom token transafers using the factory\n",
    "\n",
    "Because we only use the address of the sender, the transactions are not going to be signed or have the nonce field set properly. This should be taken care after the transaction is created."
   ]
  },
  {
   "cell_type": "code",
   "execution_count": null,
   "metadata": {},
   "outputs": [],
   "source": [
    "from multiversx_sdk import Account, DevnetEntrypoint, Token, TokenTransfer\n",
    "\n",
    "entrypoint = DevnetEntrypoint()\n",
    "\n",
    "alice = Account.new_from_keystore(\n",
    "    file_path=Path(\"../multiversx_sdk/testutils/testwallets/withDummyMnemonic.json\"),\n",
    "    password=\"password\",\n",
    "    address_index=0\n",
    ")\n",
    "# the developer is responsible for managing the nonce\n",
    "alice.nonce = entrypoint.recall_account_nonce(alice.address)\n",
    "\n",
    "bob = Address.new_from_bech32(\"erd1spyavw0956vq68xj8y4tenjpq2wd5a9p2c6j8gsz7ztyrnpxrruqzu66jx\")\n",
    "\n",
    "esdt = Token(identifier=\"TEST-123456\")  # fungible tokens don't have nonce\n",
    "first_transfer = TokenTransfer(token=esdt, amount=1000000000)  # we set the desired amount we want to send\n",
    "\n",
    "nft = Token(identifier=\"NFT-987654\", nonce=10)\n",
    "second_transfer = TokenTransfer(token=nft, amount=1)  # when sending NFTs we set the amount to `1`\n",
    "\n",
    "sft = Token(identifier=\"SFT-123987\", nonce=10)\n",
    "third_transfer = TokenTransfer(token=nft, amount=7)  #  for SFTs we set the desired amount we want to send\n",
    "\n",
    "transaction = factory.create_transaction_for_transfer(\n",
    "    sender=alice.address,\n",
    "    receiver=bob,\n",
    "    token_transfers=[first_transfer, second_transfer, third_transfer]\n",
    ")\n",
    "\n",
    "# set the sender's nonce\n",
    "transaction.nonce = alice.get_nonce_then_increment()\n",
    "\n",
    "# sign the transaction using the sender's account\n",
    "transaction.signature = alice.sign_transaction(transaction)\n",
    "\n",
    "tx_hash = entrypoint.send_transaction(transaction)"
   ]
  },
  {
   "cell_type": "markdown",
   "metadata": {},
   "source": [
    "If you know you'll only send ESDT tokens, the same transaction can be created using `create_transaction_for_esdt_token_transfer`.\n",
    "\n",
    "#### Sending native and custom tokens\n",
    "\n",
    "Also, sending both native and custom tokens is now supported. If a `native_amount` is provided together with `token_transfers`, the native token will also be included in the `MultiESDTNFTTrasfer` built-in function call.\n",
    "\n",
    "We can send both types of tokens using either the `controller` or the `factory`, but we'll use the controller for the sake of simplicity."
   ]
  },
  {
   "cell_type": "code",
   "execution_count": null,
   "metadata": {},
   "outputs": [],
   "source": [
    "from pathlib import Path\n",
    "from multiversx_sdk import Account, DevnetEntrypoint, Token, TokenTransfer\n",
    "\n",
    "entrypoint = DevnetEntrypoint()\n",
    "\n",
    "account = Account.new_from_keystore(\n",
    "    file_path=Path(\"../multiversx_sdk/testutils/testwallets/withDummyMnemonic.json\"),\n",
    "    password=\"password\",\n",
    "    address_index=0\n",
    ")\n",
    "# the developer is responsible for managing the nonce\n",
    "account.nonce = entrypoint.recall_account_nonce(account.address)\n",
    "\n",
    "esdt = Token(identifier=\"TEST-123456\")\n",
    "first_transfer = TokenTransfer(token=esdt, amount=1000000000)\n",
    "\n",
    "nft = Token(identifier=\"NFT-987654\", nonce=10)\n",
    "second_transfer = TokenTransfer(token=nft, amount=1)\n",
    "\n",
    "transfers_controller = entrypoint.create_transfers_controller()\n",
    "transaction = transfers_controller.create_transaction_for_transfer(\n",
    "    sender=account,\n",
    "    nonce=account.get_nonce_then_increment(),\n",
    "    receiver=Address.new_from_bech32(\"erd1spyavw0956vq68xj8y4tenjpq2wd5a9p2c6j8gsz7ztyrnpxrruqzu66jx\"),\n",
    "    native_transfer_amount=1000000000000000000,  # 1 EGLD\n",
    "    token_transfers=[first_transfer, second_transfer]\n",
    ")\n",
    "\n",
    "tx_hash = entrypoint.send_transaction(transaction)"
   ]
  },
  {
   "cell_type": "markdown",
   "metadata": {},
   "source": [
    "#### Decoding transaction data\n",
    "\n",
    "For example, when sending multiple ESDT and NFT tokens, the receiver field of the transaction is the same as the sender field and also the value is set to `0` because all the information is encoded in the `data` field of the transaction.\n",
    "\n",
    "For decoding the data field we have a so called `TransactionDecoder`. We fetch the transaction from the network and then use the decoder."
   ]
  },
  {
   "cell_type": "code",
   "execution_count": null,
   "metadata": {},
   "outputs": [],
   "source": [
    "from multiversx_sdk import DevnetEntrypoint, TransactionDecoder\n",
    "\n",
    "entrypoint = DevnetEntrypoint()\n",
    "transaction = entrypoint.get_transaction(\"3e7b39f33f37716186b6ffa8761d066f2139bff65a1075864f612ca05c05c05d\")\n",
    "\n",
    "decoder = TransactionDecoder()\n",
    "decoded_transaction = decoder.get_transaction_metadata(transaction)\n",
    "\n",
    "print(decoded_transaction.to_dict())"
   ]
  },
  {
   "cell_type": "markdown",
   "metadata": {},
   "source": [
    "### Smart Contracts\n",
    "\n",
    "#### Contract ABIs\n",
    "\n",
    "A contract's ABI describes the endpoints, data structure and events that a contract exposes. While contract interactions are possible without the ABI, they are easier to implement when the definitions are available.\n",
    "\n",
    "##### Loading the ABI from a file"
   ]
  },
  {
   "cell_type": "code",
   "execution_count": null,
   "metadata": {},
   "outputs": [],
   "source": [
    "from pathlib import Path\n",
    "from multiversx_sdk.abi import Abi\n",
    "\n",
    "abi = Abi.load(Path(\"./contracts/adder.abi.json\"))"
   ]
  },
  {
   "cell_type": "markdown",
   "metadata": {},
   "source": [
    "##### Manually construct the ABI\n",
    "\n",
    "If an ABI file isn't directly available, but you do have knowledge of the contract's endpoints and types, you can manually construct the ABI. "
   ]
  },
  {
   "cell_type": "code",
   "execution_count": null,
   "metadata": {},
   "outputs": [],
   "source": [
    "from multiversx_sdk.abi import Abi, AbiDefinition\n",
    "\n",
    "abi_definition = AbiDefinition.from_dict({\n",
    "    \"endpoints\": [{\n",
    "        \"name\": \"add\",\n",
    "        \"inputs\": [\n",
    "            {\n",
    "                \"name\": \"value\",\n",
    "                \"type\": \"BigUint\"\n",
    "            }\n",
    "        ],\n",
    "        \"outputs\": []\n",
    "    }]\n",
    "})\n",
    "\n",
    "abi = Abi(definition=abi_definition)"
   ]
  },
  {
   "cell_type": "markdown",
   "metadata": {},
   "source": [
    "### Smart Contract deployments\n",
    "\n",
    "For creating smart contract deploy transactions, we have two options, as well: a `controller` and a `factory`. Both of these are similar to the ones presented above for transferring tokens.\n",
    "\n",
    "When creating transactions that interact with smart contracts, we should provide the ABI file to the `controller` or `factory` if possible, so we can pass the arguments as native values. If the abi is not provided and we know what types the contract expects, we can pass the arguments as `typed values` (ex: BigUIntValue, ListValue, StructValue, etc.) or `bytes`.\n",
    "\n",
    "#### Deploying a smart contract using the controller"
   ]
  },
  {
   "cell_type": "code",
   "execution_count": null,
   "metadata": {},
   "outputs": [],
   "source": [
    "from pathlib import Path\n",
    "\n",
    "from multiversx_sdk import Account, DevnetEntrypoint\n",
    "from multiversx_sdk.abi import Abi, BigUIntValue\n",
    "\n",
    "# prepare the account\n",
    "account = Account.new_from_keystore(\n",
    "    file_path=Path(\"../multiversx_sdk/testutils/testwallets/withDummyMnemonic.json\"),\n",
    "    password=\"password\",\n",
    "    address_index=0\n",
    ")\n",
    "# the developer is responsible for managing the nonce\n",
    "account.nonce = entrypoint.recall_account_nonce(account.address)\n",
    "\n",
    "# load the abi file\n",
    "abi = Abi.load(Path(\"contracts/adder.abi.json\"))\n",
    "\n",
    "# get the smart contracts controller\n",
    "entrypoint = DevnetEntrypoint()\n",
    "controller = entrypoint.create_smart_contract_controller(abi=abi)\n",
    "\n",
    "# load the contract bytecode\n",
    "bytecode = Path(\"contracts/adder.wasm\").read_bytes()\n",
    "\n",
    "# For deploy arguments, use typed value objects if you haven't provided an ABI\n",
    "args = [BigUIntValue(42)]\n",
    "# Or use simple, plain Python values and objects if you have provided an ABI\n",
    "args = [42]\n",
    "\n",
    "deploy_transaction = controller.create_transaction_for_deploy(\n",
    "    sender=account,\n",
    "    nonce=account.get_nonce_then_increment(),\n",
    "    bytecode=bytecode,\n",
    "    gas_limit=5000000,\n",
    "    arguments=args,\n",
    "    is_upgradeable=True,\n",
    "    is_readable=True,\n",
    "    is_payable=True,\n",
    "    is_payable_by_sc=True\n",
    ")\n",
    "\n",
    "# broadcasting the transaction\n",
    "tx_hash = entrypoint.send_transaction(deploy_transaction)"
   ]
  },
  {
   "cell_type": "markdown",
   "metadata": {},
   "source": [
    "When creating transactions using `SmartContractController` or `SmartContractTransactionsFactory`, even if the ABI is available and provided, you can still use _typed value_ objects as arguments for deployments and interactions.\n",
    "\n",
    "Even further, you can use a mix of typed value objects and plain Python values and objects. For example:\n",
    "```py\n",
    "args = [U32Value(42), \"hello\", { \"foo\": \"bar\" }, TokenIdentifierValue(\"TEST-123456\")]\n",
    "```"
   ]
  },
  {
   "cell_type": "markdown",
   "metadata": {},
   "source": [
    "#### Parsing contract deployment transactions\n",
    "\n",
    "After broadcasting the transaction, we can wait for it's execution to be completed and parse the processed transaction to extract the address of newly deployed smart contract."
   ]
  },
  {
   "cell_type": "code",
   "execution_count": null,
   "metadata": {},
   "outputs": [],
   "source": [
    "# we use the transaction hash we got when broadcasting the transaction\n",
    "contract_deploy_outcome = controller.await_completed_deploy(tx_hash)  # waits for transaction completion and parses the result\n",
    "contract_address = contract_deploy_outcome.contracts[0].address\n",
    "print(contract_address.to_bech32())"
   ]
  },
  {
   "cell_type": "markdown",
   "metadata": {},
   "source": [
    "If we want to wait for transaction completion and parse the result in two different steps, we can do as follows:"
   ]
  },
  {
   "cell_type": "code",
   "execution_count": null,
   "metadata": {},
   "outputs": [],
   "source": [
    "# we use the transaction hash we got when broadcasting the transaction\n",
    "# waiting for transaction completion\n",
    "transaction_on_network = entrypoint.await_transaction_completed(tx_hash)\n",
    "\n",
    "# parsing the transaction\n",
    "contract_deploy_outcome = controller.parse_deploy(transaction_on_network)"
   ]
  },
  {
   "cell_type": "markdown",
   "metadata": {},
   "source": [
    "#### Computing the smart contract address\n",
    "\n",
    "Even before broadcasting, at the moment you know the sender's address and the nonce for your deployment transaction, you can (deterministically) compute the (upcoming) address of the smart contract:"
   ]
  },
  {
   "cell_type": "code",
   "execution_count": null,
   "metadata": {},
   "outputs": [],
   "source": [
    "from multiversx_sdk import Address, AddressComputer\n",
    "\n",
    "# we used Alice for deploying the contract, so we are using her address\n",
    "alice = Address.new_from_bech32(\"erd1qyu5wthldzr8wx5c9ucg8kjagg0jfs53s8nr3zpz3hypefsdd8ssycr6th\")\n",
    "\n",
    "address_computer = AddressComputer()\n",
    "contract_address = address_computer.compute_contract_address(\n",
    "    deployer=alice,\n",
    "    deployment_nonce=deploy_transaction.nonce  # the same nonce we set on the deploy transaction\n",
    ")\n",
    "\n",
    "print(\"Contract address:\", contract_address.to_bech32())"
   ]
  },
  {
   "cell_type": "markdown",
   "metadata": {},
   "source": [
    "#### Deploying a smart contract using the factory\n",
    "\n",
    "After the transaction is created the `nonce` needs to be properly set and the transaction should be signed before broadcasting it."
   ]
  },
  {
   "cell_type": "code",
   "execution_count": null,
   "metadata": {},
   "outputs": [],
   "source": [
    "from pathlib import Path\n",
    "\n",
    "from multiversx_sdk import Address, DevnetEntrypoint, SmartContractTransactionsOutcomeParser\n",
    "from multiversx_sdk.abi import Abi, BigUIntValue\n",
    "\n",
    "\n",
    "# load the abi file\n",
    "abi = Abi.load(Path(\"contracts/adder.abi.json\"))\n",
    "\n",
    "# get the smart contracts controller\n",
    "entrypoint = DevnetEntrypoint()\n",
    "factory = entrypoint.create_smart_contract_transactions_factory(abi=abi)\n",
    "\n",
    "# load the contract bytecode\n",
    "bytecode = Path(\"contracts/adder.wasm\").read_bytes()\n",
    "\n",
    "# For deploy arguments, use typed value objects if you haven't provided an ABI to the factory:\n",
    "args = [BigUIntValue(42)]\n",
    "# Or use simple, plain Python values and objects if you have provided an ABI to the factory:\n",
    "args = [42]\n",
    "\n",
    "alice_address = Address.new_from_bech32(\"erd1qyu5wthldzr8wx5c9ucg8kjagg0jfs53s8nr3zpz3hypefsdd8ssycr6th\")\n",
    "\n",
    "deploy_transaction = factory.create_transaction_for_deploy(\n",
    "    sender=alice_address,\n",
    "    bytecode=bytecode,\n",
    "    gas_limit=5000000,\n",
    "    arguments=args,\n",
    "    is_upgradeable=True,\n",
    "    is_readable=True,\n",
    "    is_payable=True,\n",
    "    is_payable_by_sc=True\n",
    ")\n",
    "\n",
    "# load the account\n",
    "alice = Account.new_from_keystore(\n",
    "    file_path=Path(\"../multiversx_sdk/testutils/testwallets/withDummyMnemonic.json\"),\n",
    "    password=\"password\",\n",
    "    address_index=0\n",
    ")\n",
    "# the developer is responsible for managing the nonce\n",
    "alice.nonce = entrypoint.recall_account_nonce(alice.address)\n",
    "\n",
    "# set the nonce\n",
    "deploy_transaction.nonce = alice.nonce\n",
    "\n",
    "# sign transaction\n",
    "deploy_transaction.signature = alice.sign_transaction(deploy_transaction)\n",
    "\n",
    "# broadcasting the transaction\n",
    "tx_hash = entrypoint.send_transaction(deploy_transaction)\n",
    "print(tx_hash.hex())\n",
    "\n",
    "# waiting for transaction to complete\n",
    "transaction_on_network = entrypoint.await_transaction_completed(tx_hash)\n",
    "\n",
    "# parsing transaction\n",
    "parser = SmartContractTransactionsOutcomeParser(abi)\n",
    "contract_deploy_outcome = parser.parse_deploy(transaction_on_network)\n",
    "\n",
    "contract_address = contract_deploy_outcome.contracts[0].address\n",
    "print(contract_address.to_bech32())"
   ]
  },
  {
   "cell_type": "markdown",
   "metadata": {},
   "source": [
    "### Smart Contract calls\n",
    "\n",
    "In this section we'll see how we can call an endpoint of our previously deployed smart contract using both approaches with the `controller` and the `factory`.\n",
    "\n",
    "#### Calling a smart contract using the controller"
   ]
  },
  {
   "cell_type": "code",
   "execution_count": null,
   "metadata": {},
   "outputs": [],
   "source": [
    "from pathlib import Path\n",
    "\n",
    "from multiversx_sdk import Account, DevnetEntrypoint\n",
    "from multiversx_sdk.abi import Abi, BigUIntValue\n",
    "\n",
    "# prepare the account\n",
    "account = Account.new_from_keystore(\n",
    "    file_path=Path(\"../multiversx_sdk/testutils/testwallets/withDummyMnemonic.json\"),\n",
    "    password=\"password\",\n",
    "    address_index=0\n",
    ")\n",
    "# the developer is responsible for managing the nonce\n",
    "account.nonce = entrypoint.recall_account_nonce(account.address)\n",
    "\n",
    "# load the abi file\n",
    "abi = Abi.load(Path(\"contracts/adder.abi.json\"))\n",
    "\n",
    "# get the smart contracts controller\n",
    "entrypoint = DevnetEntrypoint()\n",
    "controller = entrypoint.create_smart_contract_controller(abi=abi)\n",
    "\n",
    "contract_address = Address.new_from_bech32(\"erd1qqqqqqqqqqqqqpgq7cmfueefdqkjsnnjnwydw902v8pwjqy3d8ssd4meug\")\n",
    "\n",
    "# For deploy arguments, use typed value objects if you haven't provided an ABI\n",
    "args = [BigUIntValue(42)]\n",
    "# Or use simple, plain Python values and objects if you have provided an ABI\n",
    "args = [42]\n",
    "\n",
    "deploy_transaction = controller.create_transaction_for_execute(\n",
    "    sender=account,\n",
    "    nonce=account.get_nonce_then_increment(),\n",
    "    contract=contract_address,\n",
    "    gas_limit=5000000,\n",
    "    function=\"add\",\n",
    "    arguments=args\n",
    ")\n",
    "\n",
    "# broadcasting the transaction\n",
    "tx_hash = entrypoint.send_transaction(deploy_transaction)\n",
    "print(tx_hash.hex())"
   ]
  },
  {
   "cell_type": "markdown",
   "metadata": {},
   "source": [
    "#### Parsing smart contract call transactions\n",
    "\n",
    "In our case, calling the `add` endpoint does not return anything, but similar to the example above, we could parse this transaction to get the output values of a smart contract call."
   ]
  },
  {
   "cell_type": "code",
   "execution_count": null,
   "metadata": {},
   "outputs": [],
   "source": [
    "# waits for transaction completion and parses the result\n",
    "# we use the transaction hash we got when broadcasting the transaction\n",
    "contract_call_outcome = controller.await_completed_execute(tx_hash)\n",
    "values = contract_call_outcome.values"
   ]
  },
  {
   "cell_type": "markdown",
   "metadata": {},
   "source": [
    "#### Calling a smart contract and sending tokens (transfer & execute)\n",
    "\n",
    "Additionally, if our endpoint requires a payment when called, we can also send tokens to the contract when creating a smart contract call transaction. We can send EGLD, ESDT tokens or both. This is supported both on the `controller` and the `factory`."
   ]
  },
  {
   "cell_type": "code",
   "execution_count": null,
   "metadata": {},
   "outputs": [],
   "source": [
    "from pathlib import Path\n",
    "\n",
    "from multiversx_sdk import Account, DevnetEntrypoint, Token, TokenTransfer\n",
    "from multiversx_sdk.abi import Abi, BigUIntValue\n",
    "\n",
    "# prepare the account\n",
    "account = Account.new_from_keystore(\n",
    "    file_path=Path(\"../multiversx_sdk/testutils/testwallets/withDummyMnemonic.json\"),\n",
    "    password=\"password\",\n",
    "    address_index=0\n",
    ")\n",
    "# the developer is responsible for managing the nonce\n",
    "account.nonce = entrypoint.recall_account_nonce(account.address)\n",
    "\n",
    "# load the abi file\n",
    "abi = Abi.load(Path(\"contracts/adder.abi.json\"))\n",
    "\n",
    "# get the smart contracts controller\n",
    "entrypoint = DevnetEntrypoint()\n",
    "controller = entrypoint.create_smart_contract_controller(abi=abi)\n",
    "\n",
    "contract_address = Address.new_from_bech32(\"erd1qqqqqqqqqqqqqpgq7cmfueefdqkjsnnjnwydw902v8pwjqy3d8ssd4meug\")\n",
    "\n",
    "# For deploy arguments, use typed value objects if you haven't provided an ABI\n",
    "args = [BigUIntValue(42)]\n",
    "# Or use simple, plain Python values and objects if you have provided an ABI\n",
    "args = [42]\n",
    "\n",
    "# creating the transfer\n",
    "first_token = Token(\"TEST-38f249\", 10)\n",
    "first_transfer = TokenTransfer(first_token, 1)\n",
    "\n",
    "second_token = Token(\"BAR-c80d29\")\n",
    "second_transfer = TokenTransfer(second_token, 10000000000000000000)\n",
    "\n",
    "execute_transaction = controller.create_transaction_for_execute(\n",
    "    sender=account,\n",
    "    nonce=account.get_nonce_then_increment(),\n",
    "    contract=contract_address,\n",
    "    gas_limit=5000000,\n",
    "    function=\"add\",\n",
    "    arguments=args,\n",
    "    native_transfer_amount=1000000000000000000,  # 1 EGLD,\n",
    "    token_transfers=[first_transfer, second_transfer]\n",
    ")\n",
    "\n",
    "# broadcasting the transaction\n",
    "tx_hash = entrypoint.send_transaction(execute_transaction)\n",
    "print(tx_hash.hex())"
   ]
  },
  {
   "cell_type": "markdown",
   "metadata": {},
   "source": [
    "#### Calling a smart contract using the factory\n",
    "\n",
    "Let's create the same smart contract call transaction, but using the `factory`."
   ]
  },
  {
   "cell_type": "code",
   "execution_count": null,
   "metadata": {},
   "outputs": [],
   "source": [
    "from pathlib import Path\n",
    "\n",
    "from multiversx_sdk import Account, DevnetEntrypoint, Token, TokenTransfer\n",
    "from multiversx_sdk.abi import Abi, BigUIntValue\n",
    "\n",
    "# prepare the account\n",
    "account = Account.new_from_keystore(\n",
    "    file_path=Path(\"../multiversx_sdk/testutils/testwallets/withDummyMnemonic.json\"),\n",
    "    password=\"password\",\n",
    "    address_index=0\n",
    ")\n",
    "# the developer is responsible for managing the nonce\n",
    "account.nonce = entrypoint.recall_account_nonce(account.address)\n",
    "\n",
    "# load the abi file\n",
    "abi = Abi.load(Path(\"contracts/adder.abi.json\"))\n",
    "\n",
    "# get the smart contracts controller\n",
    "entrypoint = DevnetEntrypoint()\n",
    "factory = entrypoint.create_smart_contract_transactions_factory(abi=abi)\n",
    "\n",
    "contract_address = Address.new_from_bech32(\"erd1qqqqqqqqqqqqqpgq7cmfueefdqkjsnnjnwydw902v8pwjqy3d8ssd4meug\")\n",
    "\n",
    "# For deploy arguments, use typed value objects if you haven't provided an ABI to the factory:\n",
    "args = [BigUIntValue(42)]\n",
    "# Or use simple, plain Python values and objects if you have provided an ABI to the factory:\n",
    "args = [42]\n",
    "\n",
    "# creating the transfer\n",
    "first_token = Token(\"TEST-38f249\", 10)\n",
    "first_transfer = TokenTransfer(first_token, 1)\n",
    "\n",
    "second_token = Token(\"BAR-c80d29\")\n",
    "second_transfer = TokenTransfer(second_token, 10000000000000000000)\n",
    "\n",
    "execute_transaction = factory.create_transaction_for_execute(\n",
    "    sender=account.address,\n",
    "    contract=contract_address,\n",
    "    gas_limit=5000000,\n",
    "    function=\"add\",\n",
    "    arguments=args,\n",
    "    native_transfer_amount=1000000000000000000,  # 1 EGLD,\n",
    "    token_transfers=[first_transfer, second_transfer]\n",
    ")\n",
    "\n",
    "execute_transaction.nonce = account.get_nonce_then_increment()\n",
    "execute_transaction.signature = account.sign_transaction(execute_transaction)\n",
    "\n",
    "# broadcasting the transaction\n",
    "tx_hash = entrypoint.send_transaction(execute_transaction)\n",
    "print(tx_hash.hex())"
   ]
  },
  {
   "cell_type": "markdown",
   "metadata": {},
   "source": [
    "#### Parsing transaction outcome\n",
    "\n",
    "As said before, the `add` endpoint we called does not return anything, but we could parse the outcome of smart contract call transactions, as follows:"
   ]
  },
  {
   "cell_type": "code",
   "execution_count": null,
   "metadata": {},
   "outputs": [],
   "source": [
    "from multiversx_sdk import DevnetEntrypoint, SmartContractTransactionsOutcomeParser\n",
    "from multiversx_sdk.abi import Abi\n",
    "\n",
    "# load the abi file\n",
    "abi = Abi.load(Path(\"contracts/adder.abi.json\"))\n",
    "\n",
    "# create the parser\n",
    "parser = SmartContractTransactionsOutcomeParser(abi=abi)\n",
    "\n",
    "# fetch the transaction of the network\n",
    "transaction_on_network = entrypoint.get_transaction(tx_hash)  # the tx_hash from the transaction sent above\n",
    "\n",
    "outcome = parser.parse_execute(transaction=transaction_on_network, function=\"add\")"
   ]
  },
  {
   "cell_type": "markdown",
   "metadata": {},
   "source": [
    "#### Decoding transaction events\n",
    "\n",
    "You might be interested into decoding events emitted by a contract. You can do so by using the `TransactionEventsParser`.\n",
    "\n",
    "Suppose we'd like to decode a `startPerformAction` event emitted by the [multisig](https://github.com/multiversx/mx-contracts-rs/tree/main/contracts/multisig) contract.\n",
    "\n",
    "First, we load the abi file, then we fetch the transaction, we extract the event from the transaction and then we parse it. "
   ]
  },
  {
   "cell_type": "code",
   "execution_count": null,
   "metadata": {},
   "outputs": [],
   "source": [
    "from multiversx_sdk import DevnetEntrypoint, TransactionEventsParser, find_events_by_first_topic\n",
    "from multiversx_sdk.abi import Abi\n",
    "\n",
    "# load the abi file\n",
    "abi = Abi.load(Path(\"contracts/multisig-full.abi.json\"))\n",
    "\n",
    "# fetch the transaction of the network\n",
    "network_provider = DevnetEntrypoint().create_network_provider()\n",
    "transaction_on_network = network_provider.get_transaction(tx_hash)\n",
    "\n",
    "# extract the event from the transaction\n",
    "[event] = find_events_by_first_topic(transaction_on_network, \"startPerformAction\")\n",
    "\n",
    "# create the parser\n",
    "events_parser = TransactionEventsParser(abi=abi)\n",
    "\n",
    "# parse the event\n",
    "parsed_event = events_parser.parse_event(event)"
   ]
  },
  {
   "cell_type": "markdown",
   "metadata": {},
   "source": [
    "#### Encoding/Decoding custom types\n",
    "\n",
    "Whenever needed, the contract ABI can be used for manually encoding or decoding custom types.\n",
    "\n",
    "Let's encode a struct called `EsdtTokenPayment` (of [multisig](https://github.com/multiversx/mx-contracts-rs/tree/main/contracts/multisig) contract) into binary data."
   ]
  },
  {
   "cell_type": "code",
   "execution_count": null,
   "metadata": {},
   "outputs": [],
   "source": [
    "from pathlib import Path\n",
    "from multiversx_sdk.abi import Abi\n",
    "\n",
    "abi = Abi.load(Path(\"contracts/multisig-full.abi.json\"))\n",
    "encoded = abi.encode_custom_type(\"EsdtTokenPayment\", [\"TEST-8b028f\", 0, 10000])\n",
    "print(encoded)"
   ]
  },
  {
   "cell_type": "markdown",
   "metadata": {},
   "source": [
    "Now, let's decode a struct using the ABI."
   ]
  },
  {
   "cell_type": "code",
   "execution_count": null,
   "metadata": {},
   "outputs": [],
   "source": [
    "from multiversx_sdk.abi import Abi, AbiDefinition\n",
    "\n",
    "abi_definition = AbiDefinition.from_dict(\n",
    "    {\n",
    "        \"endpoints\": [],\n",
    "        \"events\": [],\n",
    "        \"types\": {\n",
    "            \"DepositEvent\": {\n",
    "                \"type\": \"struct\",\n",
    "                \"fields\": [\n",
    "                    {\"name\": \"tx_nonce\", \"type\": \"u64\"},\n",
    "                    {\"name\": \"opt_function\", \"type\": \"Option<bytes>\"},\n",
    "                    {\"name\": \"opt_arguments\", \"type\": \"Option<List<bytes>>\"},\n",
    "                    {\"name\": \"opt_gas_limit\", \"type\": \"Option<u64>\"},\n",
    "                ],\n",
    "            }\n",
    "        },\n",
    "    }\n",
    ")\n",
    "abi = Abi(abi_definition)\n",
    "\n",
    "decoded_type = abi.decode_custom_type(name=\"DepositEvent\", data=bytes.fromhex(\"00000000000003db000000\"))\n",
    "print(decoded_type)"
   ]
  },
  {
   "cell_type": "markdown",
   "metadata": {},
   "source": [
    "If you don't wish to use the ABI, there is another way to do it. First, let's encode a struct."
   ]
  },
  {
   "cell_type": "code",
   "execution_count": null,
   "metadata": {},
   "outputs": [],
   "source": [
    "from multiversx_sdk.abi import Serializer, U64Value, StructValue, Field, StringValue, BigUIntValue\n",
    "\n",
    "struct = StructValue([\n",
    "    Field(name=\"token_identifier\", value=StringValue(\"TEST-8b028f\")),\n",
    "    Field(name=\"token_nonce\", value=U64Value()),\n",
    "    Field(name=\"amount\", value=BigUIntValue(10000)),\n",
    "])\n",
    "\n",
    "serializer = Serializer()\n",
    "serialized_struct = serializer.serialize([struct])\n",
    "print(serialized_struct)"
   ]
  },
  {
   "cell_type": "markdown",
   "metadata": {},
   "source": [
    "Now, let's decode a struct without using the ABI."
   ]
  },
  {
   "cell_type": "code",
   "execution_count": null,
   "metadata": {},
   "outputs": [],
   "source": [
    "from multiversx_sdk.abi import Serializer, U64Value, OptionValue, BytesValue, ListValue, StructValue, Field\n",
    "\n",
    "tx_nonce = U64Value()\n",
    "function = OptionValue(BytesValue())\n",
    "arguments = OptionValue(ListValue([BytesValue()]))\n",
    "gas_limit = OptionValue(U64Value())\n",
    "\n",
    "attributes = StructValue([\n",
    "    Field(\"tx_nonce\", tx_nonce),\n",
    "    Field(\"opt_function\", function),\n",
    "    Field(\"opt_arguments\", arguments),\n",
    "    Field(\"opt_gas_limit\", gas_limit)\n",
    "])\n",
    "\n",
    "serializer = Serializer()\n",
    "serializer.deserialize(\"00000000000003db000000\", [attributes])\n",
    "\n",
    "print(tx_nonce.get_payload())\n",
    "print(function.get_payload())\n",
    "print(arguments.get_payload())\n",
    "print(gas_limit.get_payload())"
   ]
  },
  {
   "cell_type": "markdown",
   "metadata": {},
   "source": [
    "### Smart Contract queries\n",
    "\n",
    "When querying a smart contract, a **view function** is called. That function does not modify the state of the contract, thus we don't need to send a transaction.\n",
    "\n",
    "To query a smart contract, we need to use the `SmartContractController`. Of course, we can use the contract's abi file to encode the arguments of the query, but also parse the result. In this example, we are going to use the [adder](https://github.com/multiversx/mx-contracts-rs/tree/main/contracts/adder) smart contract and we'll call the `getSum` endpoint."
   ]
  },
  {
   "cell_type": "code",
   "execution_count": null,
   "metadata": {},
   "outputs": [],
   "source": [
    "from multiversx_sdk import Address, DevnetEntrypoint\n",
    "from multiversx_sdk.abi import Abi\n",
    "\n",
    "# load the abi file\n",
    "abi = Abi.load(Path(\"contracts/adder.abi.json\"))\n",
    "\n",
    "# the contract address we'll query\n",
    "contract_address = Address.new_from_bech32(\"erd1qqqqqqqqqqqqqpgq7cmfueefdqkjsnnjnwydw902v8pwjqy3d8ssd4meug\")\n",
    "\n",
    "# create the controller\n",
    "sc_controller = DevnetEntrypoint().create_smart_contract_controller(abi=abi)\n",
    "\n",
    "# creates the query, runs the query, parses the result\n",
    "response = sc_controller.query(\n",
    "    contract=contract_address,\n",
    "    function=\"getSum\",\n",
    "    arguments=[]  # our function expects no arguments, so we provide an empty list\n",
    ")"
   ]
  },
  {
   "cell_type": "markdown",
   "metadata": {},
   "source": [
    "If we need more granular control, we can split the process in three steps: create the query, run the query and parse the query response. This does the exact same as the example above."
   ]
  },
  {
   "cell_type": "code",
   "execution_count": null,
   "metadata": {},
   "outputs": [],
   "source": [
    "from multiversx_sdk import Address, DevnetEntrypoint\n",
    "from multiversx_sdk.abi import Abi\n",
    "\n",
    "# load the abi file\n",
    "abi = Abi.load(Path(\"contracts/adder.abi.json\"))\n",
    "\n",
    "# the contract address we'll query\n",
    "contract_address = Address.new_from_bech32(\"erd1qqqqqqqqqqqqqpgq7cmfueefdqkjsnnjnwydw902v8pwjqy3d8ssd4meug\")\n",
    "\n",
    "# create the controller\n",
    "sc_controller = DevnetEntrypoint().create_smart_contract_controller(abi=abi)\n",
    "\n",
    "# creates the query\n",
    "query = sc_controller.create_query(\n",
    "    contract=contract_address,\n",
    "    function=\"getSum\",\n",
    "    arguments=[]  # our function expects no arguments, so we provide an empty list\n",
    ")\n",
    "\n",
    "# run the query\n",
    "result = sc_controller.run_query(query)\n",
    "\n",
    "# parse the result\n",
    "parsed_result = sc_controller.parse_query_response(result)"
   ]
  },
  {
   "cell_type": "markdown",
   "metadata": {},
   "source": [
    "### Upgrading a smart contract\n",
    "\n",
    "Contract upgrade transactions are similar to deployment transactions (see above), in the sense that they also require a contract bytecode. In this context though, the contract address is already known. Similar to deploying a smart contract, we can upgrade a smart contract using either the `controller` or the `factory`.\n",
    "\n",
    "#### Uprgrading a smart contract using the controller"
   ]
  },
  {
   "cell_type": "code",
   "execution_count": null,
   "metadata": {},
   "outputs": [],
   "source": [
    "from pathlib import Path\n",
    "\n",
    "from multiversx_sdk import Account, Address, DevnetEntrypoint\n",
    "from multiversx_sdk.abi import Abi, BigUIntValue\n",
    "\n",
    "# prepare the account\n",
    "account = Account.new_from_keystore(\n",
    "    file_path=Path(\"../multiversx_sdk/testutils/testwallets/withDummyMnemonic.json\"),\n",
    "    password=\"password\",\n",
    "    address_index=0\n",
    ")\n",
    "# the developer is responsible for managing the nonce\n",
    "account.nonce = entrypoint.recall_account_nonce(account.address)\n",
    "\n",
    "# load the abi file\n",
    "abi = Abi.load(Path(\"contracts/adder.abi.json\"))\n",
    "\n",
    "# get the smart contracts controller\n",
    "entrypoint = DevnetEntrypoint()\n",
    "controller = entrypoint.create_smart_contract_controller(abi=abi)\n",
    "\n",
    "# load the contract bytecode; this is the new contract code, the one we want to upgrade to\n",
    "bytecode = Path(\"contracts/adder.wasm\").read_bytes()\n",
    "\n",
    "# For deploy arguments, use typed value objects if you haven't provided an ABI\n",
    "args = [BigUIntValue(42)]\n",
    "# Or use simple, plain Python values and objects if you have provided an ABI\n",
    "args = [42]\n",
    "\n",
    "contract_address = Address.new_from_bech32(\n",
    "    \"erd1qqqqqqqqqqqqqpgq7cmfueefdqkjsnnjnwydw902v8pwjqy3d8ssd4meug\")\n",
    "\n",
    "deploy_transaction = controller.create_transaction_for_upgrade(\n",
    "    sender=account,\n",
    "    nonce=account.get_nonce_then_increment(),\n",
    "    contract=contract_address,\n",
    "    bytecode=bytecode,\n",
    "    gas_limit=5000000,\n",
    "    arguments=args,\n",
    "    is_upgradeable=True,\n",
    "    is_readable=True,\n",
    "    is_payable=True,\n",
    "    is_payable_by_sc=True\n",
    ")\n",
    "\n",
    "# broadcasting the transaction\n",
    "tx_hash = entrypoint.send_transaction(deploy_transaction)\n",
    "print(tx_hash.hex())"
   ]
  },
  {
   "cell_type": "markdown",
   "metadata": {},
   "source": [
    "#### Upgrading a smart contract using the factory\n",
    "\n",
    "Let's create the same upgrade transaction using the `factory`."
   ]
  },
  {
   "cell_type": "code",
   "execution_count": null,
   "metadata": {},
   "outputs": [],
   "source": [
    "from pathlib import Path\n",
    "\n",
    "from multiversx_sdk import Account, Address, DevnetEntrypoint\n",
    "from multiversx_sdk.abi import Abi, BigUIntValue\n",
    "\n",
    "\n",
    "# load the abi file\n",
    "abi = Abi.load(Path(\"contracts/adder.abi.json\"))\n",
    "\n",
    "# get the smart contracts controller\n",
    "entrypoint = DevnetEntrypoint()\n",
    "factory = entrypoint.create_smart_contract_transactions_factory(abi=abi)\n",
    "\n",
    "# load the contract bytecode; this is the new contract code, the one we want to upgrade to\n",
    "bytecode = Path(\"contracts/adder.wasm\").read_bytes()\n",
    "\n",
    "# For deploy arguments, use typed value objects if you haven't provided an ABI to the factory:\n",
    "args = [BigUIntValue(42)]\n",
    "# Or use simple, plain Python values and objects if you have provided an ABI to the factory:\n",
    "args = [42]\n",
    "\n",
    "alice_address = Address.new_from_bech32(\n",
    "    \"erd1qyu5wthldzr8wx5c9ucg8kjagg0jfs53s8nr3zpz3hypefsdd8ssycr6th\")\n",
    "\n",
    "contract_address = Address.new_from_bech32(\n",
    "    \"erd1qqqqqqqqqqqqqpgq7cmfueefdqkjsnnjnwydw902v8pwjqy3d8ssd4meug\")\n",
    "\n",
    "deploy_transaction = factory.create_transaction_for_upgrade(\n",
    "    sender=alice_address,\n",
    "    contract=contract_address,\n",
    "    bytecode=bytecode,\n",
    "    gas_limit=5000000,\n",
    "    arguments=args,\n",
    "    is_upgradeable=True,\n",
    "    is_readable=True,\n",
    "    is_payable=True,\n",
    "    is_payable_by_sc=True\n",
    ")\n",
    "\n",
    "# load the account\n",
    "alice = Account.new_from_keystore(\n",
    "    file_path=Path(\"../multiversx_sdk/testutils/testwallets/withDummyMnemonic.json\"),\n",
    "    password=\"password\",\n",
    "    address_index=0\n",
    ")\n",
    "# the developer is responsible for managing the nonce\n",
    "alice.nonce = entrypoint.recall_account_nonce(alice.address)\n",
    "\n",
    "# set the nonce\n",
    "deploy_transaction.nonce = alice.nonce\n",
    "\n",
    "# sign transaction\n",
    "deploy_transaction.signature = alice.sign_transaction(deploy_transaction)\n",
    "\n",
    "# broadcasting the transaction\n",
    "tx_hash = entrypoint.send_transaction(deploy_transaction)\n",
    "print(tx_hash.hex())"
   ]
  },
  {
   "cell_type": "markdown",
   "metadata": {},
   "source": [
    "### Token management\n",
    "\n",
    "In this section, we're going to create transactions to issue fungible tokens, issue semi-fungible tokens, create NFTs, set token roles, but also parse these transactions to extract their outcome (e.g. get the token identifier of the newly issued token).\n",
    "\n",
    "Of course, the methods used here are available through the `TokenManagementController` or through the `TokenManagementTransactionsFactory`. The controller also contains methods for awaiting transaction completion and for parsing the transaction outcome. The same can be achieved for the transactions factory by using the `TokenManagementTransactionsOutcomeParser`. For scripts or quick network interactions we advise you use the controller, but for a more granular approach (e.g. DApps) we suggest using the factory.\n",
    "\n",
    "#### Issuing fungible tokens using the controller"
   ]
  },
  {
   "cell_type": "code",
   "execution_count": null,
   "metadata": {},
   "outputs": [],
   "source": [
    "from pathlib import Path\n",
    "from multiversx_sdk import Account, DevnetEntrypoint\n",
    "\n",
    "# create the entrypoint and the token management controller\n",
    "entrypoint = DevnetEntrypoint()\n",
    "controller = entrypoint.create_token_management_controller()\n",
    "\n",
    "# create the issuer of the token\n",
    "alice = Account.new_from_pem(Path(\"../multiversx_sdk/testutils/testwallets/alice.pem\"))\n",
    "\n",
    "# fetch the nonce of the network\n",
    "alice.nonce = entrypoint.recall_account_nonce(alice.address)\n",
    "\n",
    "transaction = controller.create_transaction_for_issuing_fungible(\n",
    "    sender=alice,\n",
    "    nonce=alice.get_nonce_then_increment(),\n",
    "    token_name=\"NEWFNG\",\n",
    "    token_ticker=\"FNG\",\n",
    "    initial_supply=1_000_000_000000,  # 1 million tokens, with 6 decimals\n",
    "    num_decimals=6,\n",
    "    can_freeze=False,\n",
    "    can_wipe=True,\n",
    "    can_pause=False,\n",
    "    can_change_owner=True,\n",
    "    can_upgrade=True,\n",
    "    can_add_special_roles=True\n",
    ")\n",
    "\n",
    "# sending the transaction\n",
    "tx_hash = entrypoint.send_transaction(transaction)\n",
    "\n",
    "# wait for transaction to execute, extract the token identifier\n",
    "outcome = controller.await_completed_issue_fungible(tx_hash)\n",
    "\n",
    "token_identifier = outcome[0].token_identifier"
   ]
  },
  {
   "cell_type": "markdown",
   "metadata": {},
   "source": [
    "#### Issuing fungible tokens using the factory"
   ]
  },
  {
   "cell_type": "code",
   "execution_count": null,
   "metadata": {},
   "outputs": [],
   "source": [
    "from pathlib import Path\n",
    "from multiversx_sdk import Account, DevnetEntrypoint, TokenManagementTransactionsOutcomeParser\n",
    "\n",
    "# create the entrypoint and the token management transactions factory\n",
    "entrypoint = DevnetEntrypoint()\n",
    "factory = entrypoint.create_token_management_transactions_factory()\n",
    "\n",
    "# create the issuer of the token\n",
    "alice = Account.new_from_pem(Path(\"../multiversx_sdk/testutils/testwallets/alice.pem\"))\n",
    "\n",
    "transaction = factory.create_transaction_for_issuing_fungible(\n",
    "    sender=alice.address,\n",
    "    token_name=\"NEWFNG\",\n",
    "    token_ticker=\"FNG\",\n",
    "    initial_supply=1_000_000_000000,  # 1 million tokens, with 6 decimals\n",
    "    num_decimals=6,\n",
    "    can_freeze=False,\n",
    "    can_wipe=True,\n",
    "    can_pause=False,\n",
    "    can_change_owner=True,\n",
    "    can_upgrade=True,\n",
    "    can_add_special_roles=True\n",
    ")\n",
    "\n",
    "# fetch the nonce of the network\n",
    "alice.nonce = entrypoint.recall_account_nonce(alice.address)\n",
    "transaction.nonce = alice.get_nonce_then_increment()\n",
    "\n",
    "# sign the transaction\n",
    "transaction.signature = alice.sign_transaction(transaction)\n",
    "\n",
    "# sending the transaction\n",
    "tx_hash = entrypoint.send_transaction(transaction)\n",
    "\n",
    "# if we know that the transaction is completed, we can simply call `entrypoint.get_transaction(tx_hash)`\n",
    "transaction_on_network = entrypoint.await_transaction_completed(tx_hash)\n",
    "\n",
    "# extract the token identifier\n",
    "parser = TokenManagementTransactionsOutcomeParser()\n",
    "outcome = parser.parse_issue_fungible(transaction_on_network)\n",
    "\n",
    "token_identifier = outcome[0].token_identifier"
   ]
  },
  {
   "cell_type": "markdown",
   "metadata": {},
   "source": [
    "#### Setting special roles for fungible tokens using the controller"
   ]
  },
  {
   "cell_type": "code",
   "execution_count": null,
   "metadata": {},
   "outputs": [],
   "source": [
    "from pathlib import Path\n",
    "from multiversx_sdk import Account, Address, DevnetEntrypoint\n",
    "\n",
    "# create the entrypoint and the token management controller\n",
    "entrypoint = DevnetEntrypoint()\n",
    "controller = entrypoint.create_token_management_controller()\n",
    "\n",
    "# create the issuer of the token\n",
    "alice = Account.new_from_pem(Path(\"../multiversx_sdk/testutils/testwallets/alice.pem\"))\n",
    "\n",
    "# fetch the nonce of the network\n",
    "alice.nonce = entrypoint.recall_account_nonce(alice.address)\n",
    "\n",
    "bob = Address.new_from_bech32(\"erd1spyavw0956vq68xj8y4tenjpq2wd5a9p2c6j8gsz7ztyrnpxrruqzu66jx\")\n",
    "\n",
    "transaction = controller.create_transaction_for_setting_special_role_on_fungible_token(\n",
    "    sender=alice,\n",
    "    nonce=alice.get_nonce_then_increment(),\n",
    "    user=bob,\n",
    "    token_identifier=\"TEST-123456\",\n",
    "    add_role_local_mint=True,\n",
    "    add_role_local_burn=True,\n",
    "    add_role_esdt_transfer_role=True\n",
    ")\n",
    "\n",
    "# sending the transaction\n",
    "tx_hash = entrypoint.send_transaction(transaction)\n",
    "\n",
    "# wait for transaction to execute, extract the roles\n",
    "outcome = controller.await_completed_set_special_role_on_fungible_token(tx_hash)\n",
    "\n",
    "roles = outcome[0].roles\n",
    "uaser = outcome[0].user_address"
   ]
  },
  {
   "cell_type": "markdown",
   "metadata": {},
   "source": [
    "#### Setting special roles for fungible tokens using the factory"
   ]
  },
  {
   "cell_type": "code",
   "execution_count": null,
   "metadata": {},
   "outputs": [],
   "source": [
    "from pathlib import Path\n",
    "from multiversx_sdk import Account, DevnetEntrypoint, TokenManagementTransactionsOutcomeParser\n",
    "\n",
    "# create the entrypoint and the token management transactions factory\n",
    "entrypoint = DevnetEntrypoint()\n",
    "factory = entrypoint.create_token_management_transactions_factory()\n",
    "\n",
    "# create the issuer of the token\n",
    "alice = Account.new_from_pem(Path(\"../multiversx_sdk/testutils/testwallets/alice.pem\"))\n",
    "\n",
    "transaction = factory.create_transaction_for_setting_special_role_on_fungible_token(\n",
    "    sender=alice.address,\n",
    "    user=bob,\n",
    "    token_identifier=\"TEST-123456\",\n",
    "    add_role_local_mint=True,\n",
    "    add_role_local_burn=True,\n",
    "    add_role_esdt_transfer_role=True\n",
    ")\n",
    "\n",
    "# fetch the nonce of the network\n",
    "alice.nonce = entrypoint.recall_account_nonce(alice.address)\n",
    "transaction.nonce = alice.get_nonce_then_increment()\n",
    "\n",
    "# sign the transaction\n",
    "transaction.signature = alice.sign_transaction(transaction)\n",
    "\n",
    "# sending the transaction\n",
    "tx_hash = entrypoint.send_transaction(transaction)\n",
    "\n",
    "# waits until the transaction is processed and fetches it from the network\n",
    "transaction_on_network = entrypoint.await_transaction_completed(tx_hash)\n",
    "\n",
    "# extract the roles\n",
    "parser = TokenManagementTransactionsOutcomeParser()\n",
    "outcome = parser.parse_set_special_role(transaction_on_network)\n",
    "\n",
    "roles = outcome[0].roles\n",
    "uaser = outcome[0].user_address"
   ]
  },
  {
   "cell_type": "markdown",
   "metadata": {},
   "source": [
    "#### Issuing semi-fungible tokens using the controller"
   ]
  },
  {
   "cell_type": "code",
   "execution_count": null,
   "metadata": {},
   "outputs": [],
   "source": [
    "from pathlib import Path\n",
    "from multiversx_sdk import Account, DevnetEntrypoint\n",
    "\n",
    "# create the entrypoint and the token management controller\n",
    "entrypoint = DevnetEntrypoint()\n",
    "controller = entrypoint.create_token_management_controller()\n",
    "\n",
    "# create the issuer of the token\n",
    "alice = Account.new_from_pem(Path(\"../multiversx_sdk/testutils/testwallets/alice.pem\"))\n",
    "\n",
    "# fetch the nonce of the network\n",
    "alice.nonce = entrypoint.recall_account_nonce(alice.address)\n",
    "\n",
    "transaction = controller.create_transaction_for_issuing_semi_fungible(\n",
    "    sender=alice,\n",
    "    nonce=alice.get_nonce_then_increment(),\n",
    "    token_name=\"NEWSEMI\",\n",
    "    token_ticker=\"SEMI\",\n",
    "    can_freeze=False,\n",
    "    can_wipe=True,\n",
    "    can_pause=False,\n",
    "    can_transfer_nft_create_role=True,\n",
    "    can_change_owner=True,\n",
    "    can_upgrade=True,\n",
    "    can_add_special_roles=True\n",
    ")\n",
    "\n",
    "# sending the transaction\n",
    "tx_hash = entrypoint.send_transaction(transaction)\n",
    "\n",
    "# wait for transaction to execute, extract the token identifier\n",
    "outcome = controller.await_completed_issue_semi_fungible(tx_hash)\n",
    "\n",
    "token_identifier = outcome[0].token_identifier"
   ]
  },
  {
   "cell_type": "markdown",
   "metadata": {},
   "source": [
    "#### Issuing semi-fungible tokens using the factory"
   ]
  },
  {
   "cell_type": "code",
   "execution_count": null,
   "metadata": {},
   "outputs": [],
   "source": [
    "from pathlib import Path\n",
    "from multiversx_sdk import Account, DevnetEntrypoint, TokenManagementTransactionsOutcomeParser\n",
    "\n",
    "# create the entrypoint and the token management transactions factory\n",
    "entrypoint = DevnetEntrypoint()\n",
    "factory = entrypoint.create_token_management_transactions_factory()\n",
    "\n",
    "# create the issuer of the token\n",
    "alice = Account.new_from_pem(Path(\"../multiversx_sdk/testutils/testwallets/alice.pem\"))\n",
    "\n",
    "transaction = factory.create_transaction_for_issuing_semi_fungible(\n",
    "    sender=alice.address,\n",
    "    token_name=\"NEWSEMI\",\n",
    "    token_ticker=\"SEMI\",\n",
    "    can_freeze=False,\n",
    "    can_wipe=True,\n",
    "    can_pause=False,\n",
    "    can_transfer_nft_create_role=True,\n",
    "    can_change_owner=True,\n",
    "    can_upgrade=True,\n",
    "    can_add_special_roles=True\n",
    ")\n",
    "\n",
    "# fetch the nonce of the network\n",
    "alice.nonce = entrypoint.recall_account_nonce(alice.address)\n",
    "transaction.nonce = alice.get_nonce_then_increment()\n",
    "\n",
    "# sign the transaction\n",
    "transaction.signature = alice.sign_transaction(transaction)\n",
    "\n",
    "# sending the transaction\n",
    "tx_hash = entrypoint.send_transaction(transaction)\n",
    "\n",
    "# waits until the transaction is processed and fetches it from the network\n",
    "transaction_on_network = entrypoint.await_transaction_completed(tx_hash)\n",
    "\n",
    "# extract the token identifier\n",
    "parser = TokenManagementTransactionsOutcomeParser()\n",
    "outcome = parser.parse_issue_semi_fungible(transaction_on_network)\n",
    "\n",
    "token_identifier = outcome[0].token_identifier"
   ]
  },
  {
   "cell_type": "markdown",
   "metadata": {},
   "source": [
    "#### Issuing NFT collection & creating NFTs using the controller"
   ]
  },
  {
   "cell_type": "code",
   "execution_count": null,
   "metadata": {},
   "outputs": [],
   "source": [
    "from pathlib import Path\n",
    "from multiversx_sdk import Account, DevnetEntrypoint\n",
    "\n",
    "# create the entrypoint and the token management controller\n",
    "entrypoint = DevnetEntrypoint()\n",
    "controller = entrypoint.create_token_management_controller()\n",
    "\n",
    "# create the issuer of the token\n",
    "alice = Account.new_from_pem(Path(\"../multiversx_sdk/testutils/testwallets/alice.pem\"))\n",
    "\n",
    "# fetch the nonce of the network\n",
    "alice.nonce = entrypoint.recall_account_nonce(alice.address)\n",
    "\n",
    "# issue NFT collection\n",
    "transaction = controller.create_transaction_for_issuing_non_fungible(\n",
    "    sender=alice,\n",
    "    nonce=alice.get_nonce_then_increment(),\n",
    "    token_name=\"NEWNFT\",\n",
    "    token_ticker=\"NFT\",\n",
    "    can_freeze=False,\n",
    "    can_wipe=True,\n",
    "    can_pause=False,\n",
    "    can_transfer_nft_create_role=True,\n",
    "    can_change_owner=True,\n",
    "    can_upgrade=True,\n",
    "    can_add_special_roles=True\n",
    ")\n",
    "\n",
    "# sending the transaction\n",
    "tx_hash = entrypoint.send_transaction(transaction)\n",
    "\n",
    "# wait for transaction to execute, extract the collection identifier\n",
    "outcome = controller.await_completed_issue_non_fungible(tx_hash)\n",
    "\n",
    "collection_identifier = outcome[0].token_identifier\n",
    "\n",
    "# create a NFT\n",
    "transaction = controller.create_transaction_for_creating_nft(\n",
    "    sender=alice,\n",
    "    nonce=alice.get_nonce_then_increment(),\n",
    "    token_identifier=collection_identifier,\n",
    "    initial_quantity=1,\n",
    "    name=\"TEST\",\n",
    "    royalties=2500,  # 25%\n",
    "    hash=\"\",\n",
    "    attributes=b\"\",\n",
    "    uris=[]\n",
    ")\n",
    "\n",
    "# sending the transaction\n",
    "tx_hash = entrypoint.send_transaction(transaction)\n",
    "\n",
    "# wait for transaction to execute, extract the nft identifier\n",
    "outcome = controller.await_completed_create_nft(tx_hash)\n",
    "\n",
    "identifier = outcome[0].token_identifier\n",
    "nonce = outcome[0].nonce\n",
    "initial_quantity = outcome[0].initial_quantity"
   ]
  },
  {
   "cell_type": "markdown",
   "metadata": {},
   "source": [
    "#### Issuing NFT collection & creating NFTs using the factory"
   ]
  },
  {
   "cell_type": "code",
   "execution_count": null,
   "metadata": {},
   "outputs": [],
   "source": [
    "from pathlib import Path\n",
    "from multiversx_sdk import Account, DevnetEntrypoint, TokenManagementTransactionsOutcomeParser\n",
    "\n",
    "# create the entrypoint and the token management transactions factory\n",
    "entrypoint = DevnetEntrypoint()\n",
    "factory = entrypoint.create_token_management_transactions_factory()\n",
    "\n",
    "# create the issuer of the token\n",
    "alice = Account.new_from_pem(Path(\"../multiversx_sdk/testutils/testwallets/alice.pem\"))\n",
    "\n",
    "# issue NFT collection\n",
    "transaction = factory.create_transaction_for_issuing_non_fungible(\n",
    "    sender=alice.address,\n",
    "    token_name=\"NEWTOKEN\",\n",
    "    token_ticker=\"TKN\",\n",
    "    can_freeze=False,\n",
    "    can_wipe=True,\n",
    "    can_pause=False,\n",
    "    can_transfer_nft_create_role=True,\n",
    "    can_change_owner=True,\n",
    "    can_upgrade=True,\n",
    "    can_add_special_roles=True\n",
    ")\n",
    "\n",
    "# fetch the nonce of the network\n",
    "alice.nonce = entrypoint.recall_account_nonce(alice.address)\n",
    "transaction.nonce = alice.get_nonce_then_increment()\n",
    "\n",
    "# sign the transaction\n",
    "transaction.signature = alice.sign_transaction(transaction)\n",
    "\n",
    "# sending the transaction\n",
    "tx_hash = entrypoint.send_transaction(transaction)\n",
    "\n",
    "# if we know that the transaction is completed, we can simply call `get_transaction(tx_hash)`\n",
    "transaction_on_network = entrypoint.await_transaction_completed(tx_hash)\n",
    "\n",
    "# extract the collection identifier\n",
    "parser = TokenManagementTransactionsOutcomeParser()\n",
    "outcome = parser.parse_issue_non_fungible(transaction_on_network)\n",
    "\n",
    "collection_identifier = outcome[0].token_identifier\n",
    "\n",
    "# create a NFT\n",
    "transaction = factory.create_transaction_for_creating_nft(\n",
    "    sender=alice.address,\n",
    "    token_identifier=collection_identifier,\n",
    "    initial_quantity=1,\n",
    "    name=\"TEST\",\n",
    "    royalties=2500,  # 25%\n",
    "    hash=\"\",\n",
    "    attributes=b\"\",\n",
    "    uris=[]\n",
    ")\n",
    "# set the nonce\n",
    "transaction.nonce = alice.get_nonce_then_increment()\n",
    "\n",
    "# sign the transaction\n",
    "transaction.signature = alice.sign_transaction(transaction)\n",
    "\n",
    "# sending the transaction\n",
    "tx_hash = entrypoint.send_transaction(transaction)\n",
    "\n",
    "# waits until the transaction is processed and fetches it from the network\n",
    "transaction_on_network = entrypoint.await_transaction_completed(tx_hash)\n",
    "\n",
    "# extract the nft identifier\n",
    "parser = TokenManagementTransactionsOutcomeParser()\n",
    "outcome = parser.parse_nft_create(transaction_on_network)\n",
    "\n",
    "identifier = outcome[0].token_identifier\n",
    "nonce = outcome[0].nonce\n",
    "initial_quantity = outcome[0].initial_quantity"
   ]
  },
  {
   "cell_type": "markdown",
   "metadata": {},
   "source": [
    "These are just a few examples of what we can do using the token management controller or factory. For a full list of what methods are supported for both, check out the autogenerated documentation:\n",
    "- [TokenManagementController](https://multiversx.github.io/mx-sdk-py/multiversx_sdk.token_management.html#module-multiversx_sdk.token_management.token_management_controller)\n",
    "- [TokenManagementTransactionsFactory](https://multiversx.github.io/mx-sdk-py/multiversx_sdk.token_management.html#module-multiversx_sdk.token_management.token_management_transactions_factory)\n",
    "\n",
    "### Account management\n",
    "\n",
    "The account management controller and factory allow us to create transactions for managing accounts, like guarding and unguarding accounts and saving key-value pairs.\n",
    "\n",
    "To read more about Guardians, check out the [documentation](https://docs.multiversx.com/developers/built-in-functions/#setguardian).\n",
    "\n",
    "A guardian can also be set using the WebWallet. The wallet uses our hosted `Trusted Co-Signer Service`. Check out the steps to guard an account using the wallet [here](https://docs.multiversx.com/wallet/web-wallet/#guardian).\n",
    "\n",
    "#### Guarding an account using the controller"
   ]
  },
  {
   "cell_type": "code",
   "execution_count": null,
   "metadata": {},
   "outputs": [],
   "source": [
    "from pathlib import Path\n",
    "from multiversx_sdk import Account, Address, DevnetEntrypoint\n",
    "\n",
    "# create the entrypoint and the account controller\n",
    "entrypoint = DevnetEntrypoint()\n",
    "controller = entrypoint.create_account_controller()\n",
    "\n",
    "# create the account to guard\n",
    "alice = Account.new_from_pem(Path(\"../multiversx_sdk/testutils/testwallets/alice.pem\"))\n",
    "\n",
    "# fetch the nonce of the network\n",
    "alice.nonce = entrypoint.recall_account_nonce(alice.address)\n",
    "\n",
    "# we can use a trusted service that provides a guardian, or simply set another address we own or trust\n",
    "guardian = Address.new_from_bech32(\"erd1spyavw0956vq68xj8y4tenjpq2wd5a9p2c6j8gsz7ztyrnpxrruqzu66jx\")\n",
    "\n",
    "transaction = controller.create_transaction_for_setting_guardian(\n",
    "    sender=alice,\n",
    "    nonce=alice.get_nonce_then_increment(),\n",
    "    guardian_address=guardian,\n",
    "    service_id=\"SelfOwnedAddress\"  # this is just an example\n",
    ")\n",
    "\n",
    "tx_hash = entrypoint.send_transaction(transaction)"
   ]
  },
  {
   "cell_type": "markdown",
   "metadata": {},
   "source": [
    "#### Guarding an account using the factory"
   ]
  },
  {
   "cell_type": "code",
   "execution_count": null,
   "metadata": {},
   "outputs": [],
   "source": [
    "from pathlib import Path\n",
    "from multiversx_sdk import Account, Address, DevnetEntrypoint\n",
    "\n",
    "# create the entrypoint and the account transactions factory\n",
    "entrypoint = DevnetEntrypoint()\n",
    "factory = entrypoint.create_account_transactions_factory()\n",
    "\n",
    "# create the account to guard\n",
    "alice = Account.new_from_pem(Path(\"../multiversx_sdk/testutils/testwallets/alice.pem\"))\n",
    "\n",
    "# we can use a trusted service that provides a guardian, or simply set another address we own or trust\n",
    "guardian = Address.new_from_bech32(\"erd1spyavw0956vq68xj8y4tenjpq2wd5a9p2c6j8gsz7ztyrnpxrruqzu66jx\")\n",
    "\n",
    "transaction = factory.create_transaction_for_setting_guardian(\n",
    "    sender=alice.address,\n",
    "    guardian_address=guardian,\n",
    "    service_id=\"SelfOwnedAddress\"  # this is just an example\n",
    ")\n",
    "\n",
    "# fetch the nonce of the network\n",
    "alice.nonce = entrypoint.recall_account_nonce(alice.address)\n",
    "\n",
    "# set the nonce\n",
    "transaction.nonce = alice.get_nonce_then_increment()\n",
    "\n",
    "# sign the transaction\n",
    "transaction.signature = alice.sign_transaction(transaction)\n",
    "\n",
    "tx_hash = entrypoint.send_transaction(transaction)"
   ]
  },
  {
   "cell_type": "markdown",
   "metadata": {},
   "source": [
    "After we've set a guardian, we have to wait 20 epochs until we can activate the guardian. After the guardian is set, all the transactions we send should be signed by the guardian, as well.\n",
    "\n",
    "#### Activating the guardian using the controller"
   ]
  },
  {
   "cell_type": "code",
   "execution_count": null,
   "metadata": {},
   "outputs": [],
   "source": [
    "from pathlib import Path\n",
    "from multiversx_sdk import Account, DevnetEntrypoint\n",
    "\n",
    "# create the entrypoint and the account controller\n",
    "entrypoint = DevnetEntrypoint()\n",
    "controller = entrypoint.create_account_controller()\n",
    "\n",
    "# create the account to guard\n",
    "alice = Account.new_from_pem(Path(\"../multiversx_sdk/testutils/testwallets/alice.pem\"))\n",
    "\n",
    "# fetch the nonce of the network\n",
    "alice.nonce = entrypoint.recall_account_nonce(alice.address)\n",
    "\n",
    "transaction = controller.create_transaction_for_guarding_account(\n",
    "    sender=alice,\n",
    "    nonce=alice.get_nonce_then_increment()\n",
    ")\n",
    "\n",
    "tx_hash = entrypoint.send_transaction(transaction)"
   ]
  },
  {
   "cell_type": "markdown",
   "metadata": {},
   "source": [
    "#### Activating the guardian using the factory"
   ]
  },
  {
   "cell_type": "code",
   "execution_count": null,
   "metadata": {},
   "outputs": [],
   "source": [
    "from pathlib import Path\n",
    "from multiversx_sdk import Account, Address, DevnetEntrypoint\n",
    "\n",
    "# create the entrypoint and the account transactions factory\n",
    "entrypoint = DevnetEntrypoint()\n",
    "factory = entrypoint.create_account_transactions_factory()\n",
    "\n",
    "# create the account to guard\n",
    "alice = Account.new_from_pem(Path(\"../multiversx_sdk/testutils/testwallets/alice.pem\"))\n",
    "\n",
    "# we can use a trusted service that provides a guardian, or simply set another address we own or trust\n",
    "guardian = Address.new_from_bech32(\"erd1spyavw0956vq68xj8y4tenjpq2wd5a9p2c6j8gsz7ztyrnpxrruqzu66jx\")\n",
    "\n",
    "transaction = factory.create_transaction_for_guarding_account(\n",
    "    sender=alice.address,\n",
    ")\n",
    "\n",
    "# fetch the nonce of the network\n",
    "alice.nonce = entrypoint.recall_account_nonce(alice.address)\n",
    "\n",
    "# set the nonce\n",
    "transaction.nonce = alice.get_nonce_then_increment()\n",
    "\n",
    "# sign the transaction\n",
    "transaction.signature = alice.sign_transaction(transaction)\n",
    "\n",
    "tx_hash = entrypoint.send_transaction(transaction)"
   ]
  },
  {
   "cell_type": "markdown",
   "metadata": {},
   "source": [
    "#### Unguarding the account using the controller"
   ]
  },
  {
   "cell_type": "code",
   "execution_count": null,
   "metadata": {},
   "outputs": [],
   "source": [
    "from pathlib import Path\n",
    "from multiversx_sdk import Account, Address, DevnetEntrypoint\n",
    "\n",
    "# create the entrypoint and the account controller\n",
    "entrypoint = DevnetEntrypoint()\n",
    "controller = entrypoint.create_account_controller()\n",
    "\n",
    "# create the account to guard\n",
    "alice = Account.new_from_pem(Path(\"../multiversx_sdk/testutils/testwallets/alice.pem\"))\n",
    "\n",
    "# fetch the nonce of the network\n",
    "alice.nonce = entrypoint.recall_account_nonce(alice.address)\n",
    "\n",
    "guardian = Address.new_from_bech32(\"erd1spyavw0956vq68xj8y4tenjpq2wd5a9p2c6j8gsz7ztyrnpxrruqzu66jx\")\n",
    "\n",
    "transaction = controller.create_transaction_for_unguarding_account(\n",
    "    sender=alice,\n",
    "    nonce=alice.get_nonce_then_increment(),\n",
    "    guardian=guardian\n",
    ")\n",
    "\n",
    "# the transaction should also be signed by the guardian before being sent otherwise it won't be executed\n",
    "tx_hash = entrypoint.send_transaction(transaction)"
   ]
  },
  {
   "cell_type": "markdown",
   "metadata": {},
   "source": [
    "#### Unguarding the account using the factory"
   ]
  },
  {
   "cell_type": "code",
   "execution_count": null,
   "metadata": {},
   "outputs": [],
   "source": [
    "from pathlib import Path\n",
    "from multiversx_sdk import Account, Address, DevnetEntrypoint\n",
    "\n",
    "# create the entrypoint and the account transactions factory\n",
    "entrypoint = DevnetEntrypoint()\n",
    "factory = entrypoint.create_account_transactions_factory()\n",
    "\n",
    "# create the account to guard\n",
    "alice = Account.new_from_pem(Path(\"../multiversx_sdk/testutils/testwallets/alice.pem\"))\n",
    "\n",
    "# we can use a trusted service that provides a guardian, or simply set another address we own or trust\n",
    "guardian = Address.new_from_bech32(\"erd1spyavw0956vq68xj8y4tenjpq2wd5a9p2c6j8gsz7ztyrnpxrruqzu66jx\")\n",
    "\n",
    "transaction = factory.create_transaction_for_unguarding_account(\n",
    "    sender=alice.address,\n",
    "    guardian=guardian\n",
    ")\n",
    "\n",
    "# fetch the nonce of the network\n",
    "alice.nonce = entrypoint.recall_account_nonce(alice.address)\n",
    "\n",
    "# set the nonce\n",
    "transaction.nonce = alice.get_nonce_then_increment()\n",
    "\n",
    "# sign the transaction\n",
    "transaction.signature = alice.sign_transaction(transaction)\n",
    "\n",
    "# the transaction should also be signed by the guardian before being sent otherwise it won't be executed\n",
    "tx_hash = entrypoint.send_transaction(transaction)"
   ]
  },
  {
   "cell_type": "markdown",
   "metadata": {},
   "source": [
    "#### Saving a key-value pair to an account using the controller\n",
    "\n",
    "We can store key-value pairs for an acoount on the network. To do so, we create the following transaction:"
   ]
  },
  {
   "cell_type": "code",
   "execution_count": null,
   "metadata": {},
   "outputs": [],
   "source": [
    "from pathlib import Path\n",
    "from multiversx_sdk import Account, DevnetEntrypoint\n",
    "\n",
    "# create the entrypoint and the account controller\n",
    "entrypoint = DevnetEntrypoint()\n",
    "controller = entrypoint.create_account_controller()\n",
    "\n",
    "# create the account to guard\n",
    "alice = Account.new_from_pem(Path(\"../multiversx_sdk/testutils/testwallets/alice.pem\"))\n",
    "\n",
    "# fetch the nonce of the network\n",
    "alice.nonce = entrypoint.recall_account_nonce(alice.address)\n",
    "\n",
    "# creating the key-value pairs we want to save\n",
    "values = {\n",
    "    \"testKey\".encode(): \"testValue\".encode(),\n",
    "    b\"anotherKey\": b\"anotherValue\"\n",
    "}\n",
    "\n",
    "transaction = controller.create_transaction_for_saving_key_value(\n",
    "    sender=alice,\n",
    "    nonce=alice.get_nonce_then_increment(),\n",
    "    key_value_pairs=values\n",
    ")\n",
    "\n",
    "# broadcast the transaction\n",
    "tx_hash = entrypoint.send_transaction(transaction)"
   ]
  },
  {
   "cell_type": "markdown",
   "metadata": {},
   "source": [
    "#### Saving a key-value pair to an account using the factory"
   ]
  },
  {
   "cell_type": "code",
   "execution_count": null,
   "metadata": {},
   "outputs": [],
   "source": [
    "from pathlib import Path\n",
    "from multiversx_sdk import Account, DevnetEntrypoint\n",
    "\n",
    "# create the entrypoint and the account transactions factory\n",
    "entrypoint = DevnetEntrypoint()\n",
    "factory = entrypoint.create_account_transactions_factory()\n",
    "\n",
    "# create the account to guard\n",
    "alice = Account.new_from_pem(Path(\"../multiversx_sdk/testutils/testwallets/alice.pem\"))\n",
    "\n",
    "# creating the key-value pairs we want to save\n",
    "values = {\n",
    "    \"testKey\".encode(): \"testValue\".encode(),\n",
    "    b\"anotherKey\": b\"anotherValue\"\n",
    "}\n",
    "\n",
    "transaction = factory.create_transaction_for_saving_key_value(\n",
    "    sender=alice.address,\n",
    "    key_value_pairs=values\n",
    ")\n",
    "\n",
    "# fetch the nonce of the network\n",
    "alice.nonce = entrypoint.recall_account_nonce(alice.address)\n",
    "\n",
    "# set the nonce\n",
    "transaction.nonce = alice.get_nonce_then_increment()\n",
    "\n",
    "# sign the transaction\n",
    "transaction.signature = alice.sign_transaction(transaction)\n",
    "\n",
    "# broadcast the transaction\n",
    "tx_hash = entrypoint.send_transaction(transaction)"
   ]
  },
  {
   "cell_type": "markdown",
   "metadata": {},
   "source": [
    "### Delegation management\n",
    "\n",
    "To read more about staking providers and delegation, please check out the [docs](https://docs.multiversx.com/validators/delegation-manager/#introducing-staking-providers). \n",
    "\n",
    "In this section, we are going to create a new delegation contract, get the address of the contract, delegate funds to the contract, redelegate rewards, claim rewards, undelegate and withdraw funds from the contract. The operations can be performed using both the `controller` and the `factory`. For a full list of all the methods supported check out the auto-generated documentation:\n",
    "- [DelegationController](https://multiversx.github.io/mx-sdk-py/multiversx_sdk.delegation.html#module-multiversx_sdk.delegation.delegation_controller)\n",
    "- [DelegationTransactionsFactory](https://multiversx.github.io/mx-sdk-py/multiversx_sdk.delegation.html#module-multiversx_sdk.delegation.delegation_transactions_factory)\n",
    "\n",
    "#### Creating a new delegation contract using the controller"
   ]
  },
  {
   "cell_type": "code",
   "execution_count": null,
   "metadata": {},
   "outputs": [],
   "source": [
    "from pathlib import Path\n",
    "from multiversx_sdk import Account, DevnetEntrypoint\n",
    "\n",
    "# create the entrypoint and the account controller\n",
    "entrypoint = DevnetEntrypoint()\n",
    "controller = entrypoint.create_delegation_controller()\n",
    "\n",
    "# create the account to guard\n",
    "alice = Account.new_from_pem(Path(\"../multiversx_sdk/testutils/testwallets/alice.pem\"))\n",
    "\n",
    "# fetch the nonce of the network\n",
    "alice.nonce = entrypoint.recall_account_nonce(alice.address)\n",
    "\n",
    "transaction = controller.create_transaction_for_new_delegation_contract(\n",
    "    sender=alice,\n",
    "    nonce=alice.get_nonce_then_increment(),\n",
    "    total_delegation_cap=0,  # uncapped,\n",
    "    service_fee=0,\n",
    "    amount=1250000000000000000000  # 1250 EGLD\n",
    ")\n",
    "\n",
    "tx_hash = entrypoint.send_transaction(transaction)\n",
    "\n",
    "# wait for transaction completion, extract delegation contract's address\n",
    "outcome = controller.await_completed_create_new_delegation_contract(tx_hash)\n",
    "\n",
    "contract_address = outcome[0].contract_address"
   ]
  },
  {
   "cell_type": "markdown",
   "metadata": {},
   "source": [
    "#### Creating a new delegation contract using the factory"
   ]
  },
  {
   "cell_type": "code",
   "execution_count": null,
   "metadata": {},
   "outputs": [],
   "source": [
    "from pathlib import Path\n",
    "from multiversx_sdk import Account, DevnetEntrypoint, DelegationTransactionsOutcomeParser\n",
    "\n",
    "# create the entrypoint and the account transactions factory\n",
    "entrypoint = DevnetEntrypoint()\n",
    "factory = entrypoint.create_delegation_transactions_factory()\n",
    "\n",
    "# create the account to guard\n",
    "alice = Account.new_from_pem(Path(\"../multiversx_sdk/testutils/testwallets/alice.pem\"))\n",
    "\n",
    "transaction = factory.create_transaction_for_new_delegation_contract(\n",
    "    sender=alice.address,\n",
    "    total_delegation_cap=0,  # uncapped,\n",
    "    service_fee=0,\n",
    "    amount=1250000000000000000000  # 1250 EGLD\n",
    ")\n",
    "\n",
    "# fetch the nonce of the network\n",
    "alice.nonce = entrypoint.recall_account_nonce(alice.address)\n",
    "\n",
    "# set the nonce\n",
    "transaction.nonce = alice.get_nonce_then_increment()\n",
    "\n",
    "# sign the transaction\n",
    "transaction.signature = alice.sign_transaction(transaction)\n",
    "\n",
    "# send the transaction\n",
    "tx_hash = entrypoint.send_transaction(transaction)\n",
    "\n",
    "# waits until the transaction is processed and fetches it from the network\n",
    "transaction_on_network = entrypoint.await_transaction_completed(tx_hash)\n",
    "\n",
    "# extract the contract's address\n",
    "parser = DelegationTransactionsOutcomeParser()\n",
    "outcome = parser.parse_create_new_delegation_contract(transaction_on_network)\n",
    "\n",
    "contract_address = outcome[0].contract_address"
   ]
  },
  {
   "cell_type": "markdown",
   "metadata": {},
   "source": [
    "#### Delegating funds to the contract using the controller\n",
    "\n",
    "We can send funds to a delegation contract to earn rewards."
   ]
  },
  {
   "cell_type": "code",
   "execution_count": null,
   "metadata": {},
   "outputs": [],
   "source": [
    "from pathlib import Path\n",
    "from multiversx_sdk import Account, Address, DevnetEntrypoint\n",
    "\n",
    "# create the entrypoint and the account controller\n",
    "entrypoint = DevnetEntrypoint()\n",
    "controller = entrypoint.create_delegation_controller()\n",
    "\n",
    "# create the account to guard\n",
    "alice = Account.new_from_pem(Path(\"../multiversx_sdk/testutils/testwallets/alice.pem\"))\n",
    "\n",
    "# fetch the nonce of the network\n",
    "alice.nonce = entrypoint.recall_account_nonce(alice.address)\n",
    "\n",
    "# delegation contract\n",
    "contract = Address.new_from_bech32(\"erd1qqqqqqqqqqqqqqqpqqqqqqqqqqqqqqqqqqqqqqqqqqqqqf8llllswuedva\")\n",
    "\n",
    "transaction = controller.create_transaction_for_delegating(\n",
    "    sender=alice,\n",
    "    nonce=alice.get_nonce_then_increment(),\n",
    "    delegation_contract=contract,\n",
    "    amount=5000000000000000000000  # 5000 EGLD\n",
    ")\n",
    "\n",
    "tx_hash = entrypoint.send_transaction(transaction)"
   ]
  },
  {
   "cell_type": "markdown",
   "metadata": {},
   "source": [
    "#### Delegating funds to the contract using the factory"
   ]
  },
  {
   "cell_type": "code",
   "execution_count": null,
   "metadata": {},
   "outputs": [],
   "source": [
    "from pathlib import Path\n",
    "from multiversx_sdk import Account, DevnetEntrypoint\n",
    "\n",
    "# create the entrypoint and the account transactions factory\n",
    "entrypoint = DevnetEntrypoint()\n",
    "factory = entrypoint.create_delegation_transactions_factory()\n",
    "\n",
    "# create the account to guard\n",
    "alice = Account.new_from_pem(Path(\"../multiversx_sdk/testutils/testwallets/alice.pem\"))\n",
    "\n",
    "transaction = factory.create_transaction_for_delegating(\n",
    "    sender=alice.address,\n",
    "    delegation_contract=contract,\n",
    "    amount=5000000000000000000000  # 5000 EGLD\n",
    ")\n",
    "\n",
    "# fetch the nonce of the network\n",
    "alice.nonce = entrypoint.recall_account_nonce(alice.address)\n",
    "\n",
    "# set the nonce\n",
    "transaction.nonce = alice.get_nonce_then_increment()\n",
    "\n",
    "# sign the transaction\n",
    "transaction.signature = alice.sign_transaction(transaction)\n",
    "\n",
    "# send the transaction\n",
    "tx_hash = entrypoint.send_transaction(transaction)"
   ]
  },
  {
   "cell_type": "markdown",
   "metadata": {},
   "source": [
    "#### Redelegating rewards using the controller\n",
    "\n",
    "After a period of time, we might have enough rewards that we want to redelegate to the contract to earn even more rewards. "
   ]
  },
  {
   "cell_type": "code",
   "execution_count": null,
   "metadata": {},
   "outputs": [],
   "source": [
    "from pathlib import Path\n",
    "from multiversx_sdk import Account, Address, DevnetEntrypoint\n",
    "\n",
    "# create the entrypoint and the account controller\n",
    "entrypoint = DevnetEntrypoint()\n",
    "controller = entrypoint.create_delegation_controller()\n",
    "\n",
    "# create the account to guard\n",
    "alice = Account.new_from_pem(Path(\"../multiversx_sdk/testutils/testwallets/alice.pem\"))\n",
    "\n",
    "# fetch the nonce of the network\n",
    "alice.nonce = entrypoint.recall_account_nonce(alice.address)\n",
    "\n",
    "# delegation contract\n",
    "contract = Address.new_from_bech32(\"erd1qqqqqqqqqqqqqqqpqqqqqqqqqqqqqqqqqqqqqqqqqqqqqf8llllswuedva\")\n",
    "\n",
    "transaction = controller.create_transaction_for_redelegating_rewards(\n",
    "    sender=alice,\n",
    "    nonce=alice.get_nonce_then_increment(),\n",
    "    delegation_contract=contract\n",
    ")\n",
    "\n",
    "tx_hash = entrypoint.send_transaction(transaction)"
   ]
  },
  {
   "cell_type": "markdown",
   "metadata": {},
   "source": [
    "#### Redelegating rewards using the factory"
   ]
  },
  {
   "cell_type": "code",
   "execution_count": null,
   "metadata": {},
   "outputs": [],
   "source": [
    "from pathlib import Path\n",
    "from multiversx_sdk import Account, DevnetEntrypoint\n",
    "\n",
    "# create the entrypoint and the account transactions factory\n",
    "entrypoint = DevnetEntrypoint()\n",
    "factory = entrypoint.create_delegation_transactions_factory()\n",
    "\n",
    "# create the account to guard\n",
    "alice = Account.new_from_pem(Path(\"../multiversx_sdk/testutils/testwallets/alice.pem\"))\n",
    "\n",
    "transaction = factory.create_transaction_for_redelegating_rewards(\n",
    "    sender=alice.address,\n",
    "    delegation_contract=contract\n",
    ")\n",
    "\n",
    "# fetch the nonce of the network\n",
    "alice.nonce = entrypoint.recall_account_nonce(alice.address)\n",
    "\n",
    "# set the nonce\n",
    "transaction.nonce = alice.get_nonce_then_increment()\n",
    "\n",
    "# sign the transaction\n",
    "transaction.signature = alice.sign_transaction(transaction)\n",
    "\n",
    "# send the transaction\n",
    "tx_hash = entrypoint.send_transaction(transaction)"
   ]
  },
  {
   "cell_type": "markdown",
   "metadata": {},
   "source": [
    "#### Claiming rewards using the controller\n",
    "\n",
    "We can also claim our rewards."
   ]
  },
  {
   "cell_type": "code",
   "execution_count": null,
   "metadata": {},
   "outputs": [],
   "source": [
    "from pathlib import Path\n",
    "from multiversx_sdk import Account, Address, DevnetEntrypoint\n",
    "\n",
    "# create the entrypoint and the account controller\n",
    "entrypoint = DevnetEntrypoint()\n",
    "controller = entrypoint.create_delegation_controller()\n",
    "\n",
    "# create the account to guard\n",
    "alice = Account.new_from_pem(Path(\"../multiversx_sdk/testutils/testwallets/alice.pem\"))\n",
    "\n",
    "# fetch the nonce of the network\n",
    "alice.nonce = entrypoint.recall_account_nonce(alice.address)\n",
    "\n",
    "# delegation contract\n",
    "contract = Address.new_from_bech32(\"erd1qqqqqqqqqqqqqqqpqqqqqqqqqqqqqqqqqqqqqqqqqqqqqf8llllswuedva\")\n",
    "\n",
    "transaction = controller.create_transaction_for_claiming_rewards(\n",
    "    sender=alice,\n",
    "    nonce=alice.get_nonce_then_increment(),\n",
    "    delegation_contract=contract\n",
    ")\n",
    "\n",
    "tx_hash = entrypoint.send_transaction(transaction)"
   ]
  },
  {
   "cell_type": "markdown",
   "metadata": {},
   "source": [
    "#### Claiming rewards using the factory"
   ]
  },
  {
   "cell_type": "code",
   "execution_count": null,
   "metadata": {},
   "outputs": [],
   "source": [
    "from pathlib import Path\n",
    "from multiversx_sdk import Account, DevnetEntrypoint\n",
    "\n",
    "# create the entrypoint and the account transactions factory\n",
    "entrypoint = DevnetEntrypoint()\n",
    "factory = entrypoint.create_delegation_transactions_factory()\n",
    "\n",
    "# create the account to guard\n",
    "alice = Account.new_from_pem(Path(\"../multiversx_sdk/testutils/testwallets/alice.pem\"))\n",
    "\n",
    "transaction = factory.create_transaction_for_claiming_rewards(\n",
    "    sender=alice.address,\n",
    "    delegation_contract=contract\n",
    ")\n",
    "\n",
    "# fetch the nonce of the network\n",
    "alice.nonce = entrypoint.recall_account_nonce(alice.address)\n",
    "\n",
    "# set the nonce\n",
    "transaction.nonce = alice.get_nonce_then_increment()\n",
    "\n",
    "# sign the transaction\n",
    "transaction.signature = alice.sign_transaction(transaction)\n",
    "\n",
    "# send the transaction\n",
    "tx_hash = entrypoint.send_transaction(transaction)"
   ]
  },
  {
   "cell_type": "markdown",
   "metadata": {},
   "source": [
    "#### Undelegating funds using the controller\n",
    "\n",
    "By undelegating we let the contract know we want to get back our staked funds. This operation has a 10 epochs unbonding period."
   ]
  },
  {
   "cell_type": "code",
   "execution_count": null,
   "metadata": {},
   "outputs": [],
   "source": [
    "from pathlib import Path\n",
    "from multiversx_sdk import Account, Address, DevnetEntrypoint\n",
    "\n",
    "# create the entrypoint and the account controller\n",
    "entrypoint = DevnetEntrypoint()\n",
    "controller = entrypoint.create_delegation_controller()\n",
    "\n",
    "# create the account to guard\n",
    "alice = Account.new_from_pem(Path(\"../multiversx_sdk/testutils/testwallets/alice.pem\"))\n",
    "\n",
    "# fetch the nonce of the network\n",
    "alice.nonce = entrypoint.recall_account_nonce(alice.address)\n",
    "\n",
    "# delegation contract\n",
    "contract = Address.new_from_bech32(\"erd1qqqqqqqqqqqqqqqpqqqqqqqqqqqqqqqqqqqqqqqqqqqqqf8llllswuedva\")\n",
    "\n",
    "transaction = controller.create_transaction_for_undelegating(\n",
    "    sender=alice,\n",
    "    nonce=alice.get_nonce_then_increment(),\n",
    "    delegation_contract=contract,\n",
    "    amount=1000000000000000000000  # 1000 EGLD\n",
    ")\n",
    "\n",
    "tx_hash = entrypoint.send_transaction(transaction)"
   ]
  },
  {
   "cell_type": "markdown",
   "metadata": {},
   "source": [
    "#### Undelegating funds using the factory"
   ]
  },
  {
   "cell_type": "code",
   "execution_count": null,
   "metadata": {},
   "outputs": [],
   "source": [
    "from pathlib import Path\n",
    "from multiversx_sdk import Account, DevnetEntrypoint\n",
    "\n",
    "# create the entrypoint and the account transactions factory\n",
    "entrypoint = DevnetEntrypoint()\n",
    "factory = entrypoint.create_delegation_transactions_factory()\n",
    "\n",
    "# create the account to guard\n",
    "alice = Account.new_from_pem(Path(\"../multiversx_sdk/testutils/testwallets/alice.pem\"))\n",
    "\n",
    "transaction = factory.create_transaction_for_undelegating(\n",
    "    sender=alice.address,\n",
    "    delegation_contract=contract,\n",
    "    amount=1000000000000000000000  # 1000 EGLD\n",
    ")\n",
    "\n",
    "# fetch the nonce of the network\n",
    "alice.nonce = entrypoint.recall_account_nonce(alice.address)\n",
    "\n",
    "# set the nonce\n",
    "transaction.nonce = alice.get_nonce_then_increment()\n",
    "\n",
    "# sign the transaction\n",
    "transaction.signature = alice.sign_transaction(transaction)\n",
    "\n",
    "# send the transaction\n",
    "tx_hash = entrypoint.send_transaction(transaction)"
   ]
  },
  {
   "cell_type": "markdown",
   "metadata": {},
   "source": [
    "#### Withdrawing funds using the controller\n",
    "\n",
    "After the unbonding period has passed, we can withdraw our funds from the contract."
   ]
  },
  {
   "cell_type": "code",
   "execution_count": null,
   "metadata": {},
   "outputs": [],
   "source": [
    "from pathlib import Path\n",
    "from multiversx_sdk import Account, Address, DevnetEntrypoint\n",
    "\n",
    "# create the entrypoint and the account controller\n",
    "entrypoint = DevnetEntrypoint()\n",
    "controller = entrypoint.create_delegation_controller()\n",
    "\n",
    "# create the account to guard\n",
    "alice = Account.new_from_pem(Path(\"../multiversx_sdk/testutils/testwallets/alice.pem\"))\n",
    "\n",
    "# fetch the nonce of the network\n",
    "alice.nonce = entrypoint.recall_account_nonce(alice.address)\n",
    "\n",
    "# delegation contract\n",
    "contract = Address.new_from_bech32(\"erd1qqqqqqqqqqqqqqqpqqqqqqqqqqqqqqqqqqqqqqqqqqqqqf8llllswuedva\")\n",
    "\n",
    "transaction = controller.create_transaction_for_withdrawing(\n",
    "    sender=alice,\n",
    "    nonce=alice.get_nonce_then_increment(),\n",
    "    delegation_contract=contract\n",
    ")\n",
    "\n",
    "tx_hash = entrypoint.send_transaction(transaction)"
   ]
  },
  {
   "cell_type": "markdown",
   "metadata": {},
   "source": [
    "#### Withdrawing funds using the factory"
   ]
  },
  {
   "cell_type": "code",
   "execution_count": null,
   "metadata": {},
   "outputs": [],
   "source": [
    "from pathlib import Path\n",
    "from multiversx_sdk import Account, DevnetEntrypoint\n",
    "\n",
    "# create the entrypoint and the account transactions factory\n",
    "entrypoint = DevnetEntrypoint()\n",
    "factory = entrypoint.create_delegation_transactions_factory()\n",
    "\n",
    "# create the account to guard\n",
    "alice = Account.new_from_pem(Path(\"../multiversx_sdk/testutils/testwallets/alice.pem\"))\n",
    "\n",
    "transaction = factory.create_transaction_for_withdrawing(\n",
    "    sender=alice.address,\n",
    "    delegation_contract=contract\n",
    ")\n",
    "\n",
    "# fetch the nonce of the network\n",
    "alice.nonce = entrypoint.recall_account_nonce(alice.address)\n",
    "\n",
    "# set the nonce\n",
    "transaction.nonce = alice.get_nonce_then_increment()\n",
    "\n",
    "# sign the transaction\n",
    "transaction.signature = alice.sign_transaction(transaction)\n",
    "\n",
    "# send the transaction\n",
    "tx_hash = entrypoint.send_transaction(transaction)"
   ]
  },
  {
   "cell_type": "markdown",
   "metadata": {},
   "source": [
    "### Relayed transactions\n",
    "\n",
    "We are currently on the third iteration of relayed transactions. V1 and V2 are soon to be deactivated so we'll focus on V3. For V3, two new fields have been added on transactions: `relayer` and `relayerSignature`. Before the sender signs the transaction, the relayer needs to be set. After the sender has signed the transaction, the relayer can also sign the transaction and broadcast it. Keep in mind that, for relayed V3 transactions we need an extra `50_000` gas. Let's see how we can create a relayed transaction:"
   ]
  },
  {
   "cell_type": "code",
   "execution_count": null,
   "metadata": {},
   "outputs": [],
   "source": [
    "from pathlib import Path\n",
    "from multiversx_sdk import Account, Address, DevnetEntrypoint, Transaction\n",
    "\n",
    "# create the account to guard\n",
    "alice = Account.new_from_pem(Path(\"../multiversx_sdk/testutils/testwallets/alice.pem\"))\n",
    "\n",
    "bob = Address.new_from_bech32(\"erd1spyavw0956vq68xj8y4tenjpq2wd5a9p2c6j8gsz7ztyrnpxrruqzu66jx\")\n",
    "\n",
    "# carol will be our relayer, that means she is paying the gas for the transaction\n",
    "carol = Account.new_from_pem(Path(\"../multiversx_sdk/testutils/testwallets/carol.pem\"))\n",
    "\n",
    "# fetch the sender's nonce of the network\n",
    "alice.nonce = entrypoint.recall_account_nonce(alice.address)\n",
    "\n",
    "# create the transaction\n",
    "transaction = Transaction(\n",
    "    sender=alice.address,\n",
    "    receiver=bob,\n",
    "    gas_limit=110_000,\n",
    "    chain_id=\"D\",\n",
    "    nonce=alice.get_nonce_then_increment(),\n",
    "    relayer=carol.address,\n",
    "    data=\"hello\".encode()\n",
    ")\n",
    "\n",
    "# sender signs the transaction\n",
    "transaction.signature = alice.sign_transaction(transaction)\n",
    "\n",
    "# relayer signs the transaction\n",
    "transaction.relayer_signature = carol.sign_transaction(transaction)\n",
    "\n",
    "# broadcast the transaction\n",
    "entrypoint = DevnetEntrypoint()\n",
    "tx_hash = entrypoint.send_transaction(transaction)"
   ]
  },
  {
   "cell_type": "markdown",
   "metadata": {},
   "source": [
    "#### Creating relayed transactions using controllers\n",
    "\n",
    "We can create relayed transactions using any of the controllers. Each controller has a `relayer` argument, that can be set if we want to create a relayed transaction. Let's issue a fungible token creating a relayed transaction:"
   ]
  },
  {
   "cell_type": "code",
   "execution_count": null,
   "metadata": {},
   "outputs": [],
   "source": [
    "from pathlib import Path\n",
    "from multiversx_sdk import Account, DevnetEntrypoint\n",
    "\n",
    "# create the entrypoint and the token management controller\n",
    "entrypoint = DevnetEntrypoint()\n",
    "controller = entrypoint.create_token_management_controller()\n",
    "\n",
    "# create the issuer of the token\n",
    "alice = Account.new_from_pem(Path(\"../multiversx_sdk/testutils/testwallets/alice.pem\"))\n",
    "\n",
    "# carol will be our relayer, that means she is paying the gas for the transaction\n",
    "carol = Account.new_from_pem(Path(\"../multiversx_sdk/testutils/testwallets/carol.pem\"))\n",
    "\n",
    "# fetch the nonce of the network\n",
    "alice.nonce = entrypoint.recall_account_nonce(alice.address)\n",
    "\n",
    "transaction = controller.create_transaction_for_issuing_fungible(\n",
    "    sender=alice,\n",
    "    nonce=alice.get_nonce_then_increment(),\n",
    "    token_name=\"NEWTOKEN\",\n",
    "    token_ticker=\"TKN\",\n",
    "    initial_supply=1_000_000_000000,  # 1 million tokens, with 6 decimals\n",
    "    num_decimals=6,\n",
    "    can_freeze=False,\n",
    "    can_wipe=True,\n",
    "    can_pause=False,\n",
    "    can_change_owner=True,\n",
    "    can_upgrade=True,\n",
    "    can_add_special_roles=True,\n",
    "    relayer=carol.address\n",
    ")\n",
    "\n",
    "# relayer also signs the transaction\n",
    "transaction.relayer_signature = carol.sign_transaction(transaction)\n",
    "\n",
    "# sending the transaction\n",
    "tx_hash = entrypoint.send_transaction(transaction)"
   ]
  },
  {
   "cell_type": "markdown",
   "metadata": {},
   "source": [
    "#### Create relayed transactions using factories\n",
    "\n",
    "The transactions factories do not have a `relayer` argument, the relayer needs to be set after creating the transaction. This is good because the transaction is not signed by the sender when created. Let's issue a fungible token using the `TokenManagementTransactionsFactory`:"
   ]
  },
  {
   "cell_type": "code",
   "execution_count": null,
   "metadata": {},
   "outputs": [],
   "source": [
    "from pathlib import Path\n",
    "from multiversx_sdk import Account, DevnetEntrypoint\n",
    "\n",
    "# create the entrypoint and the token management transactions factory\n",
    "entrypoint = DevnetEntrypoint()\n",
    "factory = entrypoint.create_token_management_transactions_factory()\n",
    "\n",
    "# create the issuer of the token\n",
    "alice = Account.new_from_pem(Path(\"../multiversx_sdk/testutils/testwallets/alice.pem\"))\n",
    "\n",
    "# carol will be our relayer, that means she is paying the gas for the transaction\n",
    "carol = Account.new_from_pem(Path(\"../multiversx_sdk/testutils/testwallets/carol.pem\"))\n",
    "\n",
    "transaction = factory.create_transaction_for_issuing_fungible(\n",
    "    sender=alice.address,\n",
    "    token_name=\"NEWTOKEN\",\n",
    "    token_ticker=\"TKN\",\n",
    "    initial_supply=1000000000000,  # 1 million tokens, with 6 decimals\n",
    "    num_decimals=6,\n",
    "    can_freeze=False,\n",
    "    can_wipe=True,\n",
    "    can_pause=False,\n",
    "    can_change_owner=True,\n",
    "    can_upgrade=True,\n",
    "    can_add_special_roles=True\n",
    ")\n",
    "\n",
    "# fetch the nonce of the network\n",
    "alice.nonce = entrypoint.recall_account_nonce(alice.address)\n",
    "\n",
    "# set the nonce of the sender\n",
    "transaction.nonce = alice.get_nonce_then_increment()\n",
    "\n",
    "# set the relayer\n",
    "transaction.relayer = carol.address\n",
    "\n",
    "# sender signs the transaction\n",
    "transaction.signature = alice.sign_transaction(transaction)\n",
    "\n",
    "# relayer signs the transaction\n",
    "transaction.relayer_signature = carol.sign_transaction(transaction)\n",
    "\n",
    "# broadcast the transaction\n",
    "tx_hash = entrypoint.send_transaction(transaction)"
   ]
  },
  {
   "cell_type": "markdown",
   "metadata": {},
   "source": [
    "#### Creating guarded transactions using controllers\n",
    "\n",
    "Very similar to relayers, we have a field `guardian` and a field `guardianSignature`. Each controller has an argument for the guardian. The transaction can be sent to a service that signs it using the guardian's account or we can use another account as a guardian. Let's issue a token using a guarded account."
   ]
  },
  {
   "cell_type": "code",
   "execution_count": null,
   "metadata": {},
   "outputs": [],
   "source": [
    "from pathlib import Path\n",
    "from multiversx_sdk import Account, DevnetEntrypoint\n",
    "\n",
    "# create the entrypoint and the token management controller\n",
    "entrypoint = DevnetEntrypoint()\n",
    "controller = entrypoint.create_token_management_controller()\n",
    "\n",
    "# create the issuer of the token\n",
    "alice = Account.new_from_pem(Path(\"../multiversx_sdk/testutils/testwallets/alice.pem\"))\n",
    "\n",
    "# carol is the guardian\n",
    "carol = Account.new_from_pem(Path(\"../multiversx_sdk/testutils/testwallets/carol.pem\"))\n",
    "\n",
    "# fetch the nonce of the network\n",
    "alice.nonce = entrypoint.recall_account_nonce(alice.address)\n",
    "\n",
    "transaction = controller.create_transaction_for_issuing_fungible(\n",
    "    sender=alice,\n",
    "    nonce=alice.get_nonce_then_increment(),\n",
    "    token_name=\"NEWTOKEN\",\n",
    "    token_ticker=\"TKN\",\n",
    "    initial_supply=1000000000000,  # 1 million tokens, with 6 decimals\n",
    "    num_decimals=6,\n",
    "    can_freeze=False,\n",
    "    can_wipe=True,\n",
    "    can_pause=False,\n",
    "    can_change_owner=True,\n",
    "    can_upgrade=True,\n",
    "    can_add_special_roles=True,\n",
    "    guardian=carol.address\n",
    ")\n",
    "\n",
    "# guardian also signs the transaction\n",
    "transaction.guardian_signature = carol.sign_transaction(transaction)\n",
    "\n",
    "# sending the transaction\n",
    "tx_hash = entrypoint.send_transaction(transaction)"
   ]
  },
  {
   "cell_type": "markdown",
   "metadata": {},
   "source": [
    "#### Creating guarded transactions using factories\n",
    "\n",
    "The transactions factories do not have a `guardian` argument, the guardian needs to be set after creating the transaction. This is good because the transaction is not signed by the sender when created. Let's issue a fungible token using the `TokenManagementTransactionsFactory`:"
   ]
  },
  {
   "cell_type": "code",
   "execution_count": null,
   "metadata": {},
   "outputs": [],
   "source": [
    "from pathlib import Path\n",
    "from multiversx_sdk import Account, DevnetEntrypoint\n",
    "\n",
    "# create the entrypoint and the token management transactions factory\n",
    "entrypoint = DevnetEntrypoint()\n",
    "factory = entrypoint.create_token_management_transactions_factory()\n",
    "\n",
    "# create the issuer of the token\n",
    "alice = Account.new_from_pem(Path(\"../multiversx_sdk/testutils/testwallets/alice.pem\"))\n",
    "\n",
    "# carol is the guardian\n",
    "carol = Account.new_from_pem(Path(\"../multiversx_sdk/testutils/testwallets/carol.pem\"))\n",
    "\n",
    "transaction = factory.create_transaction_for_issuing_fungible(\n",
    "    sender=alice.address,\n",
    "    token_name=\"NEWTOKEN\",\n",
    "    token_ticker=\"TKN\",\n",
    "    initial_supply=1000000000000,  # 1 million tokens, with 6 decimals\n",
    "    num_decimals=6,\n",
    "    can_freeze=False,\n",
    "    can_wipe=True,\n",
    "    can_pause=False,\n",
    "    can_change_owner=True,\n",
    "    can_upgrade=True,\n",
    "    can_add_special_roles=True\n",
    ")\n",
    "\n",
    "# fetch the nonce of the network\n",
    "alice.nonce = entrypoint.recall_account_nonce(alice.address)\n",
    "\n",
    "# set the nonce of the sender\n",
    "transaction.nonce = alice.get_nonce_then_increment()\n",
    "\n",
    "# set the guardian\n",
    "transaction.guardian = carol.address\n",
    "\n",
    "# sender signs the transaction\n",
    "transaction.signature = alice.sign_transaction(transaction)\n",
    "\n",
    "# guardian signs the transaction\n",
    "transaction.guardian_signature = carol.sign_transaction(transaction)\n",
    "\n",
    "# broadcast the transaction\n",
    "tx_hash = entrypoint.send_transaction(transaction)"
   ]
  },
  {
   "cell_type": "markdown",
   "metadata": {},
   "source": [
    "We can also create guarded relayed transactions the same way we did before. Keep in mind that, only the sender can be guarded, the relayer cannot. The same flow can be used. Using controllers, we set both `guardian` and `relayer` fields and then the transaction should be signed by both. Using a factory, we create the transaction, set both both fields and then sign the transaction using the sender's account, then the the guardian and the relayer sign the transaction."
   ]
  },
  {
   "cell_type": "markdown",
   "metadata": {},
   "source": [
    "## Addresses\n",
    "\n",
    "Create an `Address` object from a _bech32-encoded_ string:"
   ]
  },
  {
   "cell_type": "code",
   "execution_count": null,
   "metadata": {},
   "outputs": [],
   "source": [
    "from multiversx_sdk import Address\n",
    "\n",
    "address = Address.new_from_bech32(\"erd1qyu5wthldzr8wx5c9ucg8kjagg0jfs53s8nr3zpz3hypefsdd8ssycr6th\")\n",
    "\n",
    "print(\"Address (bech32-encoded)\", address.to_bech32())\n",
    "print(\"Public key (hex-encoded):\", address.to_hex())\n",
    "print(\"Public key (hex-encoded):\", address.get_public_key().hex())"
   ]
  },
  {
   "cell_type": "markdown",
   "metadata": {},
   "source": [
    "Create an address from a _hex-encoded_ string - note that you have to provide the address prefix, also known as the **HRP** (_human-readable part_ of the address). If not provided, the default one will be used."
   ]
  },
  {
   "cell_type": "code",
   "execution_count": null,
   "metadata": {},
   "outputs": [],
   "source": [
    "from multiversx_sdk import Address\n",
    "\n",
    "address = Address.new_from_hex(\"0139472eff6886771a982f3083da5d421f24c29181e63888228dc81ca60d69e1\", \"erd\")"
   ]
  },
  {
   "cell_type": "markdown",
   "metadata": {},
   "source": [
    "Create an address from a raw public key:"
   ]
  },
  {
   "cell_type": "code",
   "execution_count": null,
   "metadata": {},
   "outputs": [],
   "source": [
    "from multiversx_sdk import Address\n",
    "\n",
    "pubkey = bytes.fromhex(\"0139472eff6886771a982f3083da5d421f24c29181e63888228dc81ca60d69e1\")\n",
    "address = Address(pubkey, \"erd\")"
   ]
  },
  {
   "cell_type": "markdown",
   "metadata": {},
   "source": [
    "Alternatively, you can use an `AddressFactory` (initialized with a specific **HRP**) to create addresses. If the hrp is not provided, the default one will be used."
   ]
  },
  {
   "cell_type": "code",
   "execution_count": null,
   "metadata": {},
   "outputs": [],
   "source": [
    "from multiversx_sdk import AddressFactory\n",
    "\n",
    "factory = AddressFactory(\"erd\")\n",
    "\n",
    "address = factory.create_from_bech32(\"erd1qyu5wthldzr8wx5c9ucg8kjagg0jfs53s8nr3zpz3hypefsdd8ssycr6th\")\n",
    "address = factory.create_from_hex(\"0139472eff6886771a982f3083da5d421f24c29181e63888228dc81ca60d69e1\")\n",
    "address = factory.create_from_public_key(bytes.fromhex(\"0139472eff6886771a982f3083da5d421f24c29181e63888228dc81ca60d69e1\"))"
   ]
  },
  {
   "cell_type": "markdown",
   "metadata": {},
   "source": [
    "#### Getting the shard of an address"
   ]
  },
  {
   "cell_type": "code",
   "execution_count": null,
   "metadata": {},
   "outputs": [],
   "source": [
    "from multiversx_sdk import Address, AddressComputer\n",
    "\n",
    "address_computer = AddressComputer()\n",
    "address = Address.new_from_bech32(\"erd1qyu5wthldzr8wx5c9ucg8kjagg0jfs53s8nr3zpz3hypefsdd8ssycr6th\")\n",
    "\n",
    "print(\"Shard:\", address_computer.get_shard_of_address(address))"
   ]
  },
  {
   "cell_type": "markdown",
   "metadata": {},
   "source": [
    "#### Checking if the address is a smart contract address"
   ]
  },
  {
   "cell_type": "code",
   "execution_count": null,
   "metadata": {},
   "outputs": [],
   "source": [
    "from multiversx_sdk import Address\n",
    "\n",
    "address = Address.new_from_bech32(\"erd1qqqqqqqqqqqqqpgquzmh78klkqwt0p4rjys0qtp3la07gz4d396qn50nnm\")\n",
    "print(\"Is contract address:\", address.is_smart_contract())"
   ]
  },
  {
   "cell_type": "markdown",
   "metadata": {},
   "source": [
    "### Changing the default hrp\n",
    "\n",
    "We have a configuration class, called `LibraryConfig`, that only stores (for the moment) the **default hrp** of the addresses. The default value is `erd`. The hrp can be changed when instantiating an address, or it can be changed in the `LibraryConfig` class, and all the addresses created will have the newly set hrp."
   ]
  },
  {
   "cell_type": "code",
   "execution_count": null,
   "metadata": {},
   "outputs": [],
   "source": [
    "from multiversx_sdk import Address\n",
    "from multiversx_sdk import LibraryConfig\n",
    "\n",
    "\n",
    "print(LibraryConfig.default_address_hrp)\n",
    "address = Address.new_from_hex(\"0139472eff6886771a982f3083da5d421f24c29181e63888228dc81ca60d69e1\")\n",
    "print(address.to_bech32())\n",
    "\n",
    "LibraryConfig.default_address_hrp = \"test\"\n",
    "address = Address.new_from_hex(\"0139472eff6886771a982f3083da5d421f24c29181e63888228dc81ca60d69e1\")\n",
    "print(address.to_bech32())\n",
    "\n",
    "# setting back the default value\n",
    "LibraryConfig.default_address_hrp = \"erd\""
   ]
  },
  {
   "cell_type": "markdown",
   "metadata": {},
   "source": [
    "## Wallets\n",
    "\n",
    "#### Generating a mnemonic\n",
    "\n",
    "Mnemonic generation is based on [`trezor/python-mnemonic`](https://github.com/trezor/python-mnemonic) and can be achieved as follows:"
   ]
  },
  {
   "cell_type": "code",
   "execution_count": null,
   "metadata": {},
   "outputs": [],
   "source": [
    "from multiversx_sdk import Mnemonic\n",
    "\n",
    "mnemonic = Mnemonic.generate()\n",
    "words = mnemonic.get_words()\n",
    "\n",
    "print(words)"
   ]
  },
  {
   "cell_type": "markdown",
   "metadata": {},
   "source": [
    "#### Saving the mnemonic to a keystore file\n",
    "\n",
    "The mnemonic can be saved to a keystore file:"
   ]
  },
  {
   "cell_type": "code",
   "execution_count": null,
   "metadata": {},
   "outputs": [],
   "source": [
    "from pathlib import Path\n",
    "from multiversx_sdk import Mnemonic, UserWallet\n",
    "\n",
    "mnemonic = Mnemonic.generate()\n",
    "\n",
    "# saves the mnemonic to a keystore file with kind=mnemonic\n",
    "wallet = UserWallet.from_mnemonic(mnemonic.get_text(), \"password\")\n",
    "wallet.save(Path(\"walletWithMnemonic.json\"))"
   ]
  },
  {
   "cell_type": "markdown",
   "metadata": {},
   "source": [
    "#### Deriving secret keys from a mnemonic\n",
    "\n",
    "Given a mnemonic, we can derive keypairs:"
   ]
  },
  {
   "cell_type": "code",
   "execution_count": null,
   "metadata": {},
   "outputs": [],
   "source": [
    "from multiversx_sdk import Mnemonic\n",
    "\n",
    "mnemonic = Mnemonic.generate()\n",
    "\n",
    "secret_key = mnemonic.derive_key(0)\n",
    "public_key = secret_key.generate_public_key()\n",
    "\n",
    "print(\"Secret key:\", secret_key.hex())\n",
    "print(\"Public key:\", public_key.hex())"
   ]
  },
  {
   "cell_type": "markdown",
   "metadata": {},
   "source": [
    "#### Saving a secret key to a keystore file\n",
    "\n",
    "The secret key can also be saved to a keystore file:"
   ]
  },
  {
   "cell_type": "code",
   "execution_count": null,
   "metadata": {},
   "outputs": [],
   "source": [
    "from pathlib import Path\n",
    "from multiversx_sdk import Mnemonic, UserWallet\n",
    "\n",
    "mnemonic = Mnemonic.generate()\n",
    "\n",
    "# by default, derives using the index = 0\n",
    "secret_key = mnemonic.derive_key()\n",
    "\n",
    "# saves the mnemonic to a keystore file with kind=secretKey\n",
    "wallet = UserWallet.from_secret_key(secret_key, \"password\")\n",
    "wallet.save(Path(\"walletWithSecretKey.json\"))"
   ]
  },
  {
   "cell_type": "markdown",
   "metadata": {},
   "source": [
    "#### Saving a secrey key to a PEM file\n",
    "\n",
    "We can save a secret key to a pem file. **This is not recommended as it is not secure, but it's very convenient for testing purposes.**"
   ]
  },
  {
   "cell_type": "code",
   "execution_count": null,
   "metadata": {},
   "outputs": [],
   "source": [
    "from pathlib import Path\n",
    "from multiversx_sdk import Address, UserPEM\n",
    "\n",
    "mnemonic = Mnemonic.generate()\n",
    "\n",
    "# by default, derives using the index = 0\n",
    "secret_key = mnemonic.derive_key()\n",
    "\n",
    "label = Address(public_key.buffer, \"erd\").to_bech32()\n",
    "pem = UserPEM(label=label, secret_key=secret_key)\n",
    "pem.save(Path(\"wallet.pem\"))"
   ]
  },
  {
   "cell_type": "markdown",
   "metadata": {},
   "source": [
    "#### Generating a KeyPair\n",
    "\n",
    "A `KeyPair` is a wrapper over a secret key and a public key. We can create a keypair and use it for signing or verifying. "
   ]
  },
  {
   "cell_type": "code",
   "execution_count": null,
   "metadata": {},
   "outputs": [],
   "source": [
    "from multiversx_sdk import KeyPair\n",
    "\n",
    "keypair = KeyPair.generate()\n",
    "\n",
    "# get secret key\n",
    "secret_key = keypair.get_secret_key()\n",
    "\n",
    "# get public key\n",
    "public_key = keypair.get_public_key()"
   ]
  },
  {
   "cell_type": "markdown",
   "metadata": {},
   "source": [
    "#### Loading a wallets from keystore mnemonic file\n",
    "\n",
    "Load a keystore that holds an _encrypted mnemonic_ (and perform wallet derivation at the same time):"
   ]
  },
  {
   "cell_type": "code",
   "execution_count": null,
   "metadata": {},
   "outputs": [],
   "source": [
    "from pathlib import Path\n",
    "from multiversx_sdk import UserWallet\n",
    "\n",
    "# loads the mnemonic and derives the a secret key; default index = 0\n",
    "secret_key = UserWallet.load_secret_key(Path(\"walletWithMnemonic.json\"), \"password\")\n",
    "address = secret_key.generate_public_key().to_address(\"erd\")\n",
    "\n",
    "print(\"Secret key:\", secret_key.hex())\n",
    "print(\"Address:\", address.to_bech32())\n",
    "\n",
    "# derive secret key with index = 7\n",
    "secret_key = UserWallet.load_secret_key(\n",
    "    path=Path(\"walletWithMnemonic.json\"),\n",
    "    password=\"password\",\n",
    "    address_index=7\n",
    ")\n",
    "address = secret_key.generate_public_key().to_address()\n",
    "\n",
    "print(\"Secret key:\", secret_key.hex())\n",
    "print(\"Address:\", address.to_bech32())"
   ]
  },
  {
   "cell_type": "markdown",
   "metadata": {},
   "source": [
    "#### Loading a wallet from a keystore secret key file"
   ]
  },
  {
   "cell_type": "code",
   "execution_count": null,
   "metadata": {},
   "outputs": [],
   "source": [
    "from pathlib import Path\n",
    "from multiversx_sdk import UserWallet\n",
    "\n",
    "secret_key = UserWallet.load_secret_key(Path(\"walletWithSecretKey.json\"), \"password\")\n",
    "address = secret_key.generate_public_key().to_address(\"erd\")\n",
    "\n",
    "print(\"Secret key:\", secret_key.hex())\n",
    "print(\"Address:\", address.to_bech32())"
   ]
  },
  {
   "cell_type": "markdown",
   "metadata": {},
   "source": [
    "#### Loading a wallet from a PEM file"
   ]
  },
  {
   "cell_type": "code",
   "execution_count": null,
   "metadata": {},
   "outputs": [],
   "source": [
    "from pathlib import Path\n",
    "from multiversx_sdk import UserPEM\n",
    "\n",
    "pem = UserPEM.from_file(Path(\"wallet.pem\"))\n",
    "\n",
    "print(\"Secret key:\", pem.secret_key.hex())\n",
    "print(\"Public key:\", pem.public_key.hex())"
   ]
  },
  {
   "cell_type": "markdown",
   "metadata": {},
   "source": [
    "## Signing objects\n",
    "\n",
    "The signing is performed using the **secret key** of an account. We have a few wrappers over the secret key, like [Account](#creating-accounts) that make siging easier. We'll first learn how we can sign using an `Account` and then we'll see how we can sign using the secret key.\n",
    "\n",
    "#### Signing a Transaction using an Account\n",
    "\n",
    "We are going to assume we have an account at this point. If you don't fell free to check out the [creating an account section](#creating-accounts)."
   ]
  },
  {
   "cell_type": "code",
   "execution_count": null,
   "metadata": {},
   "outputs": [],
   "source": [
    "from pathlib import Path\n",
    "from multiversx_sdk import Account, Address, Transaction\n",
    "\n",
    "account = Account.new_from_pem(Path(\"../multiversx_sdk/testutils/testwallets/alice.pem\"))\n",
    "\n",
    "transaction = Transaction(\n",
    "    nonce=90,\n",
    "    sender=account.address,\n",
    "    receiver=Address.new_from_bech32(\"erd1spyavw0956vq68xj8y4tenjpq2wd5a9p2c6j8gsz7ztyrnpxrruqzu66jx\"),\n",
    "    value=1000000000000000000,\n",
    "    gas_limit=50000,\n",
    "    chain_id=\"D\"\n",
    ")\n",
    "\n",
    "# apply the signature on the transaction\n",
    "transaction.signature = account.sign_transaction(transaction)\n",
    "\n",
    "print(transaction.to_dictionary())"
   ]
  },
  {
   "cell_type": "markdown",
   "metadata": {},
   "source": [
    "#### Signing a Transaction using a SecretKey"
   ]
  },
  {
   "cell_type": "code",
   "execution_count": null,
   "metadata": {},
   "outputs": [],
   "source": [
    "from multiversx_sdk import Transaction, TransactionComputer, UserSecretKey\n",
    "\n",
    "secret_key_hex = \"413f42575f7f26fad3317a778771212fdb80245850981e48b58a4f25e344e8f9\"\n",
    "secret_key = UserSecretKey(bytes.fromhex(secret_key_hex))\n",
    "public_key = secret_key.generate_public_key()\n",
    "\n",
    "transaction = Transaction(\n",
    "    nonce=90,\n",
    "    sender=public_key.to_address(),\n",
    "    receiver=Address.new_from_bech32(\"erd1spyavw0956vq68xj8y4tenjpq2wd5a9p2c6j8gsz7ztyrnpxrruqzu66jx\"),\n",
    "    value=1000000000000000000,\n",
    "    gas_limit=50000,\n",
    "    chain_id=\"D\"\n",
    ")\n",
    "\n",
    "# serialize the transaction\n",
    "transaction_computer = TransactionComputer()\n",
    "serialized_transaction = transaction_computer.compute_bytes_for_signing(transaction)\n",
    "\n",
    "# apply the signature on the transaction\n",
    "transaction.signature = secret_key.sign(serialized_transaction)\n",
    "\n",
    "print(transaction.to_dictionary())"
   ]
  },
  {
   "cell_type": "markdown",
   "metadata": {},
   "source": [
    "#### Signing a Transaction by hash"
   ]
  },
  {
   "cell_type": "code",
   "execution_count": null,
   "metadata": {},
   "outputs": [],
   "source": [
    "from pathlib import Path\n",
    "from multiversx_sdk import Account, Address, Transaction, TransactionComputer\n",
    "\n",
    "account = Account.new_from_pem(Path(\"../multiversx_sdk/testutils/testwallets/alice.pem\"))\n",
    "\n",
    "transaction = Transaction(\n",
    "    nonce=90,\n",
    "    sender=account.address,\n",
    "    receiver=Address.new_from_bech32(\"erd1spyavw0956vq68xj8y4tenjpq2wd5a9p2c6j8gsz7ztyrnpxrruqzu66jx\"),\n",
    "    value=1000000000000000000,\n",
    "    gas_limit=50000,\n",
    "    chain_id=\"D\"\n",
    ")\n",
    "\n",
    "transaction_computer = TransactionComputer()\n",
    "\n",
    "# sets the least significant bit of the options field to `1`\n",
    "transaction_computer.apply_options_for_hash_signing(transaction)\n",
    "\n",
    "# compute a keccak256 hash for signing\n",
    "hash = transaction_computer.compute_hash_for_signing(transaction)\n",
    "\n",
    "# sign and apply the signature on the transaction\n",
    "transaction.signature = account.sign(hash)\n",
    "\n",
    "print(transaction.to_dictionary())"
   ]
  },
  {
   "cell_type": "markdown",
   "metadata": {},
   "source": [
    "#### Signing a Message using an Account"
   ]
  },
  {
   "cell_type": "code",
   "execution_count": null,
   "metadata": {},
   "outputs": [],
   "source": [
    "from pathlib import Path\n",
    "from multiversx_sdk import Account, Message\n",
    "\n",
    "account = Account.new_from_pem(Path(\"../multiversx_sdk/testutils/testwallets/alice.pem\"))\n",
    "\n",
    "# creating a message\n",
    "message = Message(data=\"this is a test message\".encode(), address=account.address)\n",
    "\n",
    "# signing the message\n",
    "message.signature = account.sign_message(message)"
   ]
  },
  {
   "cell_type": "markdown",
   "metadata": {},
   "source": [
    "#### Signing a message using a SecretKey"
   ]
  },
  {
   "cell_type": "code",
   "execution_count": null,
   "metadata": {},
   "outputs": [],
   "source": [
    "from multiversx_sdk import UserSecretKey, Message, MessageComputer\n",
    "\n",
    "secret_key_hex = \"413f42575f7f26fad3317a778771212fdb80245850981e48b58a4f25e344e8f9\"\n",
    "secret_key = UserSecretKey(bytes.fromhex(secret_key_hex))\n",
    "public_key = secret_key.generate_public_key()\n",
    "\n",
    "message_computer = MessageComputer()\n",
    "\n",
    "# creating a message\n",
    "message = Message(data=\"this is a test message\".encode(), address=public_key.to_address())\n",
    "\n",
    "# serialize the message\n",
    "serialized_message = message_computer.compute_bytes_for_signing(message)\n",
    "\n",
    "# signing the message\n",
    "message.signature = secret_key.sign(serialized_message)"
   ]
  },
  {
   "cell_type": "markdown",
   "metadata": {},
   "source": [
    "## Verifying signatures\n",
    "\n",
    "The verification of a signature is done using the **public key** of an account. We have a few wrappers over public keys that make the verification of signatures a little bit easier.\n",
    "\n",
    "#### Verifying Transaction signature using a UserVerifier"
   ]
  },
  {
   "cell_type": "code",
   "execution_count": null,
   "metadata": {},
   "outputs": [],
   "source": [
    "from pathlib import Path\n",
    "from multiversx_sdk import Account, Address, Transaction, TransactionComputer, UserVerifier\n",
    "\n",
    "account = Account.new_from_pem(Path(\"../multiversx_sdk/testutils/testwallets/alice.pem\"))\n",
    "\n",
    "transaction = Transaction(\n",
    "    nonce=90,\n",
    "    sender=account.address,\n",
    "    receiver=Address.new_from_bech32(\"erd1spyavw0956vq68xj8y4tenjpq2wd5a9p2c6j8gsz7ztyrnpxrruqzu66jx\"),\n",
    "    value=1000000000000000000,\n",
    "    gas_limit=50000,\n",
    "    chain_id=\"D\"\n",
    ")\n",
    "\n",
    "# apply the signature on the transaction\n",
    "transaction.signature = account.sign_transaction(transaction)\n",
    "\n",
    "# instantiating a user verifier; basically gets the public key\n",
    "alice = Address.new_from_bech32(\"erd1qyu5wthldzr8wx5c9ucg8kjagg0jfs53s8nr3zpz3hypefsdd8ssycr6th\")\n",
    "alice_verifier = UserVerifier.from_address(alice)\n",
    "\n",
    "# serialize the transaction for verification\n",
    "transaction_computer = TransactionComputer()\n",
    "serialized_transaction = transaction_computer.compute_bytes_for_verifying(transaction)\n",
    "\n",
    "# verify the signature\n",
    "is_signed_by_alice = alice_verifier.verify(\n",
    "    data=serialized_transaction,\n",
    "    signature=transaction.signature\n",
    ")\n",
    "\n",
    "print(\"Transaction is signed by Alice:\", is_signed_by_alice)"
   ]
  },
  {
   "cell_type": "markdown",
   "metadata": {},
   "source": [
    "#### Verifying Message signature using a UserVerifier"
   ]
  },
  {
   "cell_type": "code",
   "execution_count": null,
   "metadata": {},
   "outputs": [],
   "source": [
    "from pathlib import Path\n",
    "from multiversx_sdk import Account, Address, Message, MessageComputer, UserVerifier\n",
    "\n",
    "account = Account.new_from_pem(Path(\"../multiversx_sdk/testutils/testwallets/alice.pem\"))\n",
    "\n",
    "message = Message(\n",
    "    data=\"this is a test message\".encode(),\n",
    "    address=account.address\n",
    ")\n",
    "\n",
    "# apply the signature on the message\n",
    "message.signature = account.sign_message(message)\n",
    "\n",
    "# instantiating a user verifier; basically gets the public key\n",
    "alice = Address.new_from_bech32(\"erd1qyu5wthldzr8wx5c9ucg8kjagg0jfs53s8nr3zpz3hypefsdd8ssycr6th\")\n",
    "alice_verifier = UserVerifier.from_address(alice)\n",
    "\n",
    "# serialize the message for verification\n",
    "message_computer = MessageComputer()\n",
    "serialized_message = message_computer.compute_bytes_for_verifying(message)\n",
    "\n",
    "# verify the signature\n",
    "is_signed_by_alice = alice_verifier.verify(\n",
    "    data=serialized_message,\n",
    "    signature=message.signature\n",
    ")\n",
    "\n",
    "print(\"Message is signed by Alice:\", is_signed_by_alice)"
   ]
  },
  {
   "cell_type": "markdown",
   "metadata": {},
   "source": [
    "#### Verifying a signature using the public key"
   ]
  },
  {
   "cell_type": "code",
   "execution_count": null,
   "metadata": {},
   "outputs": [],
   "source": [
    "from pathlib import Path\n",
    "from multiversx_sdk import Account, Address, Transaction, TransactionComputer, UserPublicKey\n",
    "\n",
    "account = Account.new_from_pem(Path(\"../multiversx_sdk/testutils/testwallets/alice.pem\"))\n",
    "\n",
    "transaction = Transaction(\n",
    "    nonce=90,\n",
    "    sender=account.address,\n",
    "    receiver=Address.new_from_bech32(\"erd1spyavw0956vq68xj8y4tenjpq2wd5a9p2c6j8gsz7ztyrnpxrruqzu66jx\"),\n",
    "    value=1000000000000000000,\n",
    "    gas_limit=50000,\n",
    "    chain_id=\"D\"\n",
    ")\n",
    "\n",
    "# apply the signature on the transaction\n",
    "transaction.signature = account.sign_transaction(transaction)\n",
    "\n",
    "# instantiating a public key\n",
    "alice = Address.new_from_bech32(\"erd1qyu5wthldzr8wx5c9ucg8kjagg0jfs53s8nr3zpz3hypefsdd8ssycr6th\")\n",
    "public_key = UserPublicKey(alice.get_public_key())\n",
    "\n",
    "# serialize the transaction for verification\n",
    "transaction_computer = TransactionComputer()\n",
    "serialized_transaction = transaction_computer.compute_bytes_for_verifying(transaction)\n",
    "\n",
    "# verify the signature\n",
    "is_signed_by_alice = public_key.verify(\n",
    "    data=serialized_transaction,\n",
    "    signature=transaction.signature\n",
    ")\n",
    "\n",
    "print(\"Transaction is signed by Alice:\", is_signed_by_alice)"
   ]
  },
  {
   "cell_type": "markdown",
   "metadata": {},
   "source": [
    "#### Sending messages over boundaries\n",
    "\n",
    "Generally speaking, signed `Message` objects are meant to be sent to a remote party (e.g. a service), which can then verify the signature.\n",
    "\n",
    "In order to prepare a message for transmission, you can use the `MessageComputer.packMessage()` utility method:"
   ]
  },
  {
   "cell_type": "code",
   "execution_count": null,
   "metadata": {},
   "outputs": [],
   "source": [
    "from pathlib import Path\n",
    "from multiversx_sdk import Account, Message, MessageComputer\n",
    "\n",
    "account = Account.new_from_pem(Path(\"../multiversx_sdk/testutils/testwallets/alice.pem\"))\n",
    "\n",
    "# creating a message\n",
    "message = Message(data=\"this is a test message\".encode(), address=account.address)\n",
    "\n",
    "# signing the message\n",
    "message.signature = account.sign_message(message)\n",
    "\n",
    "message_computer = MessageComputer()\n",
    "packed_message = message_computer.pack_message(message)\n",
    "print(packed_message)"
   ]
  },
  {
   "cell_type": "markdown",
   "metadata": {},
   "source": [
    "Then, on the receiving side, you can use `MessageComputer.unpackMessage()` to reconstruct the message, prior verification:"
   ]
  },
  {
   "cell_type": "code",
   "execution_count": null,
   "metadata": {},
   "outputs": [],
   "source": [
    "from multiversx_sdk import Address, MessageComputer, UserPublicKey\n",
    "\n",
    "alice = Address.new_from_bech32(\"erd1qyu5wthldzr8wx5c9ucg8kjagg0jfs53s8nr3zpz3hypefsdd8ssycr6th\")\n",
    "\n",
    "message_computer = MessageComputer()\n",
    "\n",
    "# restore message\n",
    "message = message_computer.unpack_message(packed_message)\n",
    "\n",
    "# verify signature\n",
    "public_key = UserPublicKey(alice.get_public_key())\n",
    "\n",
    "is_signed_by_alice = public_key.verify(message_computer.compute_bytes_for_verifying(message), message.signature)\n",
    "print(\"Is signed by Alice:\", is_signed_by_alice)"
   ]
  },
  {
   "cell_type": "markdown",
   "metadata": {},
   "source": [
    "## Start your first project\n",
    "\n",
    "We recommend using a Python version equal to `3.11` or higher, but the sdk should work with any version higher than `3.8`. We also recommend using a virtual environment for managing dependencies. Make sure you also have `pip` installed on your machine.\n",
    "\n",
    "Using a Terminal or Console, create a directory on your system (hello-multiversx in this example) and make it the working directory.\n",
    "\n",
    "```sh\n",
    "mkdir hello-multiversx\n",
    "cd hello-multiversx\n",
    "```\n",
    "\n",
    "### Create a virtual environment\n",
    "\n",
    "Run the following command to create and activate your virtual environment:\n",
    "\n",
    "```sh\n",
    "python3 -m venv ./venv\n",
    "source ./venv/bin/activate\n",
    "```\n",
    "\n",
    "After the virtual environment is created, we can install the sdk running the following command:\n",
    "\n",
    "```sh\n",
    "pip install multiversx-sdk\n",
    "```\n",
    "\n",
    "If you wish to interact with Ledger devices through the sdk, install the sdk as follows:\n",
    "\n",
    "```sh\n",
    "pip install multiversx-sdk[ledger]\n",
    "```\n",
    "\n",
    "If your project has multiple dependencies, we recommend using a `requirements.txt` file for having all dependencies in one place. Inside the file we are going to place each dependency on a new line:\n",
    "\n",
    "```sh\n",
    "multiversx-sdk\n",
    "```\n",
    "\n",
    "Additionally, we can also install it directly from GitHub. Place this line on a new line of your `requirements.txt` file. In this example, we are going to install the version `1.0.0`:\n",
    "\n",
    "```sh\n",
    "git+https://git@github.com/multiversx/mx-sdk-py.git@v1.0.0#egg=multiversx_sdk\n",
    "```\n",
    "\n",
    "If you've places all dependencies in a `requirements.txt` file, make sure you also install them by running:\n",
    "\n",
    "```sh\n",
    "pip install -r requirements.txt\n",
    "```\n",
    "\n",
    "We can then create a `main.py` file where we can write our code.\n",
    "\n",
    "### Importing objects from the sdk\n",
    "\n",
    "The most common classes can be imported from package level:\n",
    "\n",
    "```py\n",
    "from multiversx_sdk import Address, Transaction\n",
    "```\n",
    "\n",
    "When interacting with smart contracts, we might want to make use of the abi file or other contract types. We should import those from the abi subpackage.\n",
    "\n",
    "```py\n",
    "from multiversx_sdk.abi import Abi, BigUIntValue, StringValue\n",
    "```"
   ]
  }
 ],
 "metadata": {
  "kernelspec": {
   "display_name": "venv",
   "language": "python",
   "name": "python3"
  },
  "language_info": {
   "codemirror_mode": {
    "name": "ipython",
    "version": 3
   },
   "file_extension": ".py",
   "mimetype": "text/x-python",
   "name": "python",
   "nbconvert_exporter": "python",
   "pygments_lexer": "ipython3",
   "version": "3.13.0"
  }
 },
 "nbformat": 4,
 "nbformat_minor": 2
}
